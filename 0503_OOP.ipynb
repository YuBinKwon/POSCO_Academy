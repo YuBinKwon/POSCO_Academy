{
 "cells": [
  {
   "cell_type": "markdown",
   "id": "2c335dea",
   "metadata": {},
   "source": [
    "###### PPT 비밀번호 : 230502"
   ]
  },
  {
   "cell_type": "markdown",
   "id": "8c11ff46",
   "metadata": {},
   "source": [
    "클래스는 데이터 어트리뷰트와 메서드 어트리뷰트로 구성됨"
   ]
  },
  {
   "cell_type": "code",
   "execution_count": 2,
   "id": "7528c930",
   "metadata": {},
   "outputs": [],
   "source": [
    "class Dog:\n",
    "    \"\"\" A Simple example class\"\"\" # 단순 주석\n",
    "    \n",
    "    name = 'MongJa' #데이터 어트리뷰트\n",
    "    \n",
    "    def bark(self): #메서드 어트리뷰트 - 함수 정의\n",
    "        return 'wal wal'\n",
    "    \n",
    "# 클래스 안에 정의 되어 있는 함수는 첫번째 인자가 무조건 self\n",
    "# 메서드 어트리뷰트는 무조건 인자를 받아야함, 빈 괄호는 안 됨 \n",
    "# 첫번째 인자는 항상 고정 되어 있고 이를 명시적으로 표현하기 위해 관습적으로 self라고 지칭"
   ]
  },
  {
   "cell_type": "code",
   "execution_count": 10,
   "id": "e772bcd5",
   "metadata": {},
   "outputs": [
    {
     "name": "stdout",
     "output_type": "stream",
     "text": [
      "MongJa\n",
      "wal wal\n"
     ]
    }
   ],
   "source": [
    "#어트리 뷰트 참조\n",
    "# Dog.name -> Dog안에 정의된 name에 접근이 가능\n",
    "\n",
    "#인스턴스 만들기 - 인스턴스 : 클래스라는 설계도를 통해 만들어진 실제 객체, 결과\n",
    "\n",
    "dog1 = Dog() # 인스턴스 객체 만든거\n",
    "\n",
    "print(dog1.name) # 어트리뷰트를 참조한거\n",
    "print(dog1.bark()) \n",
    "# self라는 인자를 받겠다고 선언함 근데 넘겨주는 인자가 없음\n",
    "# 인스턴스 안에 정의된 메서드 어트리뷰트를 호출 할 때는 어떤 인자가 기본적으로 넘어가게 됨\n",
    "# 어떤 인자는 자기 자신, 내부에서 자체적으로 자기 자신(dog1)를 인자로 넘겨줌\n",
    "# 그냥 함수 호출 할 때 명시적으로 안 적고 그냥 빈 괄호로 넘겨줘도 가능하다"
   ]
  },
  {
   "cell_type": "code",
   "execution_count": 13,
   "id": "660f451a",
   "metadata": {},
   "outputs": [
    {
     "data": {
      "text/plain": [
       "<bound method Dog.bark of <__main__.Dog object at 0x7f51dcb0ad70>>"
      ]
     },
     "execution_count": 13,
     "metadata": {},
     "output_type": "execute_result"
    }
   ],
   "source": [
    "dog1.bark \n",
    "\n",
    "# 함수를 호출할 때는 ()안에 인자를 넣어야 함\n",
    "# ()가 없으면 함수의 정보를 보는 명령문"
   ]
  },
  {
   "cell_type": "code",
   "execution_count": null,
   "id": "65c08e04",
   "metadata": {},
   "outputs": [],
   "source": [
    "dog.age = 2\n",
    "# 이건 추천 하지 않는 방법 - 오류가 날 수도 있음\n",
    "# 인스턴스 정의 밖에서 새로운 함수를 만드는건 가능하지만 오류 발생 가능성 있음"
   ]
  },
  {
   "cell_type": "code",
   "execution_count": 14,
   "id": "8e5c35b6",
   "metadata": {},
   "outputs": [
    {
     "data": {
      "text/plain": [
       "'wal wal'"
      ]
     },
     "execution_count": 14,
     "metadata": {},
     "output_type": "execute_result"
    }
   ],
   "source": [
    "# 클래스 안에 정의된 함수를 메서드라고 부름\n",
    "# 메서드는 무조건 인자 하나가 필요함\n",
    "# 그 인자는 대상이 되는 객체 - 자동으로 넘어감 => 그래서 호출 할 때 인자 없어도 되는거임\n",
    "\n",
    "dog1.bark() \n",
    "#dog1를 호출한 자기 자신이 인자로 넘어가게 됨"
   ]
  },
  {
   "cell_type": "code",
   "execution_count": 15,
   "id": "da54db61",
   "metadata": {},
   "outputs": [],
   "source": [
    "# 특수 메서드 - 내가 따로 정의해주지 않아도 클래스 정의하면 자동으로 갖게 됨 그래서 특수임\n",
    "# 걍 기본템\n",
    "# 얘의 특징은 앞뒤로 언더바 2개가 있음 - __init__\n",
    "# 인스턴스 만들면 알아서 __init__이 호출됨\n",
    "# return 값이 없음. return (None) None은 필수 아님\n",
    "# 특징 : 알아서 호출, 리턴 값 없음\n",
    "\n",
    "# 자동으로 호출되어서 인스턴스 초기화할 때 사용..?\n",
    "class Sample:\n",
    "    def __init__(self): #__init__ 덮어쓰기\n",
    "        print(\"init 함수가 호출되었네요!\")"
   ]
  },
  {
   "cell_type": "code",
   "execution_count": 17,
   "id": "4f7be46c",
   "metadata": {},
   "outputs": [
    {
     "name": "stdout",
     "output_type": "stream",
     "text": [
      "init 함수가 호출되었네요!\n"
     ]
    }
   ],
   "source": [
    "a = Sample() # init함수가 수정됨, 프린트가 자동으로 호줄됨을 알 수 있다. \n",
    "#init이 자동으로 호출되는거니까 인스턴스 생성만 해도 프린트가 찍힌걸까? - 맞다고함"
   ]
  },
  {
   "cell_type": "code",
   "execution_count": 24,
   "id": "bf1a2e1b",
   "metadata": {},
   "outputs": [],
   "source": [
    "# __init__ 안 쓴 거\n",
    "class Building:\n",
    "    name = '공학 1동'\n",
    "    h = 3\n",
    "    elev = True\n",
    "    \n",
    "    def get_info(self):\n",
    "        print(\"건물 이름 =\", self.name)\n",
    "        # 대상이 되는 객체가 가지고 있는 이름을 출력하기 위해 self.name이 되는거임\n",
    "        print(\"건물 층수 =\", self.h)\n",
    "        print(\"엘리베티어 유무 = \", self.elev)"
   ]
  },
  {
   "cell_type": "code",
   "execution_count": 28,
   "id": "cd569ba4",
   "metadata": {},
   "outputs": [],
   "source": [
    "# 인스턴스 a랑 b 생성\n",
    "a = Building()\n",
    "b = Building()"
   ]
  },
  {
   "cell_type": "code",
   "execution_count": 29,
   "id": "4921dbef",
   "metadata": {},
   "outputs": [
    {
     "name": "stdout",
     "output_type": "stream",
     "text": [
      "건물 이름 = 공학 1동\n",
      "건물 층수 = 3\n",
      "엘리베티어 유무 =  True\n",
      "\n",
      "건물 이름 = 공학 1동\n",
      "건물 층수 = 3\n",
      "엘리베티어 유무 =  True\n"
     ]
    }
   ],
   "source": [
    "a.get_info()\n",
    "print() # 가운데 칸 띄우기\n",
    "b.get_info() \n",
    "# 서로 다른 빌딩이면 이름이 좀 달라야 하는거 아님?\n",
    "# 이 코드에서는 걍 공학 1동, 3층, 엘베 있음을 기본으로 주고 있어서\n",
    "# 모두 똑같이 나오고 있는거임"
   ]
  },
  {
   "cell_type": "code",
   "execution_count": 32,
   "id": "0a9b5982",
   "metadata": {},
   "outputs": [],
   "source": [
    "# __init__ 쓴 거\n",
    "class Building:\n",
    "    def __init__(self, name='공학 1동', h=3, elev=True): #메서드니까 맨 처음 인자는 self\n",
    "        self.name = name \n",
    "        #self(객체)안에 name이라는 변수를 만들어서 input으로 받은 name 값을 넣겠다. \n",
    "        self.h = h\n",
    "        self.elev = elev\n",
    "    \n",
    "    def get_info(self):\n",
    "        print(\"건물 이름 =\", self.name)\n",
    "        print(\"건물 층수 =\", self.h)\n",
    "        print(\"엘리베티어 유무 = \", self.elev)"
   ]
  },
  {
   "cell_type": "code",
   "execution_count": 33,
   "id": "db4b928d",
   "metadata": {},
   "outputs": [],
   "source": [
    "a = Building() # 인자를 안 넣어 줬으니까 디폴트 값이 나오는거임\n",
    "b = Building('공학 2동', 10, True) \n",
    "# 클래스를 만들 때 넘겨준 인자는 __init__함수의 인자로 넘어가게 됨"
   ]
  },
  {
   "cell_type": "code",
   "execution_count": 34,
   "id": "92d74ad4",
   "metadata": {},
   "outputs": [
    {
     "name": "stdout",
     "output_type": "stream",
     "text": [
      "건물 이름 = 공학 1동\n",
      "건물 층수 = 3\n",
      "엘리베티어 유무 =  True\n",
      "\n",
      "건물 이름 = 공학 2동\n",
      "건물 층수 = 10\n",
      "엘리베티어 유무 =  True\n"
     ]
    }
   ],
   "source": [
    "a.get_info() \n",
    "print() \n",
    "b.get_info() \n",
    "# 건물 마다 다른 특징을 가지게 만들 수 있음"
   ]
  },
  {
   "cell_type": "markdown",
   "id": "1524b545",
   "metadata": {},
   "source": [
    "### 클래스 실습"
   ]
  },
  {
   "cell_type": "code",
   "execution_count": 71,
   "id": "ec0dcebf",
   "metadata": {},
   "outputs": [],
   "source": [
    "class Human:\n",
    "    def __init__(self, name, age, height, weight):\n",
    "        self.name = name\n",
    "        self.age = age\n",
    "        self.height = height\n",
    "        self.weight = weight\n",
    "        \n",
    "    def change(self, height_c, weight_c, age_c =1):\n",
    "        self.age += age_c\n",
    "        self.height += height_c\n",
    "        self.weight += weight_c\n",
    "        \n",
    "        print(\"{}의 나이가 {}만큼 변해서 현재 {}살\".format(self.name, age_c, self.age))\n",
    "        print(\"{}의 키가 {}kg만큼 변해서 현재 {}kg\".format(self.name, height_c, self.height))\n",
    "        print(\"{}의 몸무게가 {}cm만큼 변해서 현재 {}cm\".format(self.name, weight_c, self.weight))"
   ]
  },
  {
   "cell_type": "code",
   "execution_count": 72,
   "id": "05ae938a",
   "metadata": {},
   "outputs": [],
   "source": [
    "Hong = Human('Hong Gildong', 22, 190, 82)\n",
    "Junsu = Human('Sung Junsu', 19, 188, 78)\n",
    "\n",
    "human = [Hong, Junsu]"
   ]
  },
  {
   "cell_type": "code",
   "execution_count": 73,
   "id": "7cc95b68",
   "metadata": {},
   "outputs": [
    {
     "name": "stdout",
     "output_type": "stream",
     "text": [
      "이름 : Hong Gildong, 나이 : 22, 키 : 190, 몸무게 : 82\n",
      "이름 : Sung Junsu, 나이 : 19, 키 : 188, 몸무게 : 78\n"
     ]
    }
   ],
   "source": [
    "for i in human:\n",
    "    print(\"이름 : {}, 나이 : {}, 키 : {}, 몸무게 : {}\".format(i.name, i.age, i.height, i.weight))"
   ]
  },
  {
   "cell_type": "code",
   "execution_count": 74,
   "id": "e8afe187",
   "metadata": {},
   "outputs": [
    {
     "name": "stdout",
     "output_type": "stream",
     "text": [
      "Hong Gildong의 나이가 1만큼 변해서 현재 23살\n",
      "Hong Gildong의 키가 3kg만큼 변해서 현재 193kg\n",
      "Hong Gildong의 몸무게가 10cm만큼 변해서 현재 92cm\n",
      "\n",
      "Sung Junsu의 나이가 1만큼 변해서 현재 20살\n",
      "Sung Junsu의 키가 8kg만큼 변해서 현재 196kg\n",
      "Sung Junsu의 몸무게가 5cm만큼 변해서 현재 83cm\n"
     ]
    }
   ],
   "source": [
    "Hong.change(3, 10)\n",
    "print()\n",
    "Junsu.change(8, 5)"
   ]
  },
  {
   "cell_type": "markdown",
   "id": "a708557d",
   "metadata": {},
   "source": [
    "### 클래스 실습 - 힌트 주심"
   ]
  },
  {
   "cell_type": "code",
   "execution_count": 86,
   "id": "eea4104a",
   "metadata": {},
   "outputs": [],
   "source": [
    "class Person:\n",
    "    def __init__(self, name, age, height, weight):\n",
    "        self.name = name\n",
    "        self.age = age\n",
    "        self.height = height\n",
    "        self.weight = weight\n",
    "        \n",
    "    def add_age(self, age_c=1):\n",
    "        self.age += age_c\n",
    "        \n",
    "    def add_height(self, height_c):\n",
    "        self.height += height_c\n",
    "        \n",
    "    def add_weight(self, weight_c):\n",
    "        self.weight += weight_c\n",
    "        \n",
    "    def get_info(self):\n",
    "        print(\"{}의 나이가 현재 {}살\".format(self.name, self.age))\n",
    "        print(\"{}의 키가 현재 {}kg\".format(self.name, self.height))\n",
    "        print(\"{}의 몸무게가 {}cm\".format(self.name, self.weight))"
   ]
  },
  {
   "cell_type": "code",
   "execution_count": 87,
   "id": "ed0c82ee",
   "metadata": {},
   "outputs": [
    {
     "name": "stdout",
     "output_type": "stream",
     "text": [
      "이름 : Kim, 나이 : 23, 키 : 151, 몸무게 : 48\n",
      "이름 : Lee, 나이 : 45, 키 : 165, 몸무게 : 58\n"
     ]
    }
   ],
   "source": [
    "Kim = Person('Kim', 23, 151, 48)\n",
    "Lee = Person('Lee', 45, 165, 58)\n",
    "\n",
    "human = [Kim, Lee]\n",
    "for i in human:\n",
    "    print(\"이름 : {}, 나이 : {}, 키 : {}, 몸무게 : {}\".format(i.name, i.age, i.height, i.weight))"
   ]
  },
  {
   "cell_type": "code",
   "execution_count": 88,
   "id": "c340382e",
   "metadata": {},
   "outputs": [],
   "source": [
    "Kim.add_age()\n",
    "Kim.add_height(3)\n",
    "Kim.add_weight(5)\n",
    "\n",
    "Lee.add_age()\n",
    "Lee.add_height(8)\n",
    "Lee.add_weight(5)"
   ]
  },
  {
   "cell_type": "code",
   "execution_count": 89,
   "id": "4b746a9d",
   "metadata": {},
   "outputs": [
    {
     "name": "stdout",
     "output_type": "stream",
     "text": [
      "Kim의 나이가 현재 24살\n",
      "Kim의 키가 현재 154kg\n",
      "Kim의 몸무게가 53cm\n",
      "\n",
      "Lee의 나이가 현재 46살\n",
      "Lee의 키가 현재 173kg\n",
      "Lee의 몸무게가 63cm\n"
     ]
    }
   ],
   "source": [
    "Kim.get_info()\n",
    "print()\n",
    "Lee.get_info()"
   ]
  },
  {
   "cell_type": "markdown",
   "id": "f43cc683",
   "metadata": {},
   "source": [
    "### 클래스 조교님 예시"
   ]
  },
  {
   "cell_type": "code",
   "execution_count": 99,
   "id": "768bebd1",
   "metadata": {},
   "outputs": [],
   "source": [
    "class Person:\n",
    "    def __init__(self, name, age, _h, _w):\n",
    "        self.name = name\n",
    "        self.age = age\n",
    "        self.h = _h\n",
    "        self.w = _w\n",
    "        \n",
    "    def print_info(self):\n",
    "        print(\"이름 : \", self.name)\n",
    "        print(\"나이 : \", self.age)\n",
    "        print(\"키 : \", self.h)\n",
    "        print(\"몸무게 : \", self.w)\n",
    "        print()\n",
    "\n",
    "    def add_age(self):\n",
    "        self.age += 1\n",
    "        \n",
    "    def change_height(self, new_h):\n",
    "        self.h = new_h\n",
    "        \n",
    "    def change_weight(self, new_w):\n",
    "        self.w = new_w"
   ]
  },
  {
   "cell_type": "code",
   "execution_count": 101,
   "id": "03d76c0c",
   "metadata": {},
   "outputs": [
    {
     "name": "stdout",
     "output_type": "stream",
     "text": [
      "이름 :  홍길동\n",
      "나이 :  20\n",
      "키 :  170\n",
      "몸무게 :  60\n",
      "\n",
      "이름 :  아무개\n",
      "나이 :  30\n",
      "키 :  180\n",
      "몸무게 :  70\n",
      "\n",
      "이름 :  홍길동\n",
      "나이 :  21\n",
      "키 :  177\n",
      "몸무게 :  63\n",
      "\n"
     ]
    }
   ],
   "source": [
    "a = Person(\"홍길동\", 20, 170, 60)\n",
    "b = Person(\"아무개\", 30, 180, 70)\n",
    "\n",
    "a.print_info()\n",
    "b.print_info()\n",
    "\n",
    "a.add_age()\n",
    "b.add_age()\n",
    "\n",
    "a.change_height(177)\n",
    "a.change_weight(63)\n",
    "a.print_info()"
   ]
  },
  {
   "cell_type": "code",
   "execution_count": 102,
   "id": "e77f00d3",
   "metadata": {},
   "outputs": [],
   "source": [
    "# self\n",
    "\n",
    "class Dog:\n",
    "    def __init__(self, name, age):\n",
    "        self.name = name\n",
    "        self.age = age\n",
    "        \n",
    "    def print_name_age(self):\n",
    "        print(self.name, self.age)"
   ]
  },
  {
   "cell_type": "code",
   "execution_count": 105,
   "id": "1fd5300e",
   "metadata": {},
   "outputs": [],
   "source": [
    "d1 = Dog(\"yomi\", 5)\n",
    "d2 = Dog(\"DangDangE\", 2)"
   ]
  },
  {
   "cell_type": "code",
   "execution_count": 106,
   "id": "f542c7f3",
   "metadata": {},
   "outputs": [
    {
     "name": "stdout",
     "output_type": "stream",
     "text": [
      "yomi 5\n",
      "yomi 5\n"
     ]
    }
   ],
   "source": [
    "d1.print_name_age()\n",
    "# Dog.print_name_age(d1) \n",
    "# 내부적으로 이렇게 진행됨 Dog 클래스의 프린트어쩌고 함수를 쓸건데 그때 인자로 d1을 넣을거임\n",
    "Dog.print_name_age(d1) "
   ]
  },
  {
   "cell_type": "code",
   "execution_count": 115,
   "id": "2a384cb6",
   "metadata": {},
   "outputs": [],
   "source": [
    "a = [1, 2, 3]\n",
    "b = [4, 5, 6]\n",
    "c = [7, 8, 9]"
   ]
  },
  {
   "cell_type": "code",
   "execution_count": 114,
   "id": "885c3dfa",
   "metadata": {},
   "outputs": [
    {
     "name": "stdout",
     "output_type": "stream",
     "text": [
      "[1, 2, 3, 5]\n",
      "\n",
      "[1, 2, 3, 5, 5]\n"
     ]
    }
   ],
   "source": [
    "list.append(a, 5) \n",
    "#list함수의 append함수를 쓸건데 그때 바꿀 인스턴스는 a고 추가할 값은 5\n",
    "print(a)\n",
    "print()\n",
    "a.append(5)임\n",
    "# a가 list라는 클래스의 인스턴스이기때문에 인스턴스 a.append(추가할 값)만 써도 되는거임\n",
    "print(a)\n",
    "#위에서 5한번 추가하고 또 5를 추가해서 5가 두 번 나오는 거임"
   ]
  },
  {
   "cell_type": "code",
   "execution_count": 117,
   "id": "6adfcc05",
   "metadata": {},
   "outputs": [],
   "source": [
    "# 클래스 데이터와 인스턴스 데이터\n",
    "# 클래스 안에서 정의된 데이터는 클래스 데이터\n",
    "# 인스턴스만이 가지는 데이터는 인스턴스 데이터\n",
    "\n",
    "class Dog:\n",
    "    kind = 'canine' # kind는 클래스 데이터\n",
    "    \n",
    "    def __init__(self, name): #name은 인스턴스 데이터\n",
    "        self.name = name"
   ]
  },
  {
   "cell_type": "code",
   "execution_count": 121,
   "id": "ff9bb0a8",
   "metadata": {
    "scrolled": true
   },
   "outputs": [
    {
     "name": "stdout",
     "output_type": "stream",
     "text": [
      "canine\n",
      "canine\n",
      "kind는 클래스 데이터이기 때문에 모든 인스턴스가 같은 값을 가짐\n",
      "\n",
      "Fido\n",
      "buddy\n",
      "name은 인스턴스 데이터로 인스턴스마다 다른 값을 가짐\n"
     ]
    }
   ],
   "source": [
    "d = Dog('Fido')\n",
    "e = Dog('buddy')\n",
    "\n",
    "print(d.kind)\n",
    "print(e.kind)\n",
    "print('kind는 클래스 데이터이기 때문에 모든 인스턴스가 같은 값을 가짐')\n",
    "print()\n",
    "print(d.name)\n",
    "print(e.name)\n",
    "print('name은 인스턴스 데이터로 인스턴스마다 다른 값을 가짐')"
   ]
  },
  {
   "cell_type": "code",
   "execution_count": 122,
   "id": "681fda49",
   "metadata": {},
   "outputs": [
    {
     "name": "stdout",
     "output_type": "stream",
     "text": [
      "puppy\n",
      "canine\n"
     ]
    }
   ],
   "source": [
    "# d에서 kind라는 클래스데이터를 바꾸면 모든 인스턴스가 바뀐 kind값을 가질까?\n",
    "\n",
    "d.kind = 'puppy'\n",
    "print(d.kind)\n",
    "print(e.kind)\n",
    "# 이건 class의 특징이 아니라 문자열의 특징으로 문자열은 Immutable함\n",
    "# d.kind에 'puppy'라는 새로운 값을 할당하는거라서 원본은 안 바뀜"
   ]
  },
  {
   "cell_type": "code",
   "execution_count": 128,
   "id": "2fbcdf15",
   "metadata": {},
   "outputs": [],
   "source": [
    "class Dog:\n",
    "    tricks = [] # 리스트는 대표적으로 수정가능함 Mutable\n",
    "    \n",
    "    def __init__(self, name): #name은 인스턴스 데이터\n",
    "        self.name = name\n",
    "        \n",
    "    def add_trick(self, trick):\n",
    "        self.tricks.append(trick)"
   ]
  },
  {
   "cell_type": "code",
   "execution_count": 129,
   "id": "14a7f7f8",
   "metadata": {},
   "outputs": [
    {
     "name": "stdout",
     "output_type": "stream",
     "text": [
      "[]\n",
      "[]\n"
     ]
    }
   ],
   "source": [
    "d = Dog('Fido')\n",
    "e = Dog('buddy')\n",
    "\n",
    "print(d.tricks)\n",
    "print(e.tricks) "
   ]
  },
  {
   "cell_type": "code",
   "execution_count": 130,
   "id": "4a2608b3",
   "metadata": {},
   "outputs": [
    {
     "name": "stdout",
     "output_type": "stream",
     "text": [
      "['roll over']\n",
      "['roll over']\n",
      "\n",
      "['roll over', 'play dead']\n",
      "['roll over', 'play dead']\n"
     ]
    }
   ],
   "source": [
    "d.add_trick('roll over')\n",
    "print(d.tricks)\n",
    "print(e.tricks) # 리스트는 뮤터블하기 때문에 e도 같이 바뀌는거임\n",
    "print()\n",
    "e.add_trick('play dead')\n",
    "print(d.tricks) # 역시 뮤터블해서 e를 수정했는데 d도 같이 수정된게 보임\n",
    "print(e.tricks)"
   ]
  },
  {
   "cell_type": "code",
   "execution_count": 131,
   "id": "f6b29240",
   "metadata": {},
   "outputs": [],
   "source": [
    "# 리스트는 뮤터블하니까 계속 바뀌니까 리스트를 인스턴스 데이터로 생성을 해서 \n",
    "# 다른 쪽에서도 수정해도 영향이 안가게 만들 수 있음\n",
    "\n",
    "class Dog:\n",
    "    \n",
    "    def __init__(self, name): #name은 인스턴스 데이터\n",
    "        self.name = name\n",
    "        self.tricks = [] \n",
    "        \n",
    "    def add_trick(self, trick):\n",
    "        self.tricks.append(trick)"
   ]
  },
  {
   "cell_type": "code",
   "execution_count": 132,
   "id": "ba784792",
   "metadata": {},
   "outputs": [
    {
     "name": "stdout",
     "output_type": "stream",
     "text": [
      "[]\n",
      "[]\n",
      "\n",
      "['roll over']\n",
      "[]\n",
      "\n",
      "['roll over']\n",
      "['play dead']\n"
     ]
    }
   ],
   "source": [
    "d = Dog('Fido')\n",
    "e = Dog('buddy')\n",
    "\n",
    "print(d.tricks)\n",
    "print(e.tricks) \n",
    "print()\n",
    "d.add_trick('roll over')\n",
    "print(d.tricks)\n",
    "print(e.tricks) \n",
    "print()\n",
    "e.add_trick('play dead')\n",
    "print(d.tricks) \n",
    "print(e.tricks)"
   ]
  },
  {
   "cell_type": "markdown",
   "id": "5d755700",
   "metadata": {},
   "source": [
    "### 실습 문제1"
   ]
  },
  {
   "cell_type": "code",
   "execution_count": 143,
   "id": "0c1b0054",
   "metadata": {},
   "outputs": [],
   "source": [
    "class BankAccount:\n",
    "    \n",
    "    def __init__(self, balance=0, name='none'):\n",
    "        self.balance = balance\n",
    "        self.name = name\n",
    "        \n",
    "    def deposit(self, amount):\n",
    "        self.balance += amount\n",
    "        \n",
    "    def withdraw(self, amount):\n",
    "        if self.balance > amount:\n",
    "            self.balance -= amount\n",
    "        else:\n",
    "            print(\"잔액 부족\")\n",
    "        \n",
    "    def get_info(self):\n",
    "        print(\"계좌 : \", self.name)\n",
    "        print(\"잔액 : \", self.balance)"
   ]
  },
  {
   "cell_type": "code",
   "execution_count": 144,
   "id": "7752d8da",
   "metadata": {},
   "outputs": [],
   "source": [
    "Milya_account = BankAccount(50000, \"Milya\")\n",
    "Junsu_account = BankAccount(10000000, \"Cool\")"
   ]
  },
  {
   "cell_type": "code",
   "execution_count": 145,
   "id": "b742ed2c",
   "metadata": {},
   "outputs": [
    {
     "name": "stdout",
     "output_type": "stream",
     "text": [
      "계좌 :  Milya\n",
      "잔액 :  50000\n",
      "\n",
      "계좌 :  Milya\n",
      "잔액 :  60000\n",
      "\n",
      "잔액 부족\n",
      "계좌 :  Cool\n",
      "잔액 :  10000000\n"
     ]
    }
   ],
   "source": [
    "Milya_account.get_info()\n",
    "print()\n",
    "Milya_account.deposit(10000)\n",
    "Milya_account.get_info()\n",
    "print()\n",
    "Milya_account.withdraw(1000000)\n",
    "Junsu_account.get_info()"
   ]
  },
  {
   "cell_type": "code",
   "execution_count": 146,
   "id": "8a96a70b",
   "metadata": {},
   "outputs": [
    {
     "name": "stdout",
     "output_type": "stream",
     "text": [
      "계좌 :  Cool\n",
      "잔액 :  10000000\n",
      "\n",
      "계좌 :  Cool\n",
      "잔액 :  110000000\n",
      "\n",
      "계좌 :  Cool\n",
      "잔액 :  103468679\n"
     ]
    }
   ],
   "source": [
    "Junsu_account.get_info()\n",
    "print()\n",
    "Junsu_account.deposit(100000000)\n",
    "Junsu_account.get_info()\n",
    "print()\n",
    "Junsu_account.withdraw(6531321)\n",
    "Junsu_account.get_info()"
   ]
  },
  {
   "cell_type": "code",
   "execution_count": null,
   "id": "514ff46c",
   "metadata": {},
   "outputs": [],
   "source": []
  },
  {
   "cell_type": "code",
   "execution_count": null,
   "id": "be3b6686",
   "metadata": {},
   "outputs": [],
   "source": []
  },
  {
   "cell_type": "code",
   "execution_count": null,
   "id": "545c3247",
   "metadata": {},
   "outputs": [],
   "source": []
  }
 ],
 "metadata": {
  "kernelspec": {
   "display_name": "Python 3 (ipykernel)",
   "language": "python",
   "name": "python3"
  },
  "language_info": {
   "codemirror_mode": {
    "name": "ipython",
    "version": 3
   },
   "file_extension": ".py",
   "mimetype": "text/x-python",
   "name": "python",
   "nbconvert_exporter": "python",
   "pygments_lexer": "ipython3",
   "version": "3.10.9"
  }
 },
 "nbformat": 4,
 "nbformat_minor": 5
}
