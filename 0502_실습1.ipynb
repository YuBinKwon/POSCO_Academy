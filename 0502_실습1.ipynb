{
 "cells": [
  {
   "cell_type": "markdown",
   "id": "60df9020",
   "metadata": {},
   "source": [
    "## 집합(set) \n",
    "순서X, 중복X"
   ]
  },
  {
   "cell_type": "code",
   "execution_count": 1,
   "id": "c5de176b",
   "metadata": {},
   "outputs": [],
   "source": [
    "s1 = set([1, 2, 3])\n",
    "s2 = {3, 4, 5}"
   ]
  },
  {
   "cell_type": "code",
   "execution_count": 2,
   "id": "8bf0f659",
   "metadata": {},
   "outputs": [
    {
     "data": {
      "text/plain": [
       "'HelloHello'"
      ]
     },
     "execution_count": 2,
     "metadata": {},
     "output_type": "execute_result"
    }
   ],
   "source": [
    "word = \"Hello\"*2\n",
    "word"
   ]
  },
  {
   "cell_type": "code",
   "execution_count": 3,
   "id": "c40da4f1",
   "metadata": {},
   "outputs": [
    {
     "data": {
      "text/plain": [
       "['H', 'e', 'l', 'l', 'o', 'H', 'e', 'l', 'l', 'o']"
      ]
     },
     "execution_count": 3,
     "metadata": {},
     "output_type": "execute_result"
    }
   ],
   "source": [
    "word_list = list(word)\n",
    "word_list"
   ]
  },
  {
   "cell_type": "code",
   "execution_count": 4,
   "id": "54ac9557",
   "metadata": {},
   "outputs": [
    {
     "data": {
      "text/plain": [
       "{'H', 'e', 'l', 'o'}"
      ]
     },
     "execution_count": 4,
     "metadata": {},
     "output_type": "execute_result"
    }
   ],
   "source": [
    "s3 = set(word_list)\n",
    "s3"
   ]
  },
  {
   "cell_type": "code",
   "execution_count": 5,
   "id": "d937806f",
   "metadata": {},
   "outputs": [
    {
     "data": {
      "text/plain": [
       "{'H', 'e', 'l', 'o'}"
      ]
     },
     "execution_count": 5,
     "metadata": {},
     "output_type": "execute_result"
    }
   ],
   "source": [
    "s4 = set(\"Hello\")\n",
    "s4"
   ]
  },
  {
   "cell_type": "code",
   "execution_count": 7,
   "id": "3e631c97",
   "metadata": {},
   "outputs": [
    {
     "data": {
      "text/plain": [
       "{1, 2, 3, 4, 5}"
      ]
     },
     "execution_count": 7,
     "metadata": {},
     "output_type": "execute_result"
    }
   ],
   "source": [
    "s = {1, 2, 3, 4, 5, 3, 4}\n",
    "s"
   ]
  },
  {
   "cell_type": "code",
   "execution_count": 8,
   "id": "c44e6bf9",
   "metadata": {},
   "outputs": [
    {
     "data": {
      "text/plain": [
       "{1, 2, 3, 4, 5, 10}"
      ]
     },
     "execution_count": 8,
     "metadata": {},
     "output_type": "execute_result"
    }
   ],
   "source": [
    "s.add(10)\n",
    "s"
   ]
  },
  {
   "cell_type": "code",
   "execution_count": 9,
   "id": "c292f30d",
   "metadata": {},
   "outputs": [
    {
     "data": {
      "text/plain": [
       "{1, 3, 4, 5, 10}"
      ]
     },
     "execution_count": 9,
     "metadata": {},
     "output_type": "execute_result"
    }
   ],
   "source": [
    "s.remove(2)\n",
    "s"
   ]
  },
  {
   "cell_type": "code",
   "execution_count": 13,
   "id": "5e53343e",
   "metadata": {},
   "outputs": [
    {
     "data": {
      "text/plain": [
       "{1, 3, 4, 5, 7, 9, 10}"
      ]
     },
     "execution_count": 13,
     "metadata": {},
     "output_type": "execute_result"
    }
   ],
   "source": [
    "s.update([1, 3, 5, 7, 9])\n",
    "s"
   ]
  },
  {
   "cell_type": "code",
   "execution_count": 14,
   "id": "1c7f9f63",
   "metadata": {},
   "outputs": [
    {
     "data": {
      "text/plain": [
       "{1, 3, 4, 5, 9, 10}"
      ]
     },
     "execution_count": 14,
     "metadata": {},
     "output_type": "execute_result"
    }
   ],
   "source": [
    "# discard - remove와 비슷\n",
    "s.discard(7)\n",
    "s"
   ]
  },
  {
   "cell_type": "code",
   "execution_count": 15,
   "id": "97ce0f5b",
   "metadata": {},
   "outputs": [
    {
     "data": {
      "text/plain": [
       "set()"
      ]
     },
     "execution_count": 15,
     "metadata": {},
     "output_type": "execute_result"
    }
   ],
   "source": [
    "s.clear()\n",
    "s"
   ]
  },
  {
   "cell_type": "code",
   "execution_count": 16,
   "id": "19972254",
   "metadata": {},
   "outputs": [],
   "source": [
    "s1 = {1, 2, 3}\n",
    "s2 = {3, 4, 5}"
   ]
  },
  {
   "cell_type": "code",
   "execution_count": 22,
   "id": "f68442d7",
   "metadata": {},
   "outputs": [
    {
     "name": "stdout",
     "output_type": "stream",
     "text": [
      "{1, 2, 3, 4, 5}\n",
      "{1, 2, 3, 4, 5}\n"
     ]
    }
   ],
   "source": [
    "#합집합\n",
    "print(s1.union(s2))\n",
    "print(s1|s2)"
   ]
  },
  {
   "cell_type": "code",
   "execution_count": 23,
   "id": "6e2fba35",
   "metadata": {},
   "outputs": [
    {
     "name": "stdout",
     "output_type": "stream",
     "text": [
      "{3}\n",
      "{3}\n"
     ]
    }
   ],
   "source": [
    "#교집합\n",
    "print(s1.intersection(s2))\n",
    "print(s1&s2)"
   ]
  },
  {
   "cell_type": "code",
   "execution_count": 24,
   "id": "92da536a",
   "metadata": {},
   "outputs": [
    {
     "name": "stdout",
     "output_type": "stream",
     "text": [
      "{1, 2}\n",
      "{4, 5}\n"
     ]
    }
   ],
   "source": [
    "#차집합\n",
    "print(s1-s2)\n",
    "print(s2.difference(s1))"
   ]
  },
  {
   "cell_type": "markdown",
   "id": "7aa764d3",
   "metadata": {},
   "source": [
    "### 실습 문제1"
   ]
  },
  {
   "cell_type": "code",
   "execution_count": 68,
   "id": "3151ef11",
   "metadata": {},
   "outputs": [],
   "source": [
    "s3 = set()\n",
    "\n",
    "for i in range(1, 100):\n",
    "    if i % 3 == 0 :\n",
    "        s3.update([i])"
   ]
  },
  {
   "cell_type": "code",
   "execution_count": 69,
   "id": "33bdc7ef",
   "metadata": {},
   "outputs": [],
   "source": [
    "s5 = set()\n",
    "\n",
    "for i in range(1, 101):\n",
    "    if i % 5 == 0 :\n",
    "        s5.update([i])"
   ]
  },
  {
   "cell_type": "code",
   "execution_count": 70,
   "id": "a5eef058",
   "metadata": {},
   "outputs": [
    {
     "name": "stdout",
     "output_type": "stream",
     "text": [
      "3과 5의 공배수 :  {75, 45, 15, 90, 60, 30}\n"
     ]
    }
   ],
   "source": [
    "s = s3 & s5\n",
    "print(\"3과 5의 공배수 : \", s)"
   ]
  },
  {
   "cell_type": "code",
   "execution_count": 71,
   "id": "f648028b",
   "metadata": {},
   "outputs": [],
   "source": [
    "def multiples(n):\n",
    "    s = set()\n",
    "    \n",
    "    for i in range(1, 101):\n",
    "        if i % n == 0 :\n",
    "            s.update([i])\n",
    "    \n",
    "    return s"
   ]
  },
  {
   "cell_type": "code",
   "execution_count": 74,
   "id": "3e813840",
   "metadata": {},
   "outputs": [
    {
     "name": "stdout",
     "output_type": "stream",
     "text": [
      "3과 5의 공배수 : 6개\n"
     ]
    }
   ],
   "source": [
    "s3 = multiples(3)\n",
    "s5 = multiples(5)\n",
    "\n",
    "s = s3 & s5\n",
    "print(\"3과 5의 공배수 : \"+str(len(s))+\"개\")"
   ]
  },
  {
   "cell_type": "markdown",
   "id": "7a8f7df6",
   "metadata": {},
   "source": [
    "### 실습 예시"
   ]
  },
  {
   "cell_type": "code",
   "execution_count": 73,
   "id": "0ebb996f",
   "metadata": {},
   "outputs": [
    {
     "name": "stdout",
     "output_type": "stream",
     "text": [
      "3과 5의 공배수 : 6개\n"
     ]
    }
   ],
   "source": [
    "s3 = {i for i in range(3, 100, 3)}\n",
    "s5 = {i for i in range(5, 101, 5)}\n",
    "\n",
    "s = s3 & s5\n",
    "s = sorted(s)\n",
    "print(\"3과 5의 공배수 : \" + str(len(s)) + \"개\")"
   ]
  },
  {
   "cell_type": "markdown",
   "id": "d1c7f001",
   "metadata": {},
   "source": [
    "## 딕셔너리 \n",
    "Key & Value 쌍"
   ]
  },
  {
   "cell_type": "code",
   "execution_count": 1,
   "id": "e24a048b",
   "metadata": {},
   "outputs": [
    {
     "data": {
      "text/plain": [
       "{'kim': 1, 'park': 2}"
      ]
     },
     "execution_count": 1,
     "metadata": {},
     "output_type": "execute_result"
    }
   ],
   "source": [
    "d = {}\n",
    "d['kim'] = 1\n",
    "d['park'] = 2\n",
    "d"
   ]
  },
  {
   "cell_type": "code",
   "execution_count": 2,
   "id": "821289ac",
   "metadata": {},
   "outputs": [
    {
     "data": {
      "text/plain": [
       "2"
      ]
     },
     "execution_count": 2,
     "metadata": {},
     "output_type": "execute_result"
    }
   ],
   "source": [
    "d['park']"
   ]
  },
  {
   "cell_type": "code",
   "execution_count": 3,
   "id": "74190644",
   "metadata": {},
   "outputs": [
    {
     "data": {
      "text/plain": [
       "{'kim': 3, 'park': 2}"
      ]
     },
     "execution_count": 3,
     "metadata": {},
     "output_type": "execute_result"
    }
   ],
   "source": [
    "d['kim'] = 3\n",
    "d"
   ]
  },
  {
   "cell_type": "code",
   "execution_count": 4,
   "id": "f194ba55",
   "metadata": {},
   "outputs": [
    {
     "data": {
      "text/plain": [
       "{'kim': 3, 'park': 2, 'youn': 1}"
      ]
     },
     "execution_count": 4,
     "metadata": {},
     "output_type": "execute_result"
    }
   ],
   "source": [
    "d['youn'] = 1\n",
    "d"
   ]
  },
  {
   "cell_type": "code",
   "execution_count": 5,
   "id": "bebc231e",
   "metadata": {},
   "outputs": [
    {
     "data": {
      "text/plain": [
       "dict_keys(['kim', 'park', 'youn'])"
      ]
     },
     "execution_count": 5,
     "metadata": {},
     "output_type": "execute_result"
    }
   ],
   "source": [
    "d.keys()"
   ]
  },
  {
   "cell_type": "code",
   "execution_count": 6,
   "id": "a6a08d46",
   "metadata": {},
   "outputs": [
    {
     "data": {
      "text/plain": [
       "dict_values([3, 2, 1])"
      ]
     },
     "execution_count": 6,
     "metadata": {},
     "output_type": "execute_result"
    }
   ],
   "source": [
    "d.values()"
   ]
  },
  {
   "cell_type": "code",
   "execution_count": 7,
   "id": "3a40ce8b",
   "metadata": {},
   "outputs": [
    {
     "data": {
      "text/plain": [
       "dict_items([('kim', 3), ('park', 2), ('youn', 1)])"
      ]
     },
     "execution_count": 7,
     "metadata": {},
     "output_type": "execute_result"
    }
   ],
   "source": [
    "d.items()"
   ]
  },
  {
   "cell_type": "code",
   "execution_count": 8,
   "id": "691ce465",
   "metadata": {},
   "outputs": [
    {
     "name": "stdout",
     "output_type": "stream",
     "text": [
      "True\n",
      "False\n"
     ]
    }
   ],
   "source": [
    "print('kim' in d)\n",
    "print('lee' in d)"
   ]
  },
  {
   "cell_type": "code",
   "execution_count": 9,
   "id": "3b550850",
   "metadata": {},
   "outputs": [
    {
     "data": {
      "text/plain": [
       "{'park': 2, 'youn': 1}"
      ]
     },
     "execution_count": 9,
     "metadata": {},
     "output_type": "execute_result"
    }
   ],
   "source": [
    "del d['kim']\n",
    "d"
   ]
  },
  {
   "cell_type": "code",
   "execution_count": 10,
   "id": "ede8b528",
   "metadata": {},
   "outputs": [
    {
     "data": {
      "text/plain": [
       "{}"
      ]
     },
     "execution_count": 10,
     "metadata": {},
     "output_type": "execute_result"
    }
   ],
   "source": [
    "d.clear()\n",
    "d"
   ]
  },
  {
   "cell_type": "markdown",
   "id": "2fe2a23a",
   "metadata": {},
   "source": [
    "### 실습 문제2"
   ]
  },
  {
   "cell_type": "code",
   "execution_count": 46,
   "id": "5896a2e0",
   "metadata": {},
   "outputs": [
    {
     "name": "stdout",
     "output_type": "stream",
     "text": [
      "Enter a sentece: Python is fun!\n"
     ]
    }
   ],
   "source": [
    "sen = input(\"Enter a sentece: \")"
   ]
  },
  {
   "cell_type": "code",
   "execution_count": 53,
   "id": "1e336ded",
   "metadata": {},
   "outputs": [],
   "source": [
    "s = {}\n",
    "\n",
    "for i in sen:\n",
    "    s[i] = sen.count(i)"
   ]
  },
  {
   "cell_type": "code",
   "execution_count": 55,
   "id": "c3caa00d",
   "metadata": {},
   "outputs": [
    {
     "name": "stdout",
     "output_type": "stream",
     "text": [
      "{'P': 1, 'y': 1, 't': 1, 'h': 1, 'o': 1, 'n': 2, ' ': 2, 'i': 1, 's': 1, 'f': 1, 'u': 1, '!': 1}\n"
     ]
    }
   ],
   "source": [
    "print(s)"
   ]
  },
  {
   "cell_type": "markdown",
   "id": "4fd87531",
   "metadata": {},
   "source": [
    "### 실습 예시"
   ]
  },
  {
   "cell_type": "code",
   "execution_count": 56,
   "id": "43158c9f",
   "metadata": {},
   "outputs": [
    {
     "name": "stdout",
     "output_type": "stream",
     "text": [
      "{'P': 1, 'y': 1, 't': 1, 'h': 1, 'o': 1, 'n': 2, ' ': 2, 'i': 1, 's': 1, 'f': 1, 'u': 1, '!': 1}\n"
     ]
    }
   ],
   "source": [
    "d = {}\n",
    "\n",
    "for c in sen:\n",
    "    if c in d:\n",
    "        d[c] += 1\n",
    "    else:\n",
    "        d[c] = 1\n",
    "        \n",
    "print(d)"
   ]
  },
  {
   "cell_type": "markdown",
   "id": "fcbb4b80",
   "metadata": {},
   "source": [
    "## 함수\n",
    "목적 : 코드 재사용, 절차적 분해"
   ]
  },
  {
   "cell_type": "code",
   "execution_count": 61,
   "id": "890aa697",
   "metadata": {},
   "outputs": [],
   "source": [
    "def add(a, b):\n",
    "    result = a+b\n",
    "    return result"
   ]
  },
  {
   "cell_type": "code",
   "execution_count": 62,
   "id": "b100cc30",
   "metadata": {},
   "outputs": [
    {
     "data": {
      "text/plain": [
       "300"
      ]
     },
     "execution_count": 62,
     "metadata": {},
     "output_type": "execute_result"
    }
   ],
   "source": [
    "add_result = add(100, 200)\n",
    "add_result"
   ]
  },
  {
   "cell_type": "code",
   "execution_count": 63,
   "id": "61b11280",
   "metadata": {},
   "outputs": [],
   "source": [
    "def add_and_mul(a, b):\n",
    "    return (a+b, a*b)"
   ]
  },
  {
   "cell_type": "code",
   "execution_count": 65,
   "id": "c2e04a0c",
   "metadata": {},
   "outputs": [
    {
     "name": "stdout",
     "output_type": "stream",
     "text": [
      "7\n",
      "12\n"
     ]
    }
   ],
   "source": [
    "add_res, mul_res = add_and_mul(3, 4)\n",
    "print(add_res)\n",
    "print(mul_res)"
   ]
  },
  {
   "cell_type": "markdown",
   "id": "e0b2e8a3",
   "metadata": {},
   "source": [
    "### 실습 문제1"
   ]
  },
  {
   "cell_type": "code",
   "execution_count": 66,
   "id": "504fd457",
   "metadata": {},
   "outputs": [],
   "source": [
    "def my_len(x):\n",
    "    length = 0\n",
    "    \n",
    "    for i in x:\n",
    "        length += 1\n",
    "        \n",
    "    return length"
   ]
  },
  {
   "cell_type": "code",
   "execution_count": 69,
   "id": "4a3c1c84",
   "metadata": {},
   "outputs": [
    {
     "name": "stdout",
     "output_type": "stream",
     "text": [
      "6 14\n",
      "6 14\n"
     ]
    }
   ],
   "source": [
    "a = [5, 5, 6, 7, 8, 3]\n",
    "b = 'Life is short.'\n",
    "\n",
    "print(len(a), len(b))\n",
    "print(my_len(a), my_len(b))"
   ]
  },
  {
   "cell_type": "markdown",
   "id": "4fa026c4",
   "metadata": {},
   "source": [
    "### 실습 예시"
   ]
  },
  {
   "cell_type": "code",
   "execution_count": 73,
   "id": "3ac022c5",
   "metadata": {},
   "outputs": [],
   "source": [
    "def my_len(x):\n",
    "    length = 0\n",
    "    for i in x:\n",
    "        length += 1\n",
    "    return length"
   ]
  },
  {
   "cell_type": "code",
   "execution_count": 74,
   "id": "596d3cca",
   "metadata": {},
   "outputs": [
    {
     "name": "stdout",
     "output_type": "stream",
     "text": [
      "6 14\n",
      "6 14\n"
     ]
    }
   ],
   "source": [
    "a = [5, 5, 6, 7, 8, 3]\n",
    "b = 'Life is short.'\n",
    "\n",
    "print(len(a), len(b))\n",
    "print(my_len(a), my_len(b))"
   ]
  },
  {
   "cell_type": "markdown",
   "id": "8cc48ed6",
   "metadata": {},
   "source": [
    "### 실습 문제2"
   ]
  },
  {
   "cell_type": "code",
   "execution_count": 92,
   "id": "1f68b3c1",
   "metadata": {},
   "outputs": [],
   "source": [
    "def mult(a, b):\n",
    "    mult_a2b = 1\n",
    "    \n",
    "    while(a<=b):\n",
    "        mult_a2b = mult_a2b*(a)\n",
    "        a = a+1\n",
    "        \n",
    "    return mult_a2b"
   ]
  },
  {
   "cell_type": "code",
   "execution_count": 93,
   "id": "eb016427",
   "metadata": {},
   "outputs": [
    {
     "name": "stdout",
     "output_type": "stream",
     "text": [
      "6\n",
      "120\n"
     ]
    }
   ],
   "source": [
    "print(mult(1, 3))\n",
    "print(mult(2, 5))"
   ]
  },
  {
   "cell_type": "markdown",
   "id": "4094aeb0",
   "metadata": {},
   "source": [
    "### 실습 문제3"
   ]
  },
  {
   "cell_type": "code",
   "execution_count": 84,
   "id": "3a0233f7",
   "metadata": {},
   "outputs": [],
   "source": [
    "def sum_pos_neg(l):\n",
    "    possum = 0\n",
    "    negsum = 0\n",
    "    \n",
    "    for i in l:\n",
    "        if i > 0:\n",
    "            possum +=i\n",
    "        elif i < 0:\n",
    "            negsum += i\n",
    "            \n",
    "    return possum, negsum"
   ]
  },
  {
   "cell_type": "code",
   "execution_count": 85,
   "id": "cbc2e1be",
   "metadata": {},
   "outputs": [
    {
     "name": "stdout",
     "output_type": "stream",
     "text": [
      "7 -9\n"
     ]
    }
   ],
   "source": [
    "possum, negsum = sum_pos_neg([3, 4, -6, -3])\n",
    "print(possum , negsum)"
   ]
  },
  {
   "cell_type": "code",
   "execution_count": 86,
   "id": "827baff9",
   "metadata": {},
   "outputs": [
    {
     "name": "stdout",
     "output_type": "stream",
     "text": [
      "1 -1\n"
     ]
    }
   ],
   "source": [
    "mylist = [0, 0, 0, 0, 0, 0, 0, 0, 1, -1]\n",
    "possum2, negsum2 = sum_pos_neg(mylist)\n",
    "print(possum2 , negsum2)"
   ]
  },
  {
   "cell_type": "code",
   "execution_count": null,
   "id": "9747b799",
   "metadata": {},
   "outputs": [],
   "source": []
  },
  {
   "cell_type": "code",
   "execution_count": null,
   "id": "77abf9d3",
   "metadata": {},
   "outputs": [],
   "source": []
  },
  {
   "cell_type": "code",
   "execution_count": null,
   "id": "e1aea6b3",
   "metadata": {},
   "outputs": [],
   "source": []
  },
  {
   "cell_type": "code",
   "execution_count": null,
   "id": "a9d75636",
   "metadata": {},
   "outputs": [],
   "source": []
  }
 ],
 "metadata": {
  "kernelspec": {
   "display_name": "Python 3",
   "language": "python",
   "name": "python3"
  },
  "language_info": {
   "codemirror_mode": {
    "name": "ipython",
    "version": 3
   },
   "file_extension": ".py",
   "mimetype": "text/x-python",
   "name": "python",
   "nbconvert_exporter": "python",
   "pygments_lexer": "ipython3",
   "version": "3.8.8"
  }
 },
 "nbformat": 4,
 "nbformat_minor": 5
}
