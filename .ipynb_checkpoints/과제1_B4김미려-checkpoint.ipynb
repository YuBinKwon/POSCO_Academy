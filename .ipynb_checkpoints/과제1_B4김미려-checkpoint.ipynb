{
 "cells": [
  {
   "cell_type": "markdown",
   "id": "55ba8c30",
   "metadata": {},
   "source": [
    "### 실습 문제1"
   ]
  },
  {
   "cell_type": "code",
   "execution_count": 1,
   "id": "41458f88",
   "metadata": {},
   "outputs": [],
   "source": [
    "def my_len(x):\n",
    "    length = 0\n",
    "    \n",
    "    for i in x:\n",
    "        length += 1\n",
    "        \n",
    "    return length"
   ]
  },
  {
   "cell_type": "code",
   "execution_count": 2,
   "id": "f391c44a",
   "metadata": {},
   "outputs": [
    {
     "name": "stdout",
     "output_type": "stream",
     "text": [
      "6 14\n",
      "6 14\n"
     ]
    }
   ],
   "source": [
    "a = [5, 5, 6, 7, 8, 3]\n",
    "b = 'Life is short.'\n",
    "\n",
    "print(len(a), len(b))\n",
    "print(my_len(a), my_len(b))"
   ]
  },
  {
   "cell_type": "markdown",
   "id": "77c40ce5",
   "metadata": {},
   "source": [
    "### 실습 문제2"
   ]
  },
  {
   "cell_type": "code",
   "execution_count": 3,
   "id": "c6ef26f6",
   "metadata": {},
   "outputs": [],
   "source": [
    "def mult(a, b):\n",
    "    mult_a2b = 1\n",
    "    \n",
    "    while(a<=b):\n",
    "        mult_a2b = mult_a2b*(a)\n",
    "        a += 1\n",
    "        \n",
    "    return mult_a2b"
   ]
  },
  {
   "cell_type": "code",
   "execution_count": 4,
   "id": "505d0436",
   "metadata": {},
   "outputs": [
    {
     "name": "stdout",
     "output_type": "stream",
     "text": [
      "6\n",
      "120\n"
     ]
    }
   ],
   "source": [
    "print(mult(1, 3))\n",
    "print(mult(2, 5))"
   ]
  },
  {
   "cell_type": "markdown",
   "id": "d123b23e",
   "metadata": {},
   "source": [
    "### 실습 문제3"
   ]
  },
  {
   "cell_type": "code",
   "execution_count": 5,
   "id": "b2d52fb3",
   "metadata": {},
   "outputs": [],
   "source": [
    "def sum_pos_neg(l):\n",
    "    possum = 0\n",
    "    negsum = 0\n",
    "    \n",
    "    for i in l:\n",
    "        if i > 0:\n",
    "            possum +=i\n",
    "        elif i < 0:\n",
    "            negsum += i\n",
    "            \n",
    "    return possum, negsum"
   ]
  },
  {
   "cell_type": "code",
   "execution_count": 6,
   "id": "88ac3ba2",
   "metadata": {},
   "outputs": [
    {
     "name": "stdout",
     "output_type": "stream",
     "text": [
      "7 -9\n",
      "1 -1\n"
     ]
    }
   ],
   "source": [
    "possum, negsum = sum_pos_neg([3, 4, -6, -3])\n",
    "print(possum , negsum)\n",
    "\n",
    "mylist = [0, 0, 0, 0, 0, 0, 0, 0, 1, -1]\n",
    "possum2, negsum2 = sum_pos_neg(mylist)\n",
    "print(possum2 , negsum2)"
   ]
  },
  {
   "cell_type": "markdown",
   "id": "6964922b",
   "metadata": {},
   "source": [
    "### 실습 문제4"
   ]
  },
  {
   "cell_type": "code",
   "execution_count": 7,
   "id": "79744105",
   "metadata": {},
   "outputs": [],
   "source": [
    "import numpy as np\n",
    "\n",
    "def vector_sum(vector, *vectors):\n",
    "    vector = np.array(vector)\n",
    "    vectors_sum = [0, 0]\n",
    "        \n",
    "    for i in vectors:\n",
    "            vector_i = np.array(i)\n",
    "            vectors_sum += vector_i\n",
    "               \n",
    "    sum = vector + vectors_sum\n",
    "    return sum"
   ]
  },
  {
   "cell_type": "code",
   "execution_count": 8,
   "id": "0efe072b",
   "metadata": {},
   "outputs": [
    {
     "name": "stdout",
     "output_type": "stream",
     "text": [
      "[1.5 1.5] [7.5 5.5] [4.13 2.72]\n"
     ]
    }
   ],
   "source": [
    "v1 = [0, 1]\n",
    "v2 = [0.5, 0.5]\n",
    "v3 = [1, 0]\n",
    "v4 = [6, 4]\n",
    "v5 = [3.13, 2.72]\n",
    "\n",
    "m1 = vector_sum(v1, v2, v3)\n",
    "m2 = vector_sum(v1, v2, v3, v4)\n",
    "m3 = vector_sum(v3, v5)\n",
    "\n",
    "print(m1, m2, m3)"
   ]
  },
  {
   "cell_type": "markdown",
   "id": "b079708c",
   "metadata": {},
   "source": [
    "### 실습 문제5"
   ]
  },
  {
   "cell_type": "code",
   "execution_count": 9,
   "id": "0c433856",
   "metadata": {},
   "outputs": [],
   "source": [
    "def merge_list(list1=[0], list2 = [0]):\n",
    "    merge = list1 + list2\n",
    "    merge = sorted(merge)\n",
    "            \n",
    "    return merge"
   ]
  },
  {
   "cell_type": "code",
   "execution_count": 10,
   "id": "ff4e5fc6",
   "metadata": {},
   "outputs": [
    {
     "name": "stdout",
     "output_type": "stream",
     "text": [
      "[1, 1, 2, 2, 3, 5, 9]\n",
      "[0, 4, 6, 9]\n",
      "[0, 0]\n"
     ]
    }
   ],
   "source": [
    "l = [3, 5, 9, 1, 2]\n",
    "ml1 = merge_list(l,[2,1])\n",
    "ml2 = merge_list([6,9,4])\n",
    "ml3 = merge_list()\n",
    "print(ml1) \n",
    "print(ml2) \n",
    "print(ml3)"
   ]
  },
  {
   "cell_type": "markdown",
   "id": "19917cfe",
   "metadata": {},
   "source": [
    "### 실습 문제6 "
   ]
  },
  {
   "cell_type": "code",
   "execution_count": 11,
   "id": "92355a4b",
   "metadata": {},
   "outputs": [
    {
     "name": "stdout",
     "output_type": "stream",
     "text": [
      "*** 로또 번호 자동 기입을 시작합니다 ***\n",
      "1번째 자동 기입 ==>  45 34 32 4 20 9\n",
      "2번째 자동 기입 ==>  21 33 22 42 36 29\n",
      "3번째 자동 기입 ==>  34 33 26 43 24 27\n",
      "4번째 자동 기입 ==>  29 31 17 22 28 35\n",
      "5번째 자동 기입 ==>  17 30 24 43 41 35\n"
     ]
    }
   ],
   "source": [
    "import random \n",
    "\n",
    "lotto = []\n",
    "for i in range(1, 46):\n",
    "    lotto.append(i)\n",
    "\n",
    "print('*** 로또 번호 자동 기입을 시작합니다 ***')\n",
    "for i in range(1, 6):\n",
    "    print(str(i)+'번째 자동 기입 ==> ', *random.sample(lotto, 6))"
   ]
  },
  {
   "cell_type": "markdown",
   "id": "8f56fcb6",
   "metadata": {},
   "source": [
    "### 실습 문제7"
   ]
  },
  {
   "cell_type": "code",
   "execution_count": 12,
   "id": "f246a300",
   "metadata": {},
   "outputs": [],
   "source": [
    "def get_min_max(l):\n",
    "    \n",
    "    li_min = min(l)\n",
    "    li_max = max(l)\n",
    "    \n",
    "    l.remove(li_min)\n",
    "    l.remove(li_max)\n",
    "    \n",
    "    return li_min, li_max"
   ]
  },
  {
   "cell_type": "code",
   "execution_count": 13,
   "id": "ab2a6655",
   "metadata": {},
   "outputs": [
    {
     "name": "stdout",
     "output_type": "stream",
     "text": [
      "1\n",
      "9\n",
      "[3, 5, 2]\n"
     ]
    }
   ],
   "source": [
    "l = [3, 5, 9, 1, 2]\n",
    "min_val, max_val = get_min_max(l)\n",
    "print(min_val)\n",
    "print(max_val)\n",
    "print(l)"
   ]
  },
  {
   "cell_type": "markdown",
   "id": "97d07342",
   "metadata": {},
   "source": [
    "### 실습 문제 8"
   ]
  },
  {
   "cell_type": "code",
   "execution_count": 14,
   "id": "d8a00084",
   "metadata": {},
   "outputs": [],
   "source": [
    "import copy\n",
    "\n",
    "def comb_dict(d1, d2):\n",
    "    comb = copy.deepcopy(d1)\n",
    "    \n",
    "    for i in comb.copy().keys():\n",
    "        for j in d2.copy().keys():\n",
    "            if i == j:\n",
    "                comb[i] = comb[i] + d2[j]\n",
    "            elif j not in comb.copy().keys():\n",
    "                comb[j] = d2[j]\n",
    "                \n",
    "    return comb"
   ]
  },
  {
   "cell_type": "code",
   "execution_count": 15,
   "id": "7c880a3e",
   "metadata": {},
   "outputs": [
    {
     "name": "stdout",
     "output_type": "stream",
     "text": [
      "{'a': 3, 'b': 3, 'd': 7, 'e': 9, 'c': 4}\n"
     ]
    }
   ],
   "source": [
    "d1 = {'a': 1, 'b': 3, 'd': 7, 'e': 8}\n",
    "d2 = {'a': 2, 'c': 4, 'e': 1}\n",
    "d3 = comb_dict(d1, d2)\n",
    "print(d3)"
   ]
  },
  {
   "cell_type": "markdown",
   "id": "6f7ff3d7",
   "metadata": {},
   "source": [
    "### 실습 문제9"
   ]
  },
  {
   "cell_type": "code",
   "execution_count": 16,
   "id": "ebf52879",
   "metadata": {},
   "outputs": [],
   "source": [
    "def diff(*x):\n",
    "    if len(x)<2:\n",
    "        print(\"오류 발생!\")\n",
    "        \n",
    "    else:\n",
    "        x_max = max(x)\n",
    "        x_min = min(x)\n",
    "        return x_max - x_min"
   ]
  },
  {
   "cell_type": "code",
   "execution_count": 17,
   "id": "1aa3d4cd",
   "metadata": {},
   "outputs": [
    {
     "name": "stdout",
     "output_type": "stream",
     "text": [
      "4\n",
      "300\n",
      "오류 발생!\n"
     ]
    }
   ],
   "source": [
    "print(diff(1,2,3,4,5))\n",
    "print(diff(-100, 200))\n",
    "diff(1)"
   ]
  }
 ],
 "metadata": {
  "kernelspec": {
   "display_name": "Python 3",
   "language": "python",
   "name": "python3"
  },
  "language_info": {
   "codemirror_mode": {
    "name": "ipython",
    "version": 3
   },
   "file_extension": ".py",
   "mimetype": "text/x-python",
   "name": "python",
   "nbconvert_exporter": "python",
   "pygments_lexer": "ipython3",
   "version": "3.8.8"
  }
 },
 "nbformat": 4,
 "nbformat_minor": 5
}
