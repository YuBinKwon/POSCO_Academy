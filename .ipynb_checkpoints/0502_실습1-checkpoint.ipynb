{
 "cells": [
  {
   "cell_type": "markdown",
   "id": "60df9020",
   "metadata": {},
   "source": [
    "## 집합(set) \n",
    "순서X, 중복X"
   ]
  },
  {
   "cell_type": "code",
   "execution_count": 1,
   "id": "c5de176b",
   "metadata": {},
   "outputs": [],
   "source": [
    "s1 = set([1, 2, 3])\n",
    "s2 = {3, 4, 5}"
   ]
  },
  {
   "cell_type": "code",
   "execution_count": 2,
   "id": "8bf0f659",
   "metadata": {},
   "outputs": [
    {
     "data": {
      "text/plain": [
       "'HelloHello'"
      ]
     },
     "execution_count": 2,
     "metadata": {},
     "output_type": "execute_result"
    }
   ],
   "source": [
    "word = \"Hello\"*2\n",
    "word"
   ]
  },
  {
   "cell_type": "code",
   "execution_count": 3,
   "id": "c40da4f1",
   "metadata": {},
   "outputs": [
    {
     "data": {
      "text/plain": [
       "['H', 'e', 'l', 'l', 'o', 'H', 'e', 'l', 'l', 'o']"
      ]
     },
     "execution_count": 3,
     "metadata": {},
     "output_type": "execute_result"
    }
   ],
   "source": [
    "word_list = list(word)\n",
    "word_list"
   ]
  },
  {
   "cell_type": "code",
   "execution_count": 4,
   "id": "54ac9557",
   "metadata": {},
   "outputs": [
    {
     "data": {
      "text/plain": [
       "{'H', 'e', 'l', 'o'}"
      ]
     },
     "execution_count": 4,
     "metadata": {},
     "output_type": "execute_result"
    }
   ],
   "source": [
    "s3 = set(word_list)\n",
    "s3"
   ]
  },
  {
   "cell_type": "code",
   "execution_count": 5,
   "id": "d937806f",
   "metadata": {},
   "outputs": [
    {
     "data": {
      "text/plain": [
       "{'H', 'e', 'l', 'o'}"
      ]
     },
     "execution_count": 5,
     "metadata": {},
     "output_type": "execute_result"
    }
   ],
   "source": [
    "s4 = set(\"Hello\")\n",
    "s4"
   ]
  },
  {
   "cell_type": "code",
   "execution_count": 7,
   "id": "3e631c97",
   "metadata": {},
   "outputs": [
    {
     "data": {
      "text/plain": [
       "{1, 2, 3, 4, 5}"
      ]
     },
     "execution_count": 7,
     "metadata": {},
     "output_type": "execute_result"
    }
   ],
   "source": [
    "s = {1, 2, 3, 4, 5, 3, 4}\n",
    "s"
   ]
  },
  {
   "cell_type": "code",
   "execution_count": 8,
   "id": "c44e6bf9",
   "metadata": {},
   "outputs": [
    {
     "data": {
      "text/plain": [
       "{1, 2, 3, 4, 5, 10}"
      ]
     },
     "execution_count": 8,
     "metadata": {},
     "output_type": "execute_result"
    }
   ],
   "source": [
    "s.add(10)\n",
    "s"
   ]
  },
  {
   "cell_type": "code",
   "execution_count": 9,
   "id": "c292f30d",
   "metadata": {},
   "outputs": [
    {
     "data": {
      "text/plain": [
       "{1, 3, 4, 5, 10}"
      ]
     },
     "execution_count": 9,
     "metadata": {},
     "output_type": "execute_result"
    }
   ],
   "source": [
    "s.remove(2)\n",
    "s"
   ]
  },
  {
   "cell_type": "code",
   "execution_count": 13,
   "id": "5e53343e",
   "metadata": {},
   "outputs": [
    {
     "data": {
      "text/plain": [
       "{1, 3, 4, 5, 7, 9, 10}"
      ]
     },
     "execution_count": 13,
     "metadata": {},
     "output_type": "execute_result"
    }
   ],
   "source": [
    "s.update([1, 3, 5, 7, 9])\n",
    "s"
   ]
  },
  {
   "cell_type": "code",
   "execution_count": 14,
   "id": "1c7f9f63",
   "metadata": {},
   "outputs": [
    {
     "data": {
      "text/plain": [
       "{1, 3, 4, 5, 9, 10}"
      ]
     },
     "execution_count": 14,
     "metadata": {},
     "output_type": "execute_result"
    }
   ],
   "source": [
    "# discard - remove와 비슷\n",
    "s.discard(7)\n",
    "s"
   ]
  },
  {
   "cell_type": "code",
   "execution_count": 15,
   "id": "97ce0f5b",
   "metadata": {},
   "outputs": [
    {
     "data": {
      "text/plain": [
       "set()"
      ]
     },
     "execution_count": 15,
     "metadata": {},
     "output_type": "execute_result"
    }
   ],
   "source": [
    "s.clear()\n",
    "s"
   ]
  },
  {
   "cell_type": "code",
   "execution_count": 16,
   "id": "19972254",
   "metadata": {},
   "outputs": [],
   "source": [
    "s1 = {1, 2, 3}\n",
    "s2 = {3, 4, 5}"
   ]
  },
  {
   "cell_type": "code",
   "execution_count": 22,
   "id": "f68442d7",
   "metadata": {},
   "outputs": [
    {
     "name": "stdout",
     "output_type": "stream",
     "text": [
      "{1, 2, 3, 4, 5}\n",
      "{1, 2, 3, 4, 5}\n"
     ]
    }
   ],
   "source": [
    "#합집합\n",
    "print(s1.union(s2))\n",
    "print(s1|s2)"
   ]
  },
  {
   "cell_type": "code",
   "execution_count": 23,
   "id": "6e2fba35",
   "metadata": {},
   "outputs": [
    {
     "name": "stdout",
     "output_type": "stream",
     "text": [
      "{3}\n",
      "{3}\n"
     ]
    }
   ],
   "source": [
    "#교집합\n",
    "print(s1.intersection(s2))\n",
    "print(s1&s2)"
   ]
  },
  {
   "cell_type": "code",
   "execution_count": 24,
   "id": "92da536a",
   "metadata": {},
   "outputs": [
    {
     "name": "stdout",
     "output_type": "stream",
     "text": [
      "{1, 2}\n",
      "{4, 5}\n"
     ]
    }
   ],
   "source": [
    "#차집합\n",
    "print(s1-s2)\n",
    "print(s2.difference(s1))"
   ]
  },
  {
   "cell_type": "markdown",
   "id": "7aa764d3",
   "metadata": {},
   "source": [
    "### 실습 문제1"
   ]
  },
  {
   "cell_type": "code",
   "execution_count": 68,
   "id": "3151ef11",
   "metadata": {},
   "outputs": [],
   "source": [
    "s3 = set()\n",
    "\n",
    "for i in range(1, 100):\n",
    "    if i % 3 == 0 :\n",
    "        s3.update([i])"
   ]
  },
  {
   "cell_type": "code",
   "execution_count": 69,
   "id": "33bdc7ef",
   "metadata": {},
   "outputs": [],
   "source": [
    "s5 = set()\n",
    "\n",
    "for i in range(1, 101):\n",
    "    if i % 5 == 0 :\n",
    "        s5.update([i])"
   ]
  },
  {
   "cell_type": "code",
   "execution_count": 70,
   "id": "a5eef058",
   "metadata": {},
   "outputs": [
    {
     "name": "stdout",
     "output_type": "stream",
     "text": [
      "3과 5의 공배수 :  {75, 45, 15, 90, 60, 30}\n"
     ]
    }
   ],
   "source": [
    "s = s3 & s5\n",
    "print(\"3과 5의 공배수 : \", s)"
   ]
  },
  {
   "cell_type": "code",
   "execution_count": 71,
   "id": "f648028b",
   "metadata": {},
   "outputs": [],
   "source": [
    "def multiples(n):\n",
    "    s = set()\n",
    "    \n",
    "    for i in range(1, 101):\n",
    "        if i % n == 0 :\n",
    "            s.update([i])\n",
    "    \n",
    "    return s"
   ]
  },
  {
   "cell_type": "code",
   "execution_count": 74,
   "id": "3e813840",
   "metadata": {},
   "outputs": [
    {
     "name": "stdout",
     "output_type": "stream",
     "text": [
      "3과 5의 공배수 : 6개\n"
     ]
    }
   ],
   "source": [
    "s3 = multiples(3)\n",
    "s5 = multiples(5)\n",
    "\n",
    "s = s3 & s5\n",
    "print(\"3과 5의 공배수 : \"+str(len(s))+\"개\")"
   ]
  },
  {
   "cell_type": "markdown",
   "id": "7a8f7df6",
   "metadata": {},
   "source": [
    "### 실습 예시"
   ]
  },
  {
   "cell_type": "code",
   "execution_count": 73,
   "id": "0ebb996f",
   "metadata": {},
   "outputs": [
    {
     "name": "stdout",
     "output_type": "stream",
     "text": [
      "3과 5의 공배수 : 6개\n"
     ]
    }
   ],
   "source": [
    "s3 = {i for i in range(3, 100, 3)}\n",
    "s5 = {i for i in range(5, 101, 5)}\n",
    "\n",
    "s = s3 & s5\n",
    "s = sorted(s)\n",
    "print(\"3과 5의 공배수 : \" + str(len(s)) + \"개\")"
   ]
  },
  {
   "cell_type": "markdown",
   "id": "48f5a438",
   "metadata": {},
   "source": [
    "## 딕셔너리 \n",
    "Key & Value 쌍"
   ]
  },
  {
   "cell_type": "code",
   "execution_count": 1,
   "id": "fc79c467",
   "metadata": {},
   "outputs": [
    {
     "data": {
      "text/plain": [
       "{'kim': 1, 'park': 2}"
      ]
     },
     "execution_count": 1,
     "metadata": {},
     "output_type": "execute_result"
    }
   ],
   "source": [
    "d = {}\n",
    "d['kim'] = 1\n",
    "d['park'] = 2\n",
    "d"
   ]
  },
  {
   "cell_type": "code",
   "execution_count": 2,
   "id": "c0805ff8",
   "metadata": {},
   "outputs": [
    {
     "data": {
      "text/plain": [
       "2"
      ]
     },
     "execution_count": 2,
     "metadata": {},
     "output_type": "execute_result"
    }
   ],
   "source": [
    "d['park']"
   ]
  },
  {
   "cell_type": "code",
   "execution_count": 3,
   "id": "4932a3e8",
   "metadata": {},
   "outputs": [
    {
     "data": {
      "text/plain": [
       "{'kim': 3, 'park': 2}"
      ]
     },
     "execution_count": 3,
     "metadata": {},
     "output_type": "execute_result"
    }
   ],
   "source": [
    "d['kim'] = 3\n",
    "d"
   ]
  },
  {
   "cell_type": "code",
   "execution_count": 4,
   "id": "c1a7fe79",
   "metadata": {},
   "outputs": [
    {
     "data": {
      "text/plain": [
       "{'kim': 3, 'park': 2, 'youn': 1}"
      ]
     },
     "execution_count": 4,
     "metadata": {},
     "output_type": "execute_result"
    }
   ],
   "source": [
    "d['youn'] = 1\n",
    "d"
   ]
  },
  {
   "cell_type": "code",
   "execution_count": 5,
   "id": "bf28d4f9",
   "metadata": {},
   "outputs": [
    {
     "data": {
      "text/plain": [
       "dict_keys(['kim', 'park', 'youn'])"
      ]
     },
     "execution_count": 5,
     "metadata": {},
     "output_type": "execute_result"
    }
   ],
   "source": [
    "d.keys()"
   ]
  },
  {
   "cell_type": "code",
   "execution_count": 6,
   "id": "2b449dc9",
   "metadata": {},
   "outputs": [
    {
     "data": {
      "text/plain": [
       "dict_values([3, 2, 1])"
      ]
     },
     "execution_count": 6,
     "metadata": {},
     "output_type": "execute_result"
    }
   ],
   "source": [
    "d.values()"
   ]
  },
  {
   "cell_type": "code",
   "execution_count": 7,
   "id": "17c22271",
   "metadata": {},
   "outputs": [
    {
     "data": {
      "text/plain": [
       "dict_items([('kim', 3), ('park', 2), ('youn', 1)])"
      ]
     },
     "execution_count": 7,
     "metadata": {},
     "output_type": "execute_result"
    }
   ],
   "source": [
    "d.items()"
   ]
  },
  {
   "cell_type": "code",
   "execution_count": 8,
   "id": "b3cc1868",
   "metadata": {},
   "outputs": [
    {
     "name": "stdout",
     "output_type": "stream",
     "text": [
      "True\n",
      "False\n"
     ]
    }
   ],
   "source": [
    "print('kim' in d)\n",
    "print('lee' in d)"
   ]
  },
  {
   "cell_type": "code",
   "execution_count": 9,
   "id": "bdd50e56",
   "metadata": {},
   "outputs": [
    {
     "data": {
      "text/plain": [
       "{'park': 2, 'youn': 1}"
      ]
     },
     "execution_count": 9,
     "metadata": {},
     "output_type": "execute_result"
    }
   ],
   "source": [
    "del d['kim']\n",
    "d"
   ]
  },
  {
   "cell_type": "code",
   "execution_count": 10,
   "id": "17f96c49",
   "metadata": {},
   "outputs": [
    {
     "data": {
      "text/plain": [
       "{}"
      ]
     },
     "execution_count": 10,
     "metadata": {},
     "output_type": "execute_result"
    }
   ],
   "source": [
    "d.clear()\n",
    "d"
   ]
  },
  {
   "cell_type": "markdown",
   "id": "5a210c30",
   "metadata": {},
   "source": [
    "### 실습 문제2"
   ]
  },
  {
   "cell_type": "code",
   "execution_count": 46,
   "id": "616aec37",
   "metadata": {},
   "outputs": [
    {
     "name": "stdout",
     "output_type": "stream",
     "text": [
      "Enter a sentece: Python is fun!\n"
     ]
    }
   ],
   "source": [
    "sen = input(\"Enter a sentece: \")"
   ]
  },
  {
   "cell_type": "code",
   "execution_count": 53,
   "id": "6df2a400",
   "metadata": {},
   "outputs": [],
   "source": [
    "s = {}\n",
    "\n",
    "for i in sen:\n",
    "    s[i] = sen.count(i)"
   ]
  },
  {
   "cell_type": "code",
   "execution_count": 55,
   "id": "b22dd741",
   "metadata": {},
   "outputs": [
    {
     "name": "stdout",
     "output_type": "stream",
     "text": [
      "{'P': 1, 'y': 1, 't': 1, 'h': 1, 'o': 1, 'n': 2, ' ': 2, 'i': 1, 's': 1, 'f': 1, 'u': 1, '!': 1}\n"
     ]
    }
   ],
   "source": [
    "print(s)"
   ]
  },
  {
   "cell_type": "markdown",
   "id": "50ed53a6",
   "metadata": {},
   "source": [
    "### 실습 예시"
   ]
  },
  {
   "cell_type": "code",
   "execution_count": 56,
   "id": "583ca081",
   "metadata": {},
   "outputs": [
    {
     "name": "stdout",
     "output_type": "stream",
     "text": [
      "{'P': 1, 'y': 1, 't': 1, 'h': 1, 'o': 1, 'n': 2, ' ': 2, 'i': 1, 's': 1, 'f': 1, 'u': 1, '!': 1}\n"
     ]
    }
   ],
   "source": [
    "d = {}\n",
    "\n",
    "for c in sen:\n",
    "    if c in d:\n",
    "        d[c] += 1\n",
    "    else:\n",
    "        d[c] = 1\n",
    "        \n",
    "print(d)"
   ]
  },
  {
   "cell_type": "markdown",
   "id": "14331e70",
   "metadata": {},
   "source": [
    "## 함수\n",
    "목적 : 코드 재사용, 절차적 분해"
   ]
  },
  {
   "cell_type": "code",
   "execution_count": 61,
   "id": "6b2ff182",
   "metadata": {},
   "outputs": [],
   "source": [
    "def add(a, b):\n",
    "    result = a+b\n",
    "    return result"
   ]
  },
  {
   "cell_type": "code",
   "execution_count": 62,
   "id": "a42ced91",
   "metadata": {},
   "outputs": [
    {
     "data": {
      "text/plain": [
       "300"
      ]
     },
     "execution_count": 62,
     "metadata": {},
     "output_type": "execute_result"
    }
   ],
   "source": [
    "add_result = add(100, 200)\n",
    "add_result"
   ]
  },
  {
   "cell_type": "code",
   "execution_count": 63,
   "id": "e44113f6",
   "metadata": {},
   "outputs": [],
   "source": [
    "def add_and_mul(a, b):\n",
    "    return (a+b, a*b)"
   ]
  },
  {
   "cell_type": "code",
   "execution_count": 65,
   "id": "7dd91de8",
   "metadata": {},
   "outputs": [
    {
     "name": "stdout",
     "output_type": "stream",
     "text": [
      "7\n",
      "12\n"
     ]
    }
   ],
   "source": [
    "add_res, mul_res = add_and_mul(3, 4)\n",
    "print(add_res)\n",
    "print(mul_res)"
   ]
  },
  {
   "cell_type": "markdown",
   "id": "0be6c7e3",
   "metadata": {},
   "source": [
    "### 실습 문제1"
   ]
  },
  {
   "cell_type": "code",
   "execution_count": 66,
   "id": "351822d3",
   "metadata": {},
   "outputs": [],
   "source": [
    "def my_len(x):\n",
    "    length = 0\n",
    "    \n",
    "    for i in x:\n",
    "        length += 1\n",
    "        \n",
    "    return length"
   ]
  },
  {
   "cell_type": "code",
   "execution_count": 69,
   "id": "bd8dfd3d",
   "metadata": {},
   "outputs": [
    {
     "name": "stdout",
     "output_type": "stream",
     "text": [
      "6 14\n",
      "6 14\n"
     ]
    }
   ],
   "source": [
    "a = [5, 5, 6, 7, 8, 3]\n",
    "b = 'Life is short.'\n",
    "\n",
    "print(len(a), len(b))\n",
    "print(my_len(a), my_len(b))"
   ]
  },
  {
   "cell_type": "markdown",
   "id": "68eb7db2",
   "metadata": {},
   "source": [
    "### 실습 예시"
   ]
  },
  {
   "cell_type": "code",
   "execution_count": 73,
   "id": "c7ad2a99",
   "metadata": {},
   "outputs": [],
   "source": [
    "def my_len(x):\n",
    "    length = 0\n",
    "    for i in x:\n",
    "        length += 1\n",
    "    return length"
   ]
  },
  {
   "cell_type": "code",
   "execution_count": 74,
   "id": "8bc8d05a",
   "metadata": {},
   "outputs": [
    {
     "name": "stdout",
     "output_type": "stream",
     "text": [
      "6 14\n",
      "6 14\n"
     ]
    }
   ],
   "source": [
    "a = [5, 5, 6, 7, 8, 3]\n",
    "b = 'Life is short.'\n",
    "\n",
    "print(len(a), len(b))\n",
    "print(my_len(a), my_len(b))"
   ]
  },
  {
   "cell_type": "markdown",
   "id": "c52d8703",
   "metadata": {},
   "source": [
    "### 실습 문제2"
   ]
  },
  {
   "cell_type": "code",
   "execution_count": 96,
   "id": "1de601a0",
   "metadata": {},
   "outputs": [],
   "source": [
    "def mult(a, b):\n",
    "    mult_a2b = 1\n",
    "    \n",
    "    while(a<=b):\n",
    "        mult_a2b = mult_a2b*(a)\n",
    "        a += 1\n",
    "        \n",
    "    return mult_a2b"
   ]
  },
  {
   "cell_type": "code",
   "execution_count": 97,
   "id": "00b0975f",
   "metadata": {},
   "outputs": [
    {
     "name": "stdout",
     "output_type": "stream",
     "text": [
      "6\n",
      "120\n"
     ]
    }
   ],
   "source": [
    "print(mult(1, 3))\n",
    "print(mult(2, 5))"
   ]
  },
  {
   "cell_type": "markdown",
   "id": "92958901",
   "metadata": {},
   "source": [
    "### 실습 문제3"
   ]
  },
  {
   "cell_type": "code",
   "execution_count": 84,
   "id": "f72b2843",
   "metadata": {},
   "outputs": [],
   "source": [
    "def sum_pos_neg(l):\n",
    "    possum = 0\n",
    "    negsum = 0\n",
    "    \n",
    "    for i in l:\n",
    "        if i > 0:\n",
    "            possum +=i\n",
    "        elif i < 0:\n",
    "            negsum += i\n",
    "            \n",
    "    return possum, negsum"
   ]
  },
  {
   "cell_type": "code",
   "execution_count": 85,
   "id": "8372b705",
   "metadata": {},
   "outputs": [
    {
     "name": "stdout",
     "output_type": "stream",
     "text": [
      "7 -9\n"
     ]
    }
   ],
   "source": [
    "possum, negsum = sum_pos_neg([3, 4, -6, -3])\n",
    "print(possum , negsum)"
   ]
  },
  {
   "cell_type": "code",
   "execution_count": 86,
   "id": "419f70f8",
   "metadata": {},
   "outputs": [
    {
     "name": "stdout",
     "output_type": "stream",
     "text": [
      "1 -1\n"
     ]
    }
   ],
   "source": [
    "mylist = [0, 0, 0, 0, 0, 0, 0, 0, 1, -1]\n",
    "possum2, negsum2 = sum_pos_neg(mylist)\n",
    "print(possum2 , negsum2)"
   ]
  },
  {
   "cell_type": "markdown",
   "id": "685d4347",
   "metadata": {},
   "source": [
    "## 가변 매개변수\n",
    "\n",
    "가변 매개변수는 하나만 사용 가능"
   ]
  },
  {
   "cell_type": "code",
   "execution_count": 94,
   "id": "73541bed",
   "metadata": {},
   "outputs": [],
   "source": [
    "def count_even(*n):\n",
    "    cnt = 0\n",
    "    for v in n:\n",
    "        if v % 2 == 0:\n",
    "            cnt += 1\n",
    "    return cnt"
   ]
  },
  {
   "cell_type": "code",
   "execution_count": 95,
   "id": "837d8273",
   "metadata": {},
   "outputs": [
    {
     "data": {
      "text/plain": [
       "2"
      ]
     },
     "execution_count": 95,
     "metadata": {},
     "output_type": "execute_result"
    }
   ],
   "source": [
    "count_even(1, 2, 3, 4, 5)"
   ]
  },
  {
   "cell_type": "markdown",
   "id": "72165370",
   "metadata": {},
   "source": [
    "### 실습 문제4"
   ]
  },
  {
   "cell_type": "code",
   "execution_count": 144,
   "id": "00b08267",
   "metadata": {},
   "outputs": [],
   "source": [
    "import numpy as np\n",
    "\n",
    "def vector_sum(vector, *vectors):\n",
    "    vector = np.array(vector)\n",
    "    \n",
    "    if len(vectors) >1:\n",
    "        vectors_sum = [0, 0]\n",
    "        \n",
    "        for i in vectors:\n",
    "            vector_i = np.array(i)\n",
    "            vectors_sum += vector_i\n",
    "               \n",
    "        sum = vector + vectors_sum\n",
    "        \n",
    "    else:\n",
    "        vectors = np.array(vectors)\n",
    "        sum = vector+vectors\n",
    "    \n",
    "    return sum"
   ]
  },
  {
   "cell_type": "code",
   "execution_count": 155,
   "id": "60207a4f",
   "metadata": {},
   "outputs": [],
   "source": [
    "import numpy as np\n",
    "\n",
    "def vector_sum(vector, *vectors):\n",
    "    vector = np.array(vector)\n",
    "    vectors_sum = [0, 0]\n",
    "        \n",
    "    for i in vectors:\n",
    "            vector_i = np.array(i)\n",
    "            vectors_sum += vector_i\n",
    "               \n",
    "    sum = vector + vectors_sum\n",
    "    return sum"
   ]
  },
  {
   "cell_type": "code",
   "execution_count": 156,
   "id": "3841fa53",
   "metadata": {},
   "outputs": [
    {
     "name": "stdout",
     "output_type": "stream",
     "text": [
      "[1.5 1.5] [7.5 5.5] [4.13 2.72]\n"
     ]
    }
   ],
   "source": [
    "v1 = [0, 1]\n",
    "v2 = [0.5, 0.5]\n",
    "v3 = [1, 0]\n",
    "v4 = [6, 4]\n",
    "v5 = [3.13, 2.72]\n",
    "\n",
    "m1 = vector_sum(v1, v2, v3)\n",
    "m2 = vector_sum(v1, v2, v3, v4)\n",
    "m3 = vector_sum(v3, v5)\n",
    "\n",
    "print(m1, m2, m3)"
   ]
  },
  {
   "cell_type": "markdown",
   "id": "cb7d00e6",
   "metadata": {},
   "source": [
    "### 실습 예제"
   ]
  },
  {
   "cell_type": "code",
   "execution_count": 149,
   "id": "f3f7c9ec",
   "metadata": {},
   "outputs": [],
   "source": [
    "def vector_sum(vector, *vectors):\n",
    "    # result = vector 이렇게되면 얕은 복사가 됨\n",
    "    result = vector[:]\n",
    "    \n",
    "    for v in vectors:\n",
    "        result[0] += v[0]\n",
    "        result[1] += v[1]\n",
    "        \n",
    "    return result"
   ]
  },
  {
   "cell_type": "code",
   "execution_count": 150,
   "id": "2623619b",
   "metadata": {},
   "outputs": [
    {
     "name": "stdout",
     "output_type": "stream",
     "text": [
      "[1.5, 1.5] [7.5, 5.5] [4.13, 2.72]\n"
     ]
    }
   ],
   "source": [
    "v1 = [0, 1]\n",
    "v2 = [0.5, 0.5]\n",
    "v3 = [1, 0]\n",
    "v4 = [6, 4]\n",
    "v5 = [3.13, 2.72]\n",
    "\n",
    "m1 = vector_sum(v1, v2, v3)\n",
    "m2 = vector_sum(v1, v2, v3, v4)\n",
    "m3 = vector_sum(v3, v5)\n",
    "\n",
    "print(m1, m2, m3)"
   ]
  },
  {
   "cell_type": "markdown",
   "id": "77ffc80a",
   "metadata": {},
   "source": [
    "## 디폴트 매개변수\n",
    "디폴트 매개변수는 뒤쪽에 몰려 있어야 사용할 수 있음"
   ]
  },
  {
   "cell_type": "code",
   "execution_count": 159,
   "id": "c42df734",
   "metadata": {},
   "outputs": [
    {
     "name": "stdout",
     "output_type": "stream",
     "text": [
      "My name is Gildong Hong.\n",
      "My name is Gildong kim.\n"
     ]
    }
   ],
   "source": [
    "def print_name(first, second='kim'):\n",
    "    print('My name is', first, second + '.')\n",
    "    \n",
    "print_name('Gildong', 'Hong')\n",
    "print_name('Gildong')\n"
   ]
  },
  {
   "cell_type": "markdown",
   "id": "f201cbc1",
   "metadata": {},
   "source": [
    "## 키워드 매개변수"
   ]
  },
  {
   "cell_type": "code",
   "execution_count": 160,
   "id": "4a19aeb3",
   "metadata": {},
   "outputs": [
    {
     "name": "stdout",
     "output_type": "stream",
     "text": [
      "60\n"
     ]
    }
   ],
   "source": [
    "def calc(x, y=0, z=0):\n",
    "    return x+y+z\n",
    "\n",
    "result = calc(y=20, x=10, z=30)\n",
    "print(result)"
   ]
  },
  {
   "cell_type": "markdown",
   "id": "559e8505",
   "metadata": {},
   "source": [
    "### 실습 문제5"
   ]
  },
  {
   "cell_type": "code",
   "execution_count": 174,
   "id": "e163b5a9",
   "metadata": {},
   "outputs": [],
   "source": [
    "def merge_list(list1=[0], list2 = [0]):\n",
    "    merge = list1 + list2\n",
    "    merge = sorted(merge)\n",
    "            \n",
    "    return merge"
   ]
  },
  {
   "cell_type": "code",
   "execution_count": 175,
   "id": "5518485c",
   "metadata": {
    "scrolled": true
   },
   "outputs": [
    {
     "name": "stdout",
     "output_type": "stream",
     "text": [
      "[1, 1, 2, 2, 3, 5, 9]\n",
      "[0, 4, 6, 9]\n",
      "[0, 0]\n"
     ]
    }
   ],
   "source": [
    "l = [3, 5, 9, 1, 2]\n",
    "ml1 = merge_list(l,[2,1])\n",
    "ml2 = merge_list([6,9,4])\n",
    "ml3 = merge_list()\n",
    "print(ml1) \n",
    "print(ml2) \n",
    "print(ml3)"
   ]
  },
  {
   "cell_type": "markdown",
   "id": "404e9653",
   "metadata": {},
   "source": [
    "### 실습 예제"
   ]
  },
  {
   "cell_type": "code",
   "execution_count": 176,
   "id": "9cfcb1c3",
   "metadata": {},
   "outputs": [],
   "source": [
    "def merge_list(list1=[0], list2 = [0]):\n",
    "    result = list1 + list2     \n",
    "    return sorted(result)"
   ]
  },
  {
   "cell_type": "code",
   "execution_count": 177,
   "id": "8830ec50",
   "metadata": {},
   "outputs": [
    {
     "name": "stdout",
     "output_type": "stream",
     "text": [
      "[1, 1, 2, 2, 3, 5, 9]\n",
      "[0, 4, 6, 9]\n",
      "[0, 0]\n"
     ]
    }
   ],
   "source": [
    "l = [3, 5, 9, 1, 2]\n",
    "ml1 = merge_list(l,[2,1])\n",
    "ml2 = merge_list([6,9,4])\n",
    "ml3 = merge_list()\n",
    "print(ml1) \n",
    "print(ml2) \n",
    "print(ml3)"
   ]
  },
  {
   "cell_type": "markdown",
   "id": "f84fff52",
   "metadata": {},
   "source": [
    "## 지역변수 전역변수"
   ]
  },
  {
   "cell_type": "code",
   "execution_count": 188,
   "id": "83ebb1e1",
   "metadata": {},
   "outputs": [
    {
     "name": "stdout",
     "output_type": "stream",
     "text": [
      "30\n"
     ]
    },
    {
     "ename": "NameError",
     "evalue": "name 'add_res2' is not defined",
     "output_type": "error",
     "traceback": [
      "\u001b[0;31m---------------------------------------------------------------------------\u001b[0m",
      "\u001b[0;31mNameError\u001b[0m                                 Traceback (most recent call last)",
      "Cell \u001b[0;32mIn[188], line 10\u001b[0m\n\u001b[1;32m      8\u001b[0m res \u001b[38;5;241m=\u001b[39m add_value2(x, y)\n\u001b[1;32m      9\u001b[0m \u001b[38;5;28mprint\u001b[39m(res)\n\u001b[0;32m---> 10\u001b[0m \u001b[38;5;28mprint\u001b[39m(\u001b[43madd_res2\u001b[49m)\n",
      "\u001b[0;31mNameError\u001b[0m: name 'add_res2' is not defined"
     ]
    }
   ],
   "source": [
    "# 지역변수 - 함수 안에서 정의된 변수, 함수 밖 호출 X\n",
    "def add_value2(a, b):\n",
    "    add_res2 = a + b\n",
    "    return add_res2\n",
    "\n",
    "x=10\n",
    "y=20\n",
    "res = add_value2(x, y)\n",
    "print(res)\n",
    "print(add_res2)"
   ]
  },
  {
   "cell_type": "markdown",
   "id": "d73cd2a6",
   "metadata": {},
   "source": [
    "## 모듈"
   ]
  },
  {
   "cell_type": "code",
   "execution_count": 189,
   "id": "096eced2",
   "metadata": {},
   "outputs": [
    {
     "data": {
      "text/plain": [
       "3628800"
      ]
     },
     "execution_count": 189,
     "metadata": {},
     "output_type": "execute_result"
    }
   ],
   "source": [
    "import math\n",
    "math.factorial(10)"
   ]
  },
  {
   "cell_type": "code",
   "execution_count": 190,
   "id": "c97b1d98",
   "metadata": {},
   "outputs": [
    {
     "data": {
      "text/plain": [
       "3628800"
      ]
     },
     "execution_count": 190,
     "metadata": {},
     "output_type": "execute_result"
    }
   ],
   "source": [
    "import math as mt\n",
    "mt.factorial(10)"
   ]
  },
  {
   "cell_type": "code",
   "execution_count": 193,
   "id": "5bf5c71f",
   "metadata": {},
   "outputs": [
    {
     "data": {
      "text/plain": [
       "3628800"
      ]
     },
     "execution_count": 193,
     "metadata": {},
     "output_type": "execute_result"
    }
   ],
   "source": [
    "from math import factorial\n",
    "factorial(10)"
   ]
  },
  {
   "cell_type": "code",
   "execution_count": 194,
   "id": "1cfb2a44",
   "metadata": {},
   "outputs": [
    {
     "data": {
      "text/plain": [
       "'f'"
      ]
     },
     "execution_count": 194,
     "metadata": {},
     "output_type": "execute_result"
    }
   ],
   "source": [
    "import random\n",
    "random.choice('adcedfg')"
   ]
  },
  {
   "cell_type": "code",
   "execution_count": 198,
   "id": "c6400d0f",
   "metadata": {},
   "outputs": [
    {
     "data": {
      "text/plain": [
       "155643169584442"
      ]
     },
     "execution_count": 198,
     "metadata": {},
     "output_type": "execute_result"
    }
   ],
   "source": [
    "a = 31049034 \n",
    "b = 323094093224093\n",
    "random.randint(a, b) # b까지\n",
    "random.randrange(a, b) #b직전까지"
   ]
  },
  {
   "cell_type": "code",
   "execution_count": 199,
   "id": "27a4bc5a",
   "metadata": {},
   "outputs": [
    {
     "data": {
      "text/plain": [
       "[3, 6, 5]"
      ]
     },
     "execution_count": 199,
     "metadata": {},
     "output_type": "execute_result"
    }
   ],
   "source": [
    "random.sample([1,2,3,4,5,6,7], 3)"
   ]
  },
  {
   "cell_type": "markdown",
   "id": "28450fab",
   "metadata": {},
   "source": [
    "### 실습 문제6"
   ]
  },
  {
   "cell_type": "code",
   "execution_count": 271,
   "id": "a073c1bb",
   "metadata": {},
   "outputs": [
    {
     "name": "stdout",
     "output_type": "stream",
     "text": [
      "*** 로또 번호 자동 기입을 시작합니다 ***\n",
      "1번째 자동 기입 ==>  2 26 22 3 45 8\n",
      "2번째 자동 기입 ==>  17 45 22 19 4 42\n",
      "3번째 자동 기입 ==>  28 25 17 8 23 4\n",
      "4번째 자동 기입 ==>  31 42 38 19 13 44\n",
      "5번째 자동 기입 ==>  20 6 21 16 26 18\n"
     ]
    }
   ],
   "source": [
    "import random \n",
    "\n",
    "lotto = []\n",
    "for i in range(1, 46):\n",
    "    lotto.append(i)\n",
    "\n",
    "print('*** 로또 번호 자동 기입을 시작합니다 ***')\n",
    "for i in range(1, 6):\n",
    "    print(str(i)+'번째 자동 기입 ==> ', *random.sample(lotto, 6))"
   ]
  },
  {
   "cell_type": "markdown",
   "id": "c916a0df",
   "metadata": {},
   "source": [
    "### 실습 예제6"
   ]
  },
  {
   "cell_type": "code",
   "execution_count": 278,
   "id": "af7814b7",
   "metadata": {},
   "outputs": [
    {
     "name": "stdout",
     "output_type": "stream",
     "text": [
      "*** 로또 번호 자동 기입을 시작합니다 ***\n",
      "1 번째 자동 기입 ==>  4 40 12 9 24 40 \n",
      "2 번째 자동 기입 ==>  41 5 33 37 11 32 \n",
      "3 번째 자동 기입 ==>  1 7 18 25 31 31 \n",
      "4 번째 자동 기입 ==>  7 38 42 35 7 42 \n",
      "5 번째 자동 기입 ==>  30 38 34 14 45 31 \n"
     ]
    }
   ],
   "source": [
    "import random \n",
    "\n",
    "print('*** 로또 번호 자동 기입을 시작합니다 ***')\n",
    "\n",
    "for i in range(5):\n",
    "    print(i+1, '번째 자동 기입 ==> ', end = ' ')\n",
    "    for j in range(6):\n",
    "        print(random.randint(1, 45), end= ' ')\n",
    "    print()"
   ]
  },
  {
   "cell_type": "markdown",
   "id": "c4eaa1ac",
   "metadata": {},
   "source": [
    "### 실습 문제7"
   ]
  },
  {
   "cell_type": "code",
   "execution_count": 219,
   "id": "5b9a4505",
   "metadata": {},
   "outputs": [],
   "source": [
    "def get_min_max(l):\n",
    "    \n",
    "    li_min = min(l)\n",
    "    li_max = max(l)\n",
    "    \n",
    "    l.remove(li_min)\n",
    "    l.remove(li_max)\n",
    "    \n",
    "    return li_min, li_max"
   ]
  },
  {
   "cell_type": "code",
   "execution_count": 220,
   "id": "9e786a34",
   "metadata": {},
   "outputs": [
    {
     "name": "stdout",
     "output_type": "stream",
     "text": [
      "1\n",
      "9\n",
      "[3, 5, 2]\n"
     ]
    }
   ],
   "source": [
    "l = [3, 5, 9, 1, 2]\n",
    "min_val, max_val = get_min_max(l)\n",
    "print(min_val)\n",
    "print(max_val)\n",
    "print(l)"
   ]
  },
  {
   "cell_type": "markdown",
   "id": "fdcaf658",
   "metadata": {},
   "source": [
    "### 실습 예제 7"
   ]
  },
  {
   "cell_type": "code",
   "execution_count": 279,
   "id": "09d16615",
   "metadata": {},
   "outputs": [],
   "source": [
    "def get_min_max(l):\n",
    "    maximum = max(l)\n",
    "    minimum = min(l)\n",
    "    \n",
    "    l.remove(maximum)\n",
    "    l.remove(minimum)\n",
    "    \n",
    "    return maximum, minimum"
   ]
  },
  {
   "cell_type": "code",
   "execution_count": 280,
   "id": "1946e05d",
   "metadata": {},
   "outputs": [
    {
     "name": "stdout",
     "output_type": "stream",
     "text": [
      "9\n",
      "1\n",
      "[3, 5, 2]\n"
     ]
    }
   ],
   "source": [
    "l = [3, 5, 9, 1, 2]\n",
    "min_val, max_val = get_min_max(l)\n",
    "print(min_val)\n",
    "print(max_val)\n",
    "print(l)"
   ]
  },
  {
   "cell_type": "markdown",
   "id": "801ba075",
   "metadata": {},
   "source": [
    "### 실습 문제8"
   ]
  },
  {
   "cell_type": "code",
   "execution_count": 281,
   "id": "776b7abd",
   "metadata": {},
   "outputs": [],
   "source": [
    "import copy\n",
    "\n",
    "def comb_dict(d1, d2):\n",
    "    comb = copy.deepcopy(d1)\n",
    "    \n",
    "    for i in comb.copy().keys():\n",
    "        for j in d2.copy().keys():\n",
    "            if i == j:\n",
    "                comb[i] = comb[i] + d2[j]\n",
    "            elif j not in comb.copy().keys():\n",
    "                comb[j] = d2[j]\n",
    "                \n",
    "    return comb"
   ]
  },
  {
   "cell_type": "code",
   "execution_count": 282,
   "id": "2b01644b",
   "metadata": {
    "scrolled": true
   },
   "outputs": [
    {
     "name": "stdout",
     "output_type": "stream",
     "text": [
      "{'a': 3, 'b': 3, 'd': 7, 'e': 9, 'c': 4}\n"
     ]
    }
   ],
   "source": [
    "d1 = {'a': 1, 'b': 3, 'd': 7, 'e': 8}\n",
    "d2 = {'a': 2, 'c': 4, 'e': 1}\n",
    "d3 = comb_dict(d1, d2)\n",
    "print(d3)"
   ]
  },
  {
   "cell_type": "markdown",
   "id": "12dff956",
   "metadata": {},
   "source": [
    "### 실습 예제8"
   ]
  },
  {
   "cell_type": "code",
   "execution_count": 285,
   "id": "95acf110",
   "metadata": {},
   "outputs": [],
   "source": [
    "def comb_dict(d1, d2):\n",
    "    d = d1.copy()\n",
    "    \n",
    "    for k in d2.keys():\n",
    "        if k in d:\n",
    "            d[k] += d2[k]\n",
    "        else:\n",
    "            d[k] = d2[k]\n",
    "    return d"
   ]
  },
  {
   "cell_type": "code",
   "execution_count": 286,
   "id": "338d9ca1",
   "metadata": {},
   "outputs": [
    {
     "name": "stdout",
     "output_type": "stream",
     "text": [
      "{'a': 3, 'b': 3, 'd': 7, 'e': 9, 'c': 4}\n"
     ]
    }
   ],
   "source": [
    "d1 = {'a': 1, 'b': 3, 'd': 7, 'e': 8}\n",
    "d2 = {'a': 2, 'c': 4, 'e': 1}\n",
    "d3 = comb_dict(d1, d2)\n",
    "print(d3)"
   ]
  },
  {
   "cell_type": "markdown",
   "id": "3769b31e",
   "metadata": {},
   "source": [
    "### 실습 문제 9"
   ]
  },
  {
   "cell_type": "code",
   "execution_count": 292,
   "id": "42897a48",
   "metadata": {},
   "outputs": [],
   "source": [
    "def diff(*x):\n",
    "    if len(x)<2:\n",
    "        print(\"Error!\")\n",
    "        \n",
    "    else:\n",
    "        x_max = max(x)\n",
    "        x_min = min(x)\n",
    "        return x_max - x_min"
   ]
  },
  {
   "cell_type": "code",
   "execution_count": 293,
   "id": "5315499a",
   "metadata": {},
   "outputs": [
    {
     "name": "stdout",
     "output_type": "stream",
     "text": [
      "4\n",
      "300\n",
      "Error!\n"
     ]
    }
   ],
   "source": [
    "print(diff(1,2,3,4,5))\n",
    "print(diff(-100, 200))\n",
    "diff(1)"
   ]
  },
  {
   "cell_type": "markdown",
   "id": "2fc42c5d",
   "metadata": {},
   "source": [
    "### 실습 예제9"
   ]
  },
  {
   "cell_type": "code",
   "execution_count": 287,
   "id": "d0af5050",
   "metadata": {},
   "outputs": [],
   "source": [
    "def diff(*b):\n",
    "    if len(b)<2:\n",
    "        print(\"오류발생\")\n",
    "        return\n",
    "    else:\n",
    "        maximum = max(b)\n",
    "        minimum = min(b)\n",
    "        return maximum - minimum"
   ]
  },
  {
   "cell_type": "code",
   "execution_count": 289,
   "id": "77319a77",
   "metadata": {},
   "outputs": [
    {
     "name": "stdout",
     "output_type": "stream",
     "text": [
      "4\n",
      "300\n",
      "오류발생\n"
     ]
    }
   ],
   "source": [
    "print(diff(1,2,3,4,5))\n",
    "print(diff(-100, 200))\n",
    "diff(1)"
   ]
  }
 ],
 "metadata": {
  "kernelspec": {
   "display_name": "Python 3",
   "language": "python",
   "name": "python3"
  },
  "language_info": {
   "codemirror_mode": {
    "name": "ipython",
    "version": 3
   },
   "file_extension": ".py",
   "mimetype": "text/x-python",
   "name": "python",
   "nbconvert_exporter": "python",
   "pygments_lexer": "ipython3",
   "version": "3.8.8"
  }
 },
 "nbformat": 4,
 "nbformat_minor": 5
}
