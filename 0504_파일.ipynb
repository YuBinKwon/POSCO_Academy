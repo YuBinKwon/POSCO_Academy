{
 "cells": [
  {
   "cell_type": "code",
   "execution_count": 1,
   "id": "c553cdb7",
   "metadata": {},
   "outputs": [],
   "source": [
    "# binary file - 이미지 같은거\n",
    "# text file - 말 그대로 안에 들어 있는게 텍스트인 파일\n",
    "\n",
    "f = open('new.txt', 'w') #open('파일이름', '모드'), wirte 쓰기 모드\n",
    "# 파일이 없다면 새로 생성됨\n",
    "# 파일이 있으면 덮어쓰기됨\n",
    "\n",
    "for i in range(1, 6):\n",
    "    data = \"% d line \\n\" %i\n",
    "    f. write(data)\n",
    "    \n",
    "f.close() # 파일을 닫아야 파일을 옮기거나 할 수 있음\n",
    "# 문서나 피피티 열려있으면 파일 삭제나 이동 안 되는거랑 같은 맥락"
   ]
  },
  {
   "cell_type": "code",
   "execution_count": 2,
   "id": "f7993c22",
   "metadata": {},
   "outputs": [],
   "source": [
    "f = open('new.txt', 'a') #append 모드, 내용 추가 하기\n",
    "\n",
    "for i in range(6, 11):\n",
    "    data = \"% d line \\n\" %i\n",
    "    f. write(data)\n",
    "    \n",
    "f.close()"
   ]
  },
  {
   "cell_type": "code",
   "execution_count": 3,
   "id": "89df31be",
   "metadata": {},
   "outputs": [],
   "source": [
    "with open('new.txt', 'a') as f: # f.close() 안 쓰도 되는 방법\n",
    "    for i in range(11, 20):\n",
    "        data = \"% d line \\n\" %i\n",
    "        f. write(data)"
   ]
  },
  {
   "cell_type": "code",
   "execution_count": 10,
   "id": "a23e1ae4",
   "metadata": {},
   "outputs": [
    {
     "name": "stdout",
     "output_type": "stream",
     "text": [
      "0\n"
     ]
    }
   ],
   "source": [
    "# 파일 읽기\n",
    "f = open('new.txt', 'r') # read 모드\n",
    "# 작업 환경과 다른 환경(파일)에 있다면 경로를 지정해줘야함\n",
    "# 절대 경로 : 루트부터 시작하는 파일의 절대적인 경로 | 윈도우ex. C:User/파일이름/\n",
    "# 상대 경로 : 현재 있는 파일로 부터 데이터가 존재하는 파일까지의 상대적인 경로\n",
    "\n",
    "print( f.tell())"
   ]
  },
  {
   "cell_type": "code",
   "execution_count": 11,
   "id": "d92ea28c",
   "metadata": {},
   "outputs": [
    {
     "name": "stdout",
     "output_type": "stream",
     "text": [
      " 1 line \n",
      "\n"
     ]
    }
   ],
   "source": [
    "line = f.readline()\n",
    "print(line)"
   ]
  },
  {
   "cell_type": "code",
   "execution_count": 12,
   "id": "ed2b12ae",
   "metadata": {},
   "outputs": [
    {
     "name": "stdout",
     "output_type": "stream",
     "text": [
      "9\n"
     ]
    }
   ],
   "source": [
    "print(f.tell()) # byte단위로 존재하는데, 리눅스에서는 "
   ]
  },
  {
   "cell_type": "code",
   "execution_count": 13,
   "id": "4306641b",
   "metadata": {},
   "outputs": [
    {
     "name": "stdout",
     "output_type": "stream",
     "text": [
      " 2 line \n",
      "\n"
     ]
    }
   ],
   "source": [
    "line = f.readline()\n",
    "print(line)"
   ]
  },
  {
   "cell_type": "code",
   "execution_count": 14,
   "id": "0d1aba84",
   "metadata": {},
   "outputs": [],
   "source": [
    "f.close()"
   ]
  },
  {
   "cell_type": "code",
   "execution_count": 23,
   "id": "f686df6d",
   "metadata": {},
   "outputs": [
    {
     "name": "stdout",
     "output_type": "stream",
     "text": [
      " 1 line \n",
      " 2 line \n",
      " 3 line \n",
      " 4 line \n",
      " 5 line \n",
      " 6 line \n",
      " 7 line \n",
      " 8 line \n",
      " 9 line \n",
      " 10 line \n",
      " 11 line \n",
      " 12 line \n",
      " 13 line \n",
      " 14 line \n",
      " 15 line \n",
      " 16 line \n",
      " 17 line \n",
      " 18 line \n",
      " 19 line \n"
     ]
    }
   ],
   "source": [
    "## 파일 끝까지 읽어보기 - 특 : 나는 파일이 몇 줄인지 모름\n",
    "\n",
    "f = open('new.txt', 'r')\n",
    "\n",
    "while True:\n",
    "    line = f.readline() # 라인을 원소로 가지는 리스트를 반환\n",
    "    if line == '':\n",
    "        break;\n",
    "    print(line, end='')\n",
    "    \n",
    "f.close()\n",
    "\n",
    "# 반복문 - for : 횟수 알아야 함,  while : 횟수 몰라도 됨"
   ]
  },
  {
   "cell_type": "markdown",
   "id": "0a639891",
   "metadata": {},
   "source": [
    "### 실습 문제1"
   ]
  },
  {
   "cell_type": "code",
   "execution_count": 85,
   "id": "8e33c7e3",
   "metadata": {},
   "outputs": [
    {
     "name": "stdout",
     "output_type": "stream",
     "text": [
      "Enter a file name: score.txt\n"
     ]
    }
   ],
   "source": [
    "import os\n",
    "filename = input(\"Enter a file name: \")\n",
    "if os.path.exists(filename) == True:\n",
    "    f = open(filename, 'r')\n",
    "    \n",
    "    \n",
    "    f.close()\n",
    "else:\n",
    "    print('잘못된 파일 이름을 넘겼습니다.')"
   ]
  }
 ],
 "metadata": {
  "kernelspec": {
   "display_name": "Python [conda env:Miryeo]",
   "language": "python",
   "name": "conda-env-Miryeo-py"
  },
  "language_info": {
   "codemirror_mode": {
    "name": "ipython",
    "version": 3
   },
   "file_extension": ".py",
   "mimetype": "text/x-python",
   "name": "python",
   "nbconvert_exporter": "python",
   "pygments_lexer": "ipython3",
   "version": "3.8.16"
  }
 },
 "nbformat": 4,
 "nbformat_minor": 5
}
