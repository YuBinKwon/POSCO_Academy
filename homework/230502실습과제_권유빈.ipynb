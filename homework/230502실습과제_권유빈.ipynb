{
 "cells": [
  {
   "cell_type": "markdown",
   "id": "e6881d61",
   "metadata": {},
   "source": [
    "## 실습1"
   ]
  },
  {
   "cell_type": "code",
   "execution_count": 1,
   "id": "a15f95fb",
   "metadata": {},
   "outputs": [
    {
     "name": "stdout",
     "output_type": "stream",
     "text": [
      "6 14\n",
      "6 14\n"
     ]
    }
   ],
   "source": [
    "def my_len(x):\n",
    "    length=0\n",
    "    for i in x:\n",
    "        length+=1\n",
    "    return length\n",
    "\n",
    "a=[5,5,6,7,8,3]\n",
    "b='Life is short.'\n",
    "print(len(a), len(b))\n",
    "print(my_len(a), my_len(b))"
   ]
  },
  {
   "cell_type": "markdown",
   "id": "f12800e5",
   "metadata": {},
   "source": [
    "## 실습2"
   ]
  },
  {
   "cell_type": "code",
   "execution_count": 2,
   "id": "c9bd4191",
   "metadata": {},
   "outputs": [
    {
     "name": "stdout",
     "output_type": "stream",
     "text": [
      "6\n",
      "120\n"
     ]
    }
   ],
   "source": [
    "def mult(a,b):\n",
    "    m=1\n",
    "    for i in range(a,b+1):\n",
    "        m*=i\n",
    "    return m\n",
    "\n",
    "print(mult(1,3))\n",
    "print(mult(2,5))"
   ]
  },
  {
   "cell_type": "markdown",
   "id": "47e5f995",
   "metadata": {},
   "source": [
    "## 실습3"
   ]
  },
  {
   "cell_type": "code",
   "execution_count": 3,
   "id": "f0331071",
   "metadata": {},
   "outputs": [
    {
     "name": "stdout",
     "output_type": "stream",
     "text": [
      "7 -9\n",
      "1 -1\n"
     ]
    }
   ],
   "source": [
    "def sum_pos_neg(l):\n",
    "    p,n=0,0\n",
    "    for i in l:\n",
    "        if i>0:\n",
    "            p+=i\n",
    "        else:\n",
    "            n+=i\n",
    "    return p,n\n",
    "\n",
    "possum,negsum = sum_pos_neg([3,4,-6,-3])\n",
    "print(possum,negsum)\n",
    "\n",
    "mylist=[0,0,0,0,0,0,0,0,0,1,-1]\n",
    "possum2,negsum2 = sum_pos_neg(mylist)\n",
    "print(possum2, negsum2)"
   ]
  },
  {
   "cell_type": "markdown",
   "id": "5af0f235",
   "metadata": {},
   "source": [
    "## 실습4"
   ]
  },
  {
   "cell_type": "code",
   "execution_count": 4,
   "id": "e0497277",
   "metadata": {},
   "outputs": [
    {
     "name": "stdout",
     "output_type": "stream",
     "text": [
      "[1.5, 1.5] [7.5, 5.5] [4.13, 2.72]\n"
     ]
    }
   ],
   "source": [
    "def vector_sum(vector, *vectors):\n",
    "    x=vector[0]\n",
    "    y=vector[1]\n",
    "\n",
    "    for i in range(len(vectors)):\n",
    "        x+=vectors[i][0]\n",
    "        y+=vectors[i][1]\n",
    "    return [x,y]\n",
    "\n",
    "v1=[0, 1]\n",
    "v2=[0.5, 0.5]\n",
    "v3=[1, 0]\n",
    "v4=[6, 4]\n",
    "v5=[3.13, 2.72]\n",
    "\n",
    "m1 = vector_sum(v1, v2, v3)\n",
    "m2 = vector_sum(v1, v2, v3, v4)\n",
    "m3 = vector_sum(v3, v5)\n",
    "print(m1,m2,m3)"
   ]
  },
  {
   "cell_type": "markdown",
   "id": "e07d8212",
   "metadata": {},
   "source": [
    "## 실습5"
   ]
  },
  {
   "cell_type": "code",
   "execution_count": 5,
   "id": "04056592",
   "metadata": {},
   "outputs": [
    {
     "name": "stdout",
     "output_type": "stream",
     "text": [
      "[1, 1, 2, 2, 3, 5, 9]\n",
      "[0, 4, 6, 9]\n",
      "[0, 0]\n"
     ]
    }
   ],
   "source": [
    "def merge_list(a=[0],b=[0]):\n",
    "    l=a+b\n",
    "    l.sort()\n",
    "    return l\n",
    "\n",
    "l = [3, 5, 9, 1, 2]\n",
    "ml1 = merge_list(l,[2,1])\n",
    "ml2 = merge_list([6,9,4])\n",
    "ml3 = merge_list()\n",
    "print(ml1) \n",
    "print(ml2) \n",
    "print(ml3)"
   ]
  },
  {
   "cell_type": "markdown",
   "id": "10e3dcce",
   "metadata": {},
   "source": [
    "## 실습6"
   ]
  },
  {
   "cell_type": "code",
   "execution_count": 6,
   "id": "f2e1a91c",
   "metadata": {},
   "outputs": [
    {
     "name": "stdout",
     "output_type": "stream",
     "text": [
      "** 로또 번호 자동 기입을 시작합니다 **\n",
      "1번째 자동 기입 ==> 25 45 35 6 7 12 \n",
      "2번째 자동 기입 ==> 38 35 45 27 28 39 \n",
      "3번째 자동 기입 ==> 40 13 41 36 38 10 \n",
      "4번째 자동 기입 ==> 41 45 10 42 44 20 \n",
      "5번째 자동 기입 ==> 28 16 39 29 3 43 \n"
     ]
    }
   ],
   "source": [
    "import random\n",
    "print(\"** 로또 번호 자동 기입을 시작합니다 **\")\n",
    "l=[x for x in range(1,46)]\n",
    "for i in range(1,6):\n",
    "    s=random.sample(l,6)\n",
    "    print(\"%d번째 자동 기입 ==>\" %i, end=\" \")\n",
    "    for j in range(6):\n",
    "        print(s[j], end=\" \")\n",
    "    print()"
   ]
  },
  {
   "cell_type": "markdown",
   "id": "30765328",
   "metadata": {},
   "source": [
    "## 실습7"
   ]
  },
  {
   "cell_type": "code",
   "execution_count": 7,
   "id": "56281133",
   "metadata": {},
   "outputs": [
    {
     "name": "stdout",
     "output_type": "stream",
     "text": [
      "1\n",
      "9\n",
      "[3, 5, 2]\n"
     ]
    }
   ],
   "source": [
    "def get_min_max(l):\n",
    "    n=min(l)\n",
    "    m=max(l)\n",
    "    l.remove(n)\n",
    "    l.remove(m)\n",
    "    return n,m\n",
    "\n",
    "l=[3,5,9,1,2]\n",
    "min_val, max_val = get_min_max(l)\n",
    "\n",
    "print(min_val)\n",
    "print(max_val)\n",
    "print(l)"
   ]
  },
  {
   "cell_type": "markdown",
   "id": "56a2403a",
   "metadata": {},
   "source": [
    "## 실습8"
   ]
  },
  {
   "cell_type": "code",
   "execution_count": 8,
   "id": "b4b3bb46",
   "metadata": {},
   "outputs": [
    {
     "name": "stdout",
     "output_type": "stream",
     "text": [
      "{'a': 3, 'b': 3, 'd': 7, 'e': 9, 'c': 4}\n"
     ]
    }
   ],
   "source": [
    "def comb_dict(d1,d2):\n",
    "    d=d1.copy()\n",
    "    \n",
    "    for i in d2.keys():\n",
    "        if i in d:\n",
    "            d[i]+=d2[i]\n",
    "        else:\n",
    "            d[i]=d2[i]\n",
    "    return d\n",
    "    \n",
    "d1 = {'a': 1, 'b': 3, 'd': 7, 'e': 8}\n",
    "d2 = {'a': 2, 'c': 4, 'e': 1}\n",
    "d3 = comb_dict(d1, d2)\n",
    "print(d3)"
   ]
  },
  {
   "cell_type": "markdown",
   "id": "27b91092",
   "metadata": {},
   "source": [
    "## 실습9"
   ]
  },
  {
   "cell_type": "code",
   "execution_count": 9,
   "id": "117e5028",
   "metadata": {},
   "outputs": [
    {
     "name": "stdout",
     "output_type": "stream",
     "text": [
      "4\n",
      "300\n",
      "오류발생!\n"
     ]
    }
   ],
   "source": [
    "def diff(*x):\n",
    "    if len(x)<2:\n",
    "        print(\"오류발생!\")\n",
    "        return\n",
    "    else:\n",
    "        m=max(x)\n",
    "        n=min(x)\n",
    "        return m-n\n",
    "    \n",
    "print(diff(1,2,3,4,5))\n",
    "print(diff(-100,200))\n",
    "diff(1)"
   ]
  },
  {
   "cell_type": "code",
   "execution_count": null,
   "id": "7e22b08b",
   "metadata": {},
   "outputs": [],
   "source": []
  }
 ],
 "metadata": {
  "kernelspec": {
   "display_name": "Python 3 (ipykernel)",
   "language": "python",
   "name": "python3"
  },
  "language_info": {
   "codemirror_mode": {
    "name": "ipython",
    "version": 3
   },
   "file_extension": ".py",
   "mimetype": "text/x-python",
   "name": "python",
   "nbconvert_exporter": "python",
   "pygments_lexer": "ipython3",
   "version": "3.10.9"
  }
 },
 "nbformat": 4,
 "nbformat_minor": 5
}
