{
 "cells": [
  {
   "cell_type": "markdown",
   "metadata": {},
   "source": [
    "## Object Oriented Programming\n",
    "### 객체 지향 프로그래밍\n",
    "* 모든 동작을 객체간의 상호작용으로 서로\n",
    "* 객체 : 변수와 메서드를 담는 추상적 개념. 객체 안의 함수일 때 메서드!\n",
    " (리스트라는 객체 안에 포함된 메서드 ex. append, clear...)"
   ]
  },
  {
   "cell_type": "markdown",
   "metadata": {},
   "source": [
    "## 클래스\n",
    "* 설계도!\n",
    "* 데이터와 함수를 묶어 객체로 만들어 준다.\n",
    "\n",
    "### 클래스 객체\n",
    "* 완벽히 만들어진 클래스\n",
    "* 클래스 구성요소(어트리뷰트) : 변수(데이터 어트리뷰트), 메서드(메서드 어트리뷰트)"
   ]
  },
  {
   "cell_type": "code",
   "execution_count": 2,
   "metadata": {},
   "outputs": [],
   "source": [
    "class Dog:\n",
    "    \"\"\"A simple example class\"\"\"\n",
    "    name='MongJa' # 데이터 어트리뷰트\n",
    "    \n",
    "    def bark(self): # 메서드 어트리뷰트 - 무조건 첫 인자를 받음. 따라서 self 입력!!!\n",
    "        return 'wal wal'"
   ]
  },
  {
   "cell_type": "markdown",
   "metadata": {},
   "source": [
    "### 인스턴스 객체 \n",
    "* 오직 한가지 연산만 가능, 어트리뷰트 참조(.)"
   ]
  },
  {
   "cell_type": "code",
   "execution_count": 11,
   "metadata": {},
   "outputs": [
    {
     "data": {
      "text/plain": [
       "'MongJa'"
      ]
     },
     "execution_count": 11,
     "metadata": {},
     "output_type": "execute_result"
    }
   ],
   "source": [
    "dog1=Dog() # dog1 : 인스턴스 객체\n",
    "dog1.name"
   ]
  },
  {
   "cell_type": "code",
   "execution_count": 12,
   "metadata": {},
   "outputs": [
    {
     "data": {
      "text/plain": [
       "<bound method Dog.bark of <__main__.Dog object at 0x7efd7571aa70>>"
      ]
     },
     "execution_count": 12,
     "metadata": {},
     "output_type": "execute_result"
    }
   ],
   "source": [
    "dog1.bark # 함수 출력x , 정보만 출력"
   ]
  },
  {
   "cell_type": "code",
   "execution_count": 16,
   "metadata": {},
   "outputs": [
    {
     "data": {
      "text/plain": [
       "'wal wal'"
      ]
     },
     "execution_count": 16,
     "metadata": {},
     "output_type": "execute_result"
    }
   ],
   "source": [
    "dog1.bark() # 함수를 호출해야 결과 출력\n",
    "\n",
    "# self 인자가 있지만 넘겨주지 않아도 실행됨. 왜?\n",
    "# : 인스턴스 안의 메서드 어트리뷰트를 출력할 때 자기 자신을 인자로 넘긴다."
   ]
  },
  {
   "cell_type": "code",
   "execution_count": 17,
   "metadata": {},
   "outputs": [],
   "source": [
    "dog1.name='j'"
   ]
  },
  {
   "cell_type": "code",
   "execution_count": 18,
   "metadata": {},
   "outputs": [
    {
     "data": {
      "text/plain": [
       "'j'"
      ]
     },
     "execution_count": 18,
     "metadata": {},
     "output_type": "execute_result"
    }
   ],
   "source": [
    "dog1.name"
   ]
  },
  {
   "cell_type": "markdown",
   "metadata": {},
   "source": [
    "### 메서드 객체\n",
    "* 클래스에 종속되어 있는 함수\n",
    "* 대상이 되는 객체가 있어야 사용, 모든 메서드는 첫 번째 인자가 항상 존재"
   ]
  },
  {
   "cell_type": "markdown",
   "metadata": {},
   "source": [
    "### 특수 메서드\n",
    "* 클래스 정의 시 기본적으로 가지게 되는 메서드\n",
    "* __메서드__\n",
    "* __init__ : 인스턴스 생성시 자동으로 호출, return 값은 None(보통 생략)\n",
    "\n",
    "#### __init__\n",
    "* 초기화시 사용"
   ]
  },
  {
   "cell_type": "code",
   "execution_count": 19,
   "metadata": {},
   "outputs": [],
   "source": [
    "class Sample:\n",
    "    def __init__(self):\n",
    "        print(\"init 함수가 호출되었네요\")"
   ]
  },
  {
   "cell_type": "code",
   "execution_count": 20,
   "metadata": {},
   "outputs": [
    {
     "name": "stdout",
     "output_type": "stream",
     "text": [
      "init 함수가 호출되었네요\n"
     ]
    }
   ],
   "source": [
    "a=Sample()"
   ]
  },
  {
   "cell_type": "code",
   "execution_count": 26,
   "metadata": {},
   "outputs": [],
   "source": [
    "class Building: # self : 대상이 되는 객체(인스턴스)가 들어옴. a=Building()시 a)\n",
    "    def __init__(self, name=\"공학1동\", h=3, elev=True): # 초기화. 디폴트 매개변수\n",
    "        self.name=name # a.name=name 객체 a에 name 변수를 만들어 name 입력\n",
    "        self.h=h\n",
    "        self.elev=elev\n",
    "        \n",
    "    def get_info(self): # 대상이 되는 객체 a\n",
    "        print(\"건물이름=\", self.name)\n",
    "        print(\"건물층수=\", self.h)\n",
    "        print(\"엘리베이터 유무=\", self.elev)"
   ]
  },
  {
   "cell_type": "code",
   "execution_count": 27,
   "metadata": {},
   "outputs": [],
   "source": [
    "a=Building()\n",
    "b=Building(\"공학2동\",10,True) # 함수처럼 인자를 넘겨줌.\n",
    "# __init__ 함수의 인자로 넘어간다."
   ]
  },
  {
   "cell_type": "code",
   "execution_count": 28,
   "metadata": {},
   "outputs": [
    {
     "name": "stdout",
     "output_type": "stream",
     "text": [
      "건물이름= 공학1동\n",
      "건물층수= 3\n",
      "엘리베이터 유무= True\n"
     ]
    }
   ],
   "source": [
    "a.get_info()"
   ]
  },
  {
   "cell_type": "code",
   "execution_count": 29,
   "metadata": {},
   "outputs": [
    {
     "name": "stdout",
     "output_type": "stream",
     "text": [
      "건물이름= 공학2동\n",
      "건물층수= 10\n",
      "엘리베이터 유무= True\n"
     ]
    }
   ],
   "source": [
    "b.get_info()"
   ]
  },
  {
   "cell_type": "markdown",
   "metadata": {},
   "source": [
    "### 클래스 실습"
   ]
  },
  {
   "cell_type": "code",
   "execution_count": 46,
   "metadata": {},
   "outputs": [],
   "source": [
    "class Person:\n",
    "    def __init__(self, name, age, height, weight):\n",
    "        self.n=name\n",
    "        self.a=age\n",
    "        self.h=height\n",
    "        self.w=weight\n",
    "    def age_plus(self):\n",
    "        self.a+=1\n",
    "    def height_c(self,height):\n",
    "        self.h=height\n",
    "    def weight_c(self,weight):\n",
    "        self.w=weight\n",
    "    def get_info(self):\n",
    "        print(\"이름:\", self.n)\n",
    "        print(\"나이:\", self.a)\n",
    "        print(\"키:\", self.h)\n",
    "        print(\"몸무게:\", self.w)"
   ]
  },
  {
   "cell_type": "code",
   "execution_count": 47,
   "metadata": {},
   "outputs": [],
   "source": [
    "p1=Person(\"HongGilDong\", 40, 170, 70)\n",
    "p2=Person(\"YuBinKwon\", 25, 165, 45)"
   ]
  },
  {
   "cell_type": "code",
   "execution_count": 48,
   "metadata": {},
   "outputs": [
    {
     "name": "stdout",
     "output_type": "stream",
     "text": [
      "이름: HongGilDong\n",
      "나이: 40\n",
      "키: 170\n",
      "몸무게: 70\n"
     ]
    }
   ],
   "source": [
    "p1.get_info()"
   ]
  },
  {
   "cell_type": "code",
   "execution_count": 49,
   "metadata": {},
   "outputs": [],
   "source": [
    "p1.age_plus()"
   ]
  },
  {
   "cell_type": "code",
   "execution_count": 50,
   "metadata": {},
   "outputs": [
    {
     "name": "stdout",
     "output_type": "stream",
     "text": [
      "이름: HongGilDong\n",
      "나이: 41\n",
      "키: 170\n",
      "몸무게: 70\n"
     ]
    }
   ],
   "source": [
    "p1.get_info()"
   ]
  },
  {
   "cell_type": "code",
   "execution_count": 51,
   "metadata": {},
   "outputs": [],
   "source": [
    "p1.height_c(160)"
   ]
  },
  {
   "cell_type": "code",
   "execution_count": 52,
   "metadata": {},
   "outputs": [
    {
     "name": "stdout",
     "output_type": "stream",
     "text": [
      "이름: HongGilDong\n",
      "나이: 41\n",
      "키: 160\n",
      "몸무게: 70\n"
     ]
    }
   ],
   "source": [
    "p1.get_info()"
   ]
  },
  {
   "cell_type": "code",
   "execution_count": 53,
   "metadata": {},
   "outputs": [
    {
     "name": "stdout",
     "output_type": "stream",
     "text": [
      "이름: YuBinKwon\n",
      "나이: 25\n",
      "키: 165\n",
      "몸무게: 45\n"
     ]
    }
   ],
   "source": [
    "p2.get_info()"
   ]
  },
  {
   "cell_type": "code",
   "execution_count": 54,
   "metadata": {},
   "outputs": [],
   "source": [
    "p2.weight_c(50)"
   ]
  },
  {
   "cell_type": "code",
   "execution_count": 55,
   "metadata": {},
   "outputs": [
    {
     "name": "stdout",
     "output_type": "stream",
     "text": [
      "이름: YuBinKwon\n",
      "나이: 25\n",
      "키: 165\n",
      "몸무게: 50\n"
     ]
    }
   ],
   "source": [
    "p2.get_info()"
   ]
  },
  {
   "cell_type": "markdown",
   "metadata": {},
   "source": [
    "### SELF"
   ]
  },
  {
   "cell_type": "code",
   "execution_count": 56,
   "metadata": {},
   "outputs": [],
   "source": [
    "class Dog:\n",
    "    def __init__(self,name,age):\n",
    "        self.name=name\n",
    "        self.age=age\n",
    "    def print_name_age(self):\n",
    "        print(self.name, self.age)"
   ]
  },
  {
   "cell_type": "code",
   "execution_count": 57,
   "metadata": {},
   "outputs": [],
   "source": [
    "d1=Dog(\"yomi\",5)\n",
    "d2=Dog(\"DangDangE\",2)"
   ]
  },
  {
   "cell_type": "code",
   "execution_count": 58,
   "metadata": {},
   "outputs": [
    {
     "name": "stdout",
     "output_type": "stream",
     "text": [
      "yomi 5\n",
      "DangDangE 2\n"
     ]
    }
   ],
   "source": [
    "d1.print_name_age()\n",
    "d2.print_name_age()"
   ]
  },
  {
   "cell_type": "code",
   "execution_count": 59,
   "metadata": {},
   "outputs": [
    {
     "name": "stdout",
     "output_type": "stream",
     "text": [
      "yomi 5\n",
      "DangDangE 2\n"
     ]
    }
   ],
   "source": [
    "Dog.print_name_age(d1) # 동일한 결과가 나온다. self에 대상이 되는 객체가 넘어감\n",
    "Dog.print_name_age(d2) # 원래 이와 같이 실행됨"
   ]
  },
  {
   "cell_type": "code",
   "execution_count": 60,
   "metadata": {},
   "outputs": [],
   "source": [
    "a=[1,2,3]\n",
    "b=[4,5,6]\n",
    "c=[7,8,9]"
   ]
  },
  {
   "cell_type": "code",
   "execution_count": 61,
   "metadata": {},
   "outputs": [],
   "source": [
    "list.append(a,5)"
   ]
  },
  {
   "cell_type": "code",
   "execution_count": 62,
   "metadata": {},
   "outputs": [
    {
     "data": {
      "text/plain": [
       "[1, 2, 3, 5]"
      ]
     },
     "execution_count": 62,
     "metadata": {},
     "output_type": "execute_result"
    }
   ],
   "source": [
    "a"
   ]
  },
  {
   "cell_type": "code",
   "execution_count": 63,
   "metadata": {},
   "outputs": [],
   "source": [
    "a.append(4) # self를 이용해 직관적으로 사용 가능"
   ]
  },
  {
   "cell_type": "code",
   "execution_count": 64,
   "metadata": {},
   "outputs": [
    {
     "data": {
      "text/plain": [
       "[1, 2, 3, 5, 4]"
      ]
     },
     "execution_count": 64,
     "metadata": {},
     "output_type": "execute_result"
    }
   ],
   "source": [
    "a"
   ]
  },
  {
   "cell_type": "markdown",
   "metadata": {},
   "source": [
    "### 클래스와 인스턴스 데이터\n",
    "* 변수 수정시 주의사항\n",
    "* 인스턴스 데이터 = 인스턴스가 가지는 데이터\n",
    "* 클래스 데이터 = 클래스 내에서 정의된 데이터. 모든 인스턴스가 공유"
   ]
  },
  {
   "cell_type": "markdown",
   "metadata": {},
   "source": [
    "#### 클래스 변수\n",
    "* 수정 불가능(immutable)\n",
    "* 변경시 새로운 변수 생성 및 해당 인스턴스 변수에 귀속\n",
    "* 단, mutable 객체(리스트)의 경우 직접 수정 가능"
   ]
  },
  {
   "cell_type": "markdown",
   "metadata": {},
   "source": [
    "### 실습1"
   ]
  },
  {
   "cell_type": "code",
   "execution_count": 65,
   "metadata": {},
   "outputs": [],
   "source": [
    "class BankAccount:\n",
    "    def __init__(self,balance=0,name=\"none\"):\n",
    "        self.b=balance\n",
    "        self.n=name\n",
    "    def deposit(self, amount):\n",
    "        self.b+=amount\n",
    "    def withdraw(self, amount):\n",
    "        if (self.b-amount)<0:\n",
    "            print(\"잔액 부족\")\n",
    "        else:\n",
    "            self.b-=amount\n",
    "    def get_info(self):\n",
    "        print(\"이름:\", self.n)\n",
    "        print(\"잔고:\", self.b)"
   ]
  },
  {
   "cell_type": "code",
   "execution_count": 67,
   "metadata": {},
   "outputs": [
    {
     "name": "stdout",
     "output_type": "stream",
     "text": [
      "이름: Gildong Hong\n",
      "잔고: 100\n",
      "이름: yubin\n",
      "잔고: 200\n",
      "\n",
      "이름: Gildong Hong\n",
      "잔고: 150\n",
      "\n",
      "잔액 부족\n",
      "\n",
      "이름: Gildong Hong\n",
      "잔고: 150\n",
      "\n",
      "이름: yubin\n",
      "잔고: 600\n",
      "\n",
      "이름: yubin\n",
      "잔고: 300\n"
     ]
    }
   ],
   "source": [
    "a=BankAccount(100, \"Gildong Hong\")\n",
    "b=BankAccount(200, \"yubin\")\n",
    "a.get_info()\n",
    "b.get_info()\n",
    "print()\n",
    "a.deposit(50)\n",
    "a.get_info()\n",
    "print()\n",
    "a.withdraw(200)\n",
    "print()\n",
    "a.get_info()\n",
    "print()\n",
    "b.deposit(400)\n",
    "b.get_info()\n",
    "print()\n",
    "b.withdraw(300)\n",
    "b.get_info()"
   ]
  },
  {
   "cell_type": "code",
   "execution_count": 68,
   "metadata": {},
   "outputs": [
    {
     "name": "stdout",
     "output_type": "stream",
     "text": [
      "이름: none\n",
      "잔고: 0\n"
     ]
    }
   ],
   "source": [
    "c=BankAccount()\n",
    "c.get_info()"
   ]
  },
  {
   "cell_type": "markdown",
   "metadata": {},
   "source": [
    "### 상속"
   ]
  },
  {
   "cell_type": "code",
   "execution_count": 69,
   "metadata": {},
   "outputs": [],
   "source": [
    "class A:\n",
    "    a=1\n",
    "    def print_a(self):\n",
    "        print(\"A class\")\n",
    "        \n",
    "class B:\n",
    "    b=1\n",
    "    def print_b(self):\n",
    "        print(\"B class\")\n",
    "        \n",
    "class C(A):\n",
    "    c=1\n",
    "    def print_c(self):\n",
    "        print(\"C class\")\n",
    "        \n",
    "class D(C,B): # 다중 상속 - 앞에서부터 우선순위\n",
    "    d=1\n",
    "    def print_d(self):\n",
    "        print(\"D class\")"
   ]
  },
  {
   "cell_type": "code",
   "execution_count": 70,
   "metadata": {},
   "outputs": [],
   "source": [
    "c=C()\n",
    "d=D()"
   ]
  },
  {
   "cell_type": "code",
   "execution_count": 71,
   "metadata": {},
   "outputs": [
    {
     "name": "stdout",
     "output_type": "stream",
     "text": [
      "A class\n"
     ]
    }
   ],
   "source": [
    "c.print_a()"
   ]
  },
  {
   "cell_type": "code",
   "execution_count": 72,
   "metadata": {},
   "outputs": [
    {
     "data": {
      "text/plain": [
       "[__main__.D, __main__.C, __main__.A, __main__.B, object]"
      ]
     },
     "execution_count": 72,
     "metadata": {},
     "output_type": "execute_result"
    }
   ],
   "source": [
    "D.mro() # method resolution order"
   ]
  },
  {
   "cell_type": "markdown",
   "metadata": {},
   "source": [
    "### 메서드 오버라이딩\n",
    "* 덮어쓰기\n",
    "* 기존 클래스의 메서드를 하위 클래스에서 재정의\n",
    "* super() 상위 클래스의 함수를 그대로 사용. 뒤에 코드를 더 작성한 경우 이어서 실행"
   ]
  },
  {
   "cell_type": "code",
   "execution_count": 75,
   "metadata": {},
   "outputs": [],
   "source": [
    "class A():\n",
    "    def __init__(self):\n",
    "        print(\"this is A __init__\")\n",
    "        self.var1=0\n",
    "        self.var2=0\n",
    "        \n",
    "class B(A):\n",
    "    def __init__(self):\n",
    "        super().__init__()\n",
    "        print(\"this is B __init__\")\n",
    "        self.var3=0\n",
    "        self.var4=0"
   ]
  },
  {
   "cell_type": "code",
   "execution_count": 76,
   "metadata": {},
   "outputs": [
    {
     "name": "stdout",
     "output_type": "stream",
     "text": [
      "this is A __init__\n",
      "this is B __init__\n"
     ]
    }
   ],
   "source": [
    "b=B()"
   ]
  },
  {
   "cell_type": "markdown",
   "metadata": {},
   "source": [
    "### 실습2"
   ]
  },
  {
   "cell_type": "code",
   "execution_count": 82,
   "metadata": {},
   "outputs": [],
   "source": [
    "class MinimumBalanceAccount(BankAccount):\n",
    "    def __init__(self,balance=0,name=\"none\",min_bal=0): # min_bal 오버라이딩\n",
    "        super().__init__(balance,name)\n",
    "        self.min_b=min_bal\n",
    "    def withdraw(self,amount):\n",
    "        if (self.b-amount)<0:\n",
    "            print(\"잔액 부족\")\n",
    "        elif (self.b-amount)<self.min_b:\n",
    "            print(\"최소 잔액을 유지해야 합니다.\")\n",
    "        else:\n",
    "            self.b-=amount"
   ]
  },
  {
   "cell_type": "code",
   "execution_count": 83,
   "metadata": {},
   "outputs": [
    {
     "name": "stdout",
     "output_type": "stream",
     "text": [
      "최소 잔액을 유지해야 합니다.\n"
     ]
    }
   ],
   "source": [
    "acc = MinimumBalanceAccount(500,\"kim\",1000)\n",
    "acc.deposit(1000)\n",
    "acc.withdraw(600)"
   ]
  },
  {
   "cell_type": "code",
   "execution_count": 84,
   "metadata": {},
   "outputs": [
    {
     "name": "stdout",
     "output_type": "stream",
     "text": [
      "이름: kim\n",
      "잔고: 1500\n"
     ]
    }
   ],
   "source": [
    "acc.get_info()"
   ]
  },
  {
   "cell_type": "code",
   "execution_count": null,
   "metadata": {},
   "outputs": [],
   "source": [
    "class MinimumBalanceAccount(BankAccount):\n",
    "    def __init__(self,balance=0,name=\"none\",min_bal=0): # min_bal 오버라이딩\n",
    "        super().__init__(balance,name)\n",
    "        self.min_b=min_bal\n",
    "    def withdraw(self,amount):\n",
    "        if (self.b-amount)<self.min_b:\n",
    "            print(\"최소 잔액을 유지해야 합니다.\")\n",
    "        else:\n",
    "            super().withdraw(amount)"
   ]
  },
  {
   "cell_type": "code",
   "execution_count": null,
   "metadata": {},
   "outputs": [],
   "source": []
  },
  {
   "cell_type": "code",
   "execution_count": null,
   "metadata": {},
   "outputs": [],
   "source": []
  },
  {
   "cell_type": "code",
   "execution_count": null,
   "metadata": {},
   "outputs": [],
   "source": []
  },
  {
   "cell_type": "code",
   "execution_count": null,
   "metadata": {},
   "outputs": [],
   "source": []
  }
 ],
 "metadata": {
  "kernelspec": {
   "display_name": "Python 3",
   "language": "python",
   "name": "python3"
  },
  "language_info": {
   "codemirror_mode": {
    "name": "ipython",
    "version": 3
   },
   "file_extension": ".py",
   "mimetype": "text/x-python",
   "name": "python",
   "nbconvert_exporter": "python",
   "pygments_lexer": "ipython3",
   "version": "3.8.3"
  }
 },
 "nbformat": 4,
 "nbformat_minor": 5
}
