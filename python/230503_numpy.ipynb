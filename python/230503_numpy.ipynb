{
 "cells": [
  {
   "cell_type": "markdown",
   "id": "9de6d89f",
   "metadata": {},
   "source": [
    "## Numpy\n",
    "* array (mutable) = 요소들의 테이블\n",
    "* 요소가 모두 같은 데이터 타입\n",
    "* 양의 정수로 구성된 튜플로 인덱싱\n",
    "* numpy의 차원은 axis (axis 0 : ->)"
   ]
  },
  {
   "cell_type": "code",
   "execution_count": 1,
   "id": "f018b0a0",
   "metadata": {},
   "outputs": [],
   "source": [
    "import numpy as np"
   ]
  },
  {
   "cell_type": "code",
   "execution_count": 2,
   "id": "0761460f",
   "metadata": {},
   "outputs": [
    {
     "data": {
      "text/plain": [
       "'1.23.5'"
      ]
     },
     "execution_count": 2,
     "metadata": {},
     "output_type": "execute_result"
    }
   ],
   "source": [
    "np.__version__"
   ]
  },
  {
   "cell_type": "markdown",
   "id": "f961ce89",
   "metadata": {},
   "source": [
    "### array"
   ]
  },
  {
   "cell_type": "code",
   "execution_count": 7,
   "id": "4886de4a",
   "metadata": {},
   "outputs": [
    {
     "name": "stdout",
     "output_type": "stream",
     "text": [
      "[2 3 4]\n",
      "<class 'numpy.ndarray'>\n",
      "int64\n",
      "<class 'list'>\n"
     ]
    }
   ],
   "source": [
    "a=np.array([2,3,4])\n",
    "print(a)\n",
    "print(type(a))\n",
    "print(a.dtype)\n",
    "\n",
    "a=[2,3,4]\n",
    "print(type(a))"
   ]
  },
  {
   "cell_type": "code",
   "execution_count": 8,
   "id": "1db86924",
   "metadata": {},
   "outputs": [
    {
     "data": {
      "text/plain": [
       "dtype('float64')"
      ]
     },
     "execution_count": 8,
     "metadata": {},
     "output_type": "execute_result"
    }
   ],
   "source": [
    "b=np.array([1.2, 4.3, 6.2])\n",
    "b.dtype"
   ]
  },
  {
   "cell_type": "code",
   "execution_count": 9,
   "id": "ae7adb7a",
   "metadata": {},
   "outputs": [
    {
     "name": "stdout",
     "output_type": "stream",
     "text": [
      "2\n",
      "(2, 3)\n",
      "6\n",
      "int64\n",
      "8\n",
      "<memory at 0x7f4eb4063920>\n"
     ]
    }
   ],
   "source": [
    "c=np.array([[1,2,3],[4,5,6]])\n",
    "print(c.ndim)\n",
    "print(c.shape)\n",
    "print(c.size)\n",
    "print(c.dtype)\n",
    "print(c.itemsize)\n",
    "print(c.data)"
   ]
  },
  {
   "cell_type": "code",
   "execution_count": 11,
   "id": "259d3a12",
   "metadata": {},
   "outputs": [
    {
     "data": {
      "text/plain": [
       "array([[1.17048183e-316, 0.00000000e+000],\n",
       "       [1.18565716e-316, 1.05940560e-316]])"
      ]
     },
     "execution_count": 11,
     "metadata": {},
     "output_type": "execute_result"
    }
   ],
   "source": [
    "# ndarray\n",
    "\n",
    "d=np.ndarray((2,2)) # shape을 input으로 받음\n",
    "d # 안에는 랜덤한 값"
   ]
  },
  {
   "cell_type": "code",
   "execution_count": 12,
   "id": "4f826beb",
   "metadata": {},
   "outputs": [
    {
     "data": {
      "text/plain": [
       "array([[1.+0.j, 2.+0.j],\n",
       "       [3.+0.j, 4.+0.j]])"
      ]
     },
     "execution_count": 12,
     "metadata": {},
     "output_type": "execute_result"
    }
   ],
   "source": [
    "e=np.array([[1,2],[3,4]], dtype=complex)\n",
    "e"
   ]
  },
  {
   "cell_type": "code",
   "execution_count": 13,
   "id": "995a1ac7",
   "metadata": {},
   "outputs": [
    {
     "name": "stdout",
     "output_type": "stream",
     "text": [
      "[[0. 0. 0. 0.]\n",
      " [0. 0. 0. 0.]\n",
      " [0. 0. 0. 0.]]\n"
     ]
    }
   ],
   "source": [
    "print(np.zeros((3,4))) # (3,4) shape을 가진 배열. 원소는 0으로 초기화"
   ]
  },
  {
   "cell_type": "code",
   "execution_count": 15,
   "id": "32246dfe",
   "metadata": {},
   "outputs": [
    {
     "name": "stdout",
     "output_type": "stream",
     "text": [
      "[[[1 1 1 1]\n",
      "  [1 1 1 1]\n",
      "  [1 1 1 1]]\n",
      "\n",
      " [[1 1 1 1]\n",
      "  [1 1 1 1]\n",
      "  [1 1 1 1]]]\n"
     ]
    }
   ],
   "source": [
    "print(np.ones((2,3,4), dtype=np.int16)) # 3차원 array. 원소 1로 초기화"
   ]
  },
  {
   "cell_type": "code",
   "execution_count": 16,
   "id": "05f5a5ce",
   "metadata": {},
   "outputs": [
    {
     "data": {
      "text/plain": [
       "array([10, 15, 20, 25])"
      ]
     },
     "execution_count": 16,
     "metadata": {},
     "output_type": "execute_result"
    }
   ],
   "source": [
    "a=np.arange(10,30,5) # 시작값, 끝값, step\n",
    "a"
   ]
  },
  {
   "cell_type": "code",
   "execution_count": 17,
   "id": "9c29333e",
   "metadata": {},
   "outputs": [
    {
     "data": {
      "text/plain": [
       "array([0. , 0.3, 0.6, 0.9, 1.2, 1.5, 1.8])"
      ]
     },
     "execution_count": 17,
     "metadata": {},
     "output_type": "execute_result"
    }
   ],
   "source": [
    "b=np.arange(0,2,0.3)\n",
    "b"
   ]
  },
  {
   "cell_type": "code",
   "execution_count": 18,
   "id": "e4dbd43b",
   "metadata": {},
   "outputs": [
    {
     "data": {
      "text/plain": [
       "array([0. , 0.3, 0.6, 0.9, 1.2, 1.5, 1.8, 2.1])"
      ]
     },
     "execution_count": 18,
     "metadata": {},
     "output_type": "execute_result"
    }
   ],
   "source": [
    "b=np.arange(0,2.1,0.3) # 끝 값인 2.1이 포함됨. step형이 실수일 경우 정확히 동작하지 x\n",
    "b"
   ]
  },
  {
   "cell_type": "code",
   "execution_count": 19,
   "id": "dd885880",
   "metadata": {},
   "outputs": [
    {
     "data": {
      "text/plain": [
       "array([0.  , 0.25, 0.5 , 0.75, 1.  , 1.25, 1.5 , 1.75, 2.  ])"
      ]
     },
     "execution_count": 19,
     "metadata": {},
     "output_type": "execute_result"
    }
   ],
   "source": [
    "c=np.linspace(0,2,9) # 시작값, 끝값, 개수\n",
    "c"
   ]
  },
  {
   "cell_type": "code",
   "execution_count": 22,
   "id": "df99ee2e",
   "metadata": {},
   "outputs": [
    {
     "name": "stdout",
     "output_type": "stream",
     "text": [
      "[   0    1    2 ... 9997 9998 9999]\n"
     ]
    }
   ],
   "source": [
    "a=np.arange(10000)\n",
    "print(a) # 배열이 너무 큰 경우 중간 부분 자동으로 생략해 print"
   ]
  },
  {
   "cell_type": "code",
   "execution_count": 23,
   "id": "642f4b7c",
   "metadata": {},
   "outputs": [
    {
     "name": "stdout",
     "output_type": "stream",
     "text": [
      "[[   0    1    2 ...   97   98   99]\n",
      " [ 100  101  102 ...  197  198  199]\n",
      " [ 200  201  202 ...  297  298  299]\n",
      " ...\n",
      " [9700 9701 9702 ... 9797 9798 9799]\n",
      " [9800 9801 9802 ... 9897 9898 9899]\n",
      " [9900 9901 9902 ... 9997 9998 9999]]\n"
     ]
    }
   ],
   "source": [
    "b=np.arange(10000).reshape(100,100) # 2차원 배열, 100*100으로 만들기\n",
    "print(b)"
   ]
  },
  {
   "cell_type": "code",
   "execution_count": null,
   "id": "f92bdd97",
   "metadata": {},
   "outputs": [],
   "source": [
    "np.set_printoptions(threshold=sys.maxsize) # 배열 중간 생략하지 않고 모두 출력\n",
    "print(b)"
   ]
  },
  {
   "cell_type": "code",
   "execution_count": null,
   "id": "35f93921",
   "metadata": {},
   "outputs": [],
   "source": [
    "np.set_printoptions(threshold=100) # 100개 넘어가면 생략해라\n",
    "print(b)"
   ]
  },
  {
   "cell_type": "markdown",
   "id": "6a964bd9",
   "metadata": {},
   "source": [
    "### Array Indexing"
   ]
  },
  {
   "cell_type": "code",
   "execution_count": 32,
   "id": "bb5d5450",
   "metadata": {},
   "outputs": [
    {
     "name": "stdout",
     "output_type": "stream",
     "text": [
      "[100 101 102 103 104 105 106 107 108 109]\n"
     ]
    }
   ],
   "source": [
    "x=np.arange(100,110)\n",
    "print(x)"
   ]
  },
  {
   "cell_type": "code",
   "execution_count": 33,
   "id": "b5531236",
   "metadata": {},
   "outputs": [
    {
     "data": {
      "text/plain": [
       "102"
      ]
     },
     "execution_count": 33,
     "metadata": {},
     "output_type": "execute_result"
    }
   ],
   "source": [
    "x[2]"
   ]
  },
  {
   "cell_type": "code",
   "execution_count": 34,
   "id": "c681850c",
   "metadata": {},
   "outputs": [
    {
     "data": {
      "text/plain": [
       "108"
      ]
     },
     "execution_count": 34,
     "metadata": {},
     "output_type": "execute_result"
    }
   ],
   "source": [
    "x[-2]"
   ]
  },
  {
   "cell_type": "code",
   "execution_count": 35,
   "id": "2c8ca06e",
   "metadata": {},
   "outputs": [
    {
     "name": "stdout",
     "output_type": "stream",
     "text": [
      "[[100 101 102 103 104]\n",
      " [105 106 107 108 109]]\n"
     ]
    }
   ],
   "source": [
    "x.resize(2,5) # 2*5 형태\n",
    "print(x)"
   ]
  },
  {
   "cell_type": "code",
   "execution_count": 36,
   "id": "338c3628",
   "metadata": {},
   "outputs": [
    {
     "name": "stdout",
     "output_type": "stream",
     "text": [
      "108\n"
     ]
    }
   ],
   "source": [
    "print(x[1,3])"
   ]
  },
  {
   "cell_type": "code",
   "execution_count": 37,
   "id": "f7f48886",
   "metadata": {},
   "outputs": [
    {
     "name": "stdout",
     "output_type": "stream",
     "text": [
      "108\n"
     ]
    }
   ],
   "source": [
    "print(x[1][3])"
   ]
  },
  {
   "cell_type": "code",
   "execution_count": 38,
   "id": "1c0ed579",
   "metadata": {},
   "outputs": [
    {
     "name": "stdout",
     "output_type": "stream",
     "text": [
      "109\n"
     ]
    }
   ],
   "source": [
    "print(x[1,-1])"
   ]
  },
  {
   "cell_type": "code",
   "execution_count": 39,
   "id": "7a8414aa",
   "metadata": {},
   "outputs": [
    {
     "name": "stdout",
     "output_type": "stream",
     "text": [
      "103\n"
     ]
    }
   ],
   "source": [
    "print(x[0][-2])"
   ]
  },
  {
   "cell_type": "code",
   "execution_count": 40,
   "id": "9d67d7c6",
   "metadata": {},
   "outputs": [
    {
     "name": "stdout",
     "output_type": "stream",
     "text": [
      "[100 101 102 103 104]\n"
     ]
    }
   ],
   "source": [
    "print(x[0])"
   ]
  },
  {
   "cell_type": "markdown",
   "id": "b590ee8b",
   "metadata": {},
   "source": [
    "### list, array를 활용한 indexing"
   ]
  },
  {
   "cell_type": "code",
   "execution_count": 43,
   "id": "e8033b38",
   "metadata": {},
   "outputs": [],
   "source": [
    "a=np.array([[1,2,3],[4,5,6],[7,8,9]])"
   ]
  },
  {
   "cell_type": "code",
   "execution_count": 44,
   "id": "f3fc0399",
   "metadata": {},
   "outputs": [
    {
     "name": "stdout",
     "output_type": "stream",
     "text": [
      "[1 6 7 2]\n"
     ]
    }
   ],
   "source": [
    "print(a[[0,1,2,0],[0,2,0,1]]) \n",
    "# [a[0,0], a[1,2], a[2,0], a[0,1]]"
   ]
  },
  {
   "cell_type": "code",
   "execution_count": 45,
   "id": "93d2957e",
   "metadata": {},
   "outputs": [
    {
     "name": "stdout",
     "output_type": "stream",
     "text": [
      "[1 9 1 5]\n"
     ]
    }
   ],
   "source": [
    "b=np.array([0,2,0,1])\n",
    "print(a[b,b])\n",
    "# [a[0,0], a[2,2], a[0,0], a[1,1]]"
   ]
  },
  {
   "cell_type": "code",
   "execution_count": 46,
   "id": "ba564e56",
   "metadata": {},
   "outputs": [
    {
     "name": "stdout",
     "output_type": "stream",
     "text": [
      "[0 1 2 3 4 5 6 7 8 9]\n"
     ]
    }
   ],
   "source": [
    "x=np.arange(10)\n",
    "print(x)"
   ]
  },
  {
   "cell_type": "markdown",
   "id": "1bb386d9",
   "metadata": {},
   "source": [
    "### [start : stop : step]"
   ]
  },
  {
   "cell_type": "code",
   "execution_count": 47,
   "id": "0f4cbedc",
   "metadata": {},
   "outputs": [
    {
     "data": {
      "text/plain": [
       "array([2, 3, 4])"
      ]
     },
     "execution_count": 47,
     "metadata": {},
     "output_type": "execute_result"
    }
   ],
   "source": [
    "x[2:5] # index 2 ~ index 4"
   ]
  },
  {
   "cell_type": "code",
   "execution_count": 49,
   "id": "6e379873",
   "metadata": {},
   "outputs": [
    {
     "data": {
      "text/plain": [
       "array([0, 1, 2])"
      ]
     },
     "execution_count": 49,
     "metadata": {},
     "output_type": "execute_result"
    }
   ],
   "source": [
    "x[:-7] # 처음 ~ index 2 (-7 = 3, stop point인 3은 포함x)"
   ]
  },
  {
   "cell_type": "code",
   "execution_count": 50,
   "id": "adbb04ef",
   "metadata": {},
   "outputs": [
    {
     "data": {
      "text/plain": [
       "array([1, 3, 5])"
      ]
     },
     "execution_count": 50,
     "metadata": {},
     "output_type": "execute_result"
    }
   ],
   "source": [
    "x[1:7:2]"
   ]
  },
  {
   "cell_type": "code",
   "execution_count": 52,
   "id": "35d73026",
   "metadata": {},
   "outputs": [
    {
     "name": "stdout",
     "output_type": "stream",
     "text": [
      "[[ 0  1  2  3  4  5  6]\n",
      " [ 7  8  9 10 11 12 13]\n",
      " [14 15 16 17 18 19 20]\n",
      " [21 22 23 24 25 26 27]\n",
      " [28 29 30 31 32 33 34]]\n"
     ]
    }
   ],
   "source": [
    "y=np.arange(35).reshape(5,7)\n",
    "print(y)"
   ]
  },
  {
   "cell_type": "code",
   "execution_count": 54,
   "id": "0c0b91c4",
   "metadata": {},
   "outputs": [
    {
     "data": {
      "text/plain": [
       "array([[ 7, 10, 13],\n",
       "       [21, 24, 27]])"
      ]
     },
     "execution_count": 54,
     "metadata": {},
     "output_type": "execute_result"
    }
   ],
   "source": [
    "y[1:5:2, ::3] # 1, 3행 중에서 0, 3, 6 열 출력"
   ]
  },
  {
   "cell_type": "markdown",
   "id": "5f9afd3b",
   "metadata": {},
   "source": [
    "### Boolean indexing"
   ]
  },
  {
   "cell_type": "code",
   "execution_count": 55,
   "id": "df59f538",
   "metadata": {},
   "outputs": [
    {
     "name": "stdout",
     "output_type": "stream",
     "text": [
      "[[0 1 2]\n",
      " [3 4 5]]\n"
     ]
    }
   ],
   "source": [
    "a=np.array(range(6)).reshape(2,3) # range(6)=[0,1,2,3,4,5]\n",
    "print(a)"
   ]
  },
  {
   "cell_type": "code",
   "execution_count": 57,
   "id": "d9ee6e98",
   "metadata": {},
   "outputs": [
    {
     "name": "stdout",
     "output_type": "stream",
     "text": [
      "[[False False False]\n",
      " [ True  True  True]]\n"
     ]
    }
   ],
   "source": [
    "# 부등호 연산이 array 전체에서 가능하다!\n",
    "\n",
    "bool_idx = a > 2 # 각각 요소를 돌면서 2보다 큰지 판별\n",
    "print(bool_idx) # bool_idx 는 array 와 동일한 모양(2*3)"
   ]
  },
  {
   "cell_type": "code",
   "execution_count": 58,
   "id": "6816506e",
   "metadata": {},
   "outputs": [
    {
     "name": "stdout",
     "output_type": "stream",
     "text": [
      "[3 4 5]\n"
     ]
    }
   ],
   "source": [
    "print(a[bool_idx]) # True 요소 만을 return"
   ]
  },
  {
   "cell_type": "code",
   "execution_count": 59,
   "id": "c6cf50d2",
   "metadata": {},
   "outputs": [
    {
     "name": "stdout",
     "output_type": "stream",
     "text": [
      "[3 4 5]\n"
     ]
    }
   ],
   "source": [
    "a=np.array(range(6)).reshape(2,3)\n",
    "print(a[a>2]) # 동일한 결과"
   ]
  },
  {
   "cell_type": "markdown",
   "id": "92104413",
   "metadata": {},
   "source": [
    "### Array Slicing"
   ]
  },
  {
   "cell_type": "code",
   "execution_count": 60,
   "id": "64f5465e",
   "metadata": {},
   "outputs": [
    {
     "name": "stdout",
     "output_type": "stream",
     "text": [
      "[[ 1  2  3  4]\n",
      " [ 5  6  7  8]\n",
      " [ 9 10 11 12]]\n"
     ]
    }
   ],
   "source": [
    "a=np.array([[1,2,3,4],[5,6,7,8],[9,10,11,12]])\n",
    "print(a)"
   ]
  },
  {
   "cell_type": "code",
   "execution_count": 61,
   "id": "250f2905",
   "metadata": {},
   "outputs": [
    {
     "name": "stdout",
     "output_type": "stream",
     "text": [
      "[[1 2 3 4]\n",
      " [5 6 7 8]]\n"
     ]
    }
   ],
   "source": [
    "# shallow copy\n",
    "# 슬라이싱에서 얕은 복사가 일어남. b는 a의 일부를 가리키는 것 뿐\n",
    "b=a[:2] # 하나의 축(행)에 대한 인덱싱\n",
    "print(b)"
   ]
  },
  {
   "cell_type": "code",
   "execution_count": 62,
   "id": "95fde65e",
   "metadata": {},
   "outputs": [
    {
     "name": "stdout",
     "output_type": "stream",
     "text": [
      "[[ 2  3]\n",
      " [ 6  7]\n",
      " [10 11]]\n"
     ]
    }
   ],
   "source": [
    "c=a[:,1:3]\n",
    "print(c)"
   ]
  },
  {
   "cell_type": "code",
   "execution_count": 65,
   "id": "ac11926f",
   "metadata": {},
   "outputs": [
    {
     "name": "stdout",
     "output_type": "stream",
     "text": [
      "[[-1  2  3  4]\n",
      " [ 5  6  7  8]]\n"
     ]
    }
   ],
   "source": [
    "b[0,0]=-1\n",
    "print(b)"
   ]
  },
  {
   "cell_type": "code",
   "execution_count": 66,
   "id": "9eefb573",
   "metadata": {},
   "outputs": [
    {
     "name": "stdout",
     "output_type": "stream",
     "text": [
      "[[-1  2  3  4]\n",
      " [ 5  6  7  8]\n",
      " [ 9 10 11 12]]\n"
     ]
    }
   ],
   "source": [
    "print(a)"
   ]
  },
  {
   "cell_type": "code",
   "execution_count": 67,
   "id": "a6f44260",
   "metadata": {},
   "outputs": [
    {
     "name": "stdout",
     "output_type": "stream",
     "text": [
      "[[-1  2  3  4]\n",
      " [ 5  6  7  8]]\n"
     ]
    }
   ],
   "source": [
    "# deep copy\n",
    "b=np.copy(a[:2])\n",
    "print(b)"
   ]
  },
  {
   "cell_type": "code",
   "execution_count": 68,
   "id": "4f5b3cc7",
   "metadata": {},
   "outputs": [
    {
     "name": "stdout",
     "output_type": "stream",
     "text": [
      "[[1 2 3 4]\n",
      " [5 6 7 8]]\n"
     ]
    }
   ],
   "source": [
    "b[0,0]=1\n",
    "print(b)"
   ]
  },
  {
   "cell_type": "code",
   "execution_count": 69,
   "id": "a2fbc27c",
   "metadata": {},
   "outputs": [
    {
     "name": "stdout",
     "output_type": "stream",
     "text": [
      "[[-1  2  3  4]\n",
      " [ 5  6  7  8]\n",
      " [ 9 10 11 12]]\n"
     ]
    }
   ],
   "source": [
    "print(a)"
   ]
  },
  {
   "cell_type": "markdown",
   "id": "3c20c04a",
   "metadata": {},
   "source": [
    "### Shape Manipulation"
   ]
  },
  {
   "cell_type": "code",
   "execution_count": 74,
   "id": "7c2dc7f7",
   "metadata": {},
   "outputs": [
    {
     "name": "stdout",
     "output_type": "stream",
     "text": [
      "[[3. 1. 7. 8.]\n",
      " [9. 6. 3. 8.]\n",
      " [7. 5. 3. 9.]]\n",
      "\n",
      "(3, 4)\n",
      "\n",
      "[3. 1. 7. 8. 9. 6. 3. 8. 7. 5. 3. 9.]\n"
     ]
    }
   ],
   "source": [
    "a=np.floor(10*np.random.random((3,4))) # random 0~1\n",
    "print(a)\n",
    "print()\n",
    "print(a.shape)\n",
    "print()\n",
    "print(a.ravel()) # 펼치기, a자체를 바꾸지는 않음. 반환만"
   ]
  },
  {
   "cell_type": "code",
   "execution_count": 76,
   "id": "ad8bcc8c",
   "metadata": {},
   "outputs": [
    {
     "name": "stdout",
     "output_type": "stream",
     "text": [
      "[[3. 1.]\n",
      " [7. 8.]\n",
      " [9. 6.]\n",
      " [3. 8.]\n",
      " [7. 5.]\n",
      " [3. 9.]]\n",
      "[[3. 1. 7. 8.]\n",
      " [9. 6. 3. 8.]\n",
      " [7. 5. 3. 9.]]\n"
     ]
    }
   ],
   "source": [
    "print(a.reshape(6,2)) # 반환만\n",
    "print(a)"
   ]
  },
  {
   "cell_type": "code",
   "execution_count": 78,
   "id": "8f138baa",
   "metadata": {},
   "outputs": [
    {
     "name": "stdout",
     "output_type": "stream",
     "text": [
      "[[3. 1.]\n",
      " [7. 8.]\n",
      " [9. 6.]\n",
      " [3. 8.]\n",
      " [7. 5.]\n",
      " [3. 9.]]\n"
     ]
    }
   ],
   "source": [
    "a.resize(6,2) # a를 바꿈\n",
    "print(a)"
   ]
  },
  {
   "cell_type": "code",
   "execution_count": 79,
   "id": "863f2b97",
   "metadata": {},
   "outputs": [
    {
     "name": "stdout",
     "output_type": "stream",
     "text": [
      "[[3. 7. 9. 3. 7. 3.]\n",
      " [1. 8. 6. 8. 5. 9.]]\n"
     ]
    }
   ],
   "source": [
    "print(a.T) # transpose"
   ]
  },
  {
   "cell_type": "code",
   "execution_count": 82,
   "id": "99e9ca75",
   "metadata": {},
   "outputs": [
    {
     "name": "stdout",
     "output_type": "stream",
     "text": [
      "[[5. 5. 0. 1.]\n",
      " [4. 5. 7. 0.]\n",
      " [0. 1. 4. 5.]]\n",
      "[[5. 5.]\n",
      " [0. 1.]\n",
      " [4. 5.]\n",
      " [7. 0.]\n",
      " [0. 1.]\n",
      " [4. 5.]]\n"
     ]
    }
   ],
   "source": [
    "a=np.floor(10*np.random.random((3,4)))\n",
    "print(a)\n",
    "print(a.reshape(6,-1)) #(6,2) : -1을 넣어주면 올바른 값으로 resize해줌"
   ]
  },
  {
   "cell_type": "code",
   "execution_count": 87,
   "id": "e947461f",
   "metadata": {},
   "outputs": [
    {
     "name": "stdout",
     "output_type": "stream",
     "text": [
      "[[1. 2.]\n",
      " [8. 1.]]\n",
      "\n",
      "[[0. 1.]\n",
      " [5. 8.]]\n",
      "\n",
      "[[1. 2.]\n",
      " [8. 1.]\n",
      " [0. 1.]\n",
      " [5. 8.]]\n"
     ]
    }
   ],
   "source": [
    "a=np.floor(10*np.random.random((2,2)))\n",
    "b=np.floor(10*np.random.random((2,2)))\n",
    "\n",
    "print(a)\n",
    "print()\n",
    "print(b)\n",
    "print()\n",
    "print(np.vstack((a,b))) # 첫 번째 axis를 따라 쌓는다(행)"
   ]
  },
  {
   "cell_type": "code",
   "execution_count": 89,
   "id": "bafc7007",
   "metadata": {},
   "outputs": [
    {
     "name": "stdout",
     "output_type": "stream",
     "text": [
      "[[1. 2. 0. 1.]\n",
      " [8. 1. 5. 8.]]\n"
     ]
    }
   ],
   "source": [
    "print(np.hstack((a,b))) # 두 번째 axis를 따라 쌓는다(열)"
   ]
  },
  {
   "cell_type": "code",
   "execution_count": 91,
   "id": "2d2e18f6",
   "metadata": {},
   "outputs": [
    {
     "name": "stdout",
     "output_type": "stream",
     "text": [
      "[[4. 8. 4. 1. 6. 9.]\n",
      " [1. 7. 8. 2. 9. 6.]]\n",
      "\n"
     ]
    },
    {
     "data": {
      "text/plain": [
       "[array([[4., 8.],\n",
       "        [1., 7.]]),\n",
       " array([[4., 1.],\n",
       "        [8., 2.]]),\n",
       " array([[6., 9.],\n",
       "        [9., 6.]])]"
      ]
     },
     "execution_count": 91,
     "metadata": {},
     "output_type": "execute_result"
    }
   ],
   "source": [
    "a=np.floor(10*np.random.random(12)).reshape(2,6)\n",
    "print(a)\n",
    "print()\n",
    "\n",
    "np.hsplit(a,3) # 열 방향으로 나눈다."
   ]
  },
  {
   "cell_type": "code",
   "execution_count": 92,
   "id": "70fbfaab",
   "metadata": {},
   "outputs": [
    {
     "data": {
      "text/plain": [
       "[array([[4., 8., 4., 1., 6., 9.]]), array([[1., 7., 8., 2., 9., 6.]])]"
      ]
     },
     "execution_count": 92,
     "metadata": {},
     "output_type": "execute_result"
    }
   ],
   "source": [
    "np.vsplit(a,2) # 행 방향으로 나눈다."
   ]
  },
  {
   "cell_type": "markdown",
   "id": "6e90e434",
   "metadata": {},
   "source": [
    "### 실습1"
   ]
  },
  {
   "cell_type": "code",
   "execution_count": 100,
   "id": "b17ce9fd",
   "metadata": {},
   "outputs": [
    {
     "name": "stdout",
     "output_type": "stream",
     "text": [
      "[[1. 1. 1. 1. 1.]\n",
      " [1. 0. 0. 0. 1.]\n",
      " [1. 0. 0. 0. 1.]\n",
      " [1. 0. 0. 0. 1.]\n",
      " [1. 1. 1. 1. 1.]]\n"
     ]
    }
   ],
   "source": [
    "a=np.ones((5,5))\n",
    "a[1:-1,1:-1]=0\n",
    "print(a)"
   ]
  },
  {
   "cell_type": "code",
   "execution_count": 101,
   "id": "24cf9dff",
   "metadata": {},
   "outputs": [
    {
     "name": "stdout",
     "output_type": "stream",
     "text": [
      "[[0. 0. 0. 0. 0.]\n",
      " [0. 1. 1. 1. 0.]\n",
      " [0. 1. 1. 1. 0.]\n",
      " [0. 1. 1. 1. 0.]\n",
      " [0. 0. 0. 0. 0.]]\n"
     ]
    }
   ],
   "source": [
    "b=np.zeros((5,5))\n",
    "b[1:-1,1:-1]=1\n",
    "print(b)"
   ]
  },
  {
   "cell_type": "code",
   "execution_count": 106,
   "id": "e5487819",
   "metadata": {},
   "outputs": [
    {
     "name": "stdout",
     "output_type": "stream",
     "text": [
      "[[1. 1. 1.]\n",
      " [1. 1. 1.]\n",
      " [1. 1. 1.]]\n",
      "\n",
      "[[0. 0. 0. 0. 0.]\n",
      " [0. 1. 1. 1. 0.]\n",
      " [0. 1. 1. 1. 0.]\n",
      " [0. 1. 1. 1. 0.]\n",
      " [0. 0. 0. 0. 0.]]\n"
     ]
    }
   ],
   "source": [
    "x=np.ones((3,3))\n",
    "print(x)\n",
    "print()\n",
    "\n",
    "x=np.pad(x, pad_width=1, mode='constant', constant_values=0)\n",
    "print(x)"
   ]
  },
  {
   "cell_type": "markdown",
   "id": "755172c8",
   "metadata": {},
   "source": [
    "### 실습2"
   ]
  },
  {
   "cell_type": "code",
   "execution_count": 110,
   "id": "6a959865",
   "metadata": {},
   "outputs": [
    {
     "name": "stdout",
     "output_type": "stream",
     "text": [
      "Checkerboard pattern:\n",
      "[[0 1 0 1 0 1 0 1]\n",
      " [1 0 1 0 1 0 1 0]\n",
      " [0 1 0 1 0 1 0 1]\n",
      " [1 0 1 0 1 0 1 0]\n",
      " [0 1 0 1 0 1 0 1]\n",
      " [1 0 1 0 1 0 1 0]\n",
      " [0 1 0 1 0 1 0 1]\n",
      " [1 0 1 0 1 0 1 0]]\n"
     ]
    }
   ],
   "source": [
    "a=np.zeros((8,8),dtype=int)\n",
    "a[::2, 1::2] = 1\n",
    "a[1::2, ::2] = 1\n",
    "\n",
    "print(\"Checkerboard pattern:\")\n",
    "print(a)"
   ]
  },
  {
   "cell_type": "code",
   "execution_count": 109,
   "id": "6863e80b",
   "metadata": {},
   "outputs": [
    {
     "name": "stdout",
     "output_type": "stream",
     "text": [
      "[[0 1 0 1 0 1 0 1]\n",
      " [1 0 1 0 1 0 1 0]\n",
      " [0 1 0 1 0 1 0 1]\n",
      " [1 0 1 0 1 0 1 0]\n",
      " [0 1 0 1 0 1 0 1]\n",
      " [1 0 1 0 1 0 1 0]\n",
      " [0 1 0 1 0 1 0 1]\n",
      " [1 0 1 0 1 0 1 0]]\n"
     ]
    }
   ],
   "source": [
    "a=np.tile(np.array([[0,1],[1,0]]),(4,4))\n",
    "print(a)"
   ]
  },
  {
   "cell_type": "markdown",
   "id": "6c7a9a21",
   "metadata": {},
   "source": [
    "### 실습3"
   ]
  },
  {
   "cell_type": "code",
   "execution_count": 113,
   "id": "b906444f",
   "metadata": {},
   "outputs": [
    {
     "name": "stdout",
     "output_type": "stream",
     "text": [
      "[[[180  72]\n",
      "  [172  66]\n",
      "  [162  60]\n",
      "  [167  53]]\n",
      "\n",
      " [[176  80]\n",
      "  [155  60]\n",
      "  [177  77]\n",
      "  [130  40]]]\n",
      "\n",
      "155\n"
     ]
    }
   ],
   "source": [
    "a=np.array([180, 72, 172, 66, 162, 60, 167, 53, 176, 80, 155, 60, 177, 77, 130, 40])\n",
    "a.resize(2,4,2)\n",
    "print(a)\n",
    "print()\n",
    "\n",
    "print(a[1][1][0])"
   ]
  },
  {
   "cell_type": "markdown",
   "id": "ea9a4b5a",
   "metadata": {},
   "source": [
    "### Basic Operations\n",
    "* 산술연산은 기본으로 elementwise로 적용 : 각 자리끼리 연산"
   ]
  },
  {
   "cell_type": "code",
   "execution_count": 115,
   "id": "a59948b1",
   "metadata": {},
   "outputs": [
    {
     "name": "stdout",
     "output_type": "stream",
     "text": [
      "[[ 6  8]\n",
      " [10 12]]\n",
      "\n",
      "[[-4 -4]\n",
      " [-4 -4]]\n",
      "\n",
      "[[ 5 12]\n",
      " [21 32]]\n",
      "\n",
      "[[0.2        0.33333333]\n",
      " [0.42857143 0.5       ]]\n"
     ]
    }
   ],
   "source": [
    "x=np.array([[1,2],[3,4]])\n",
    "y=np.array([[5,6],[7,8]])\n",
    "\n",
    "print(x+y)\n",
    "print()\n",
    "\n",
    "print(x-y)\n",
    "print()\n",
    "\n",
    "print(x*y)\n",
    "print()\n",
    "\n",
    "print(x/y)"
   ]
  },
  {
   "cell_type": "code",
   "execution_count": 117,
   "id": "8ae2c6ab",
   "metadata": {},
   "outputs": [
    {
     "name": "stdout",
     "output_type": "stream",
     "text": [
      "[[ True  True]\n",
      " [ True  True]]\n",
      "\n",
      "[[False False]\n",
      " [False False]]\n",
      "\n",
      "[[False False]\n",
      " [False False]]\n",
      "\n",
      "[[ True  True]\n",
      " [ True  True]]\n"
     ]
    }
   ],
   "source": [
    "print(x<y)\n",
    "print()\n",
    "\n",
    "print(x>=y)\n",
    "print()\n",
    "\n",
    "print(x==y)\n",
    "print()\n",
    "\n",
    "print(x!=y)"
   ]
  },
  {
   "cell_type": "code",
   "execution_count": 118,
   "id": "a42df405",
   "metadata": {},
   "outputs": [
    {
     "data": {
      "text/plain": [
       "array([ 9.12945251, -9.88031624,  7.4511316 , -2.62374854])"
      ]
     },
     "execution_count": 118,
     "metadata": {},
     "output_type": "execute_result"
    }
   ],
   "source": [
    "a=np.array([20,30,40,50])\n",
    "10*np.sin(a) # 0과 1 사이 작은 값이므로 그냥 10 곱해줌"
   ]
  },
  {
   "cell_type": "markdown",
   "id": "7385634d",
   "metadata": {},
   "source": [
    "#### 행렬 곱 : @, dot"
   ]
  },
  {
   "cell_type": "code",
   "execution_count": 119,
   "id": "ffaceab1",
   "metadata": {},
   "outputs": [
    {
     "data": {
      "text/plain": [
       "array([[2, 1],\n",
       "       [0, 4]])"
      ]
     },
     "execution_count": 119,
     "metadata": {},
     "output_type": "execute_result"
    }
   ],
   "source": [
    "a=np.array([[1,1],[0,1]])\n",
    "b=np.array([[2,1],[3,4]])\n",
    "a*b"
   ]
  },
  {
   "cell_type": "code",
   "execution_count": 120,
   "id": "c93984e0",
   "metadata": {},
   "outputs": [
    {
     "data": {
      "text/plain": [
       "array([[5, 5],\n",
       "       [3, 4]])"
      ]
     },
     "execution_count": 120,
     "metadata": {},
     "output_type": "execute_result"
    }
   ],
   "source": [
    "a@b"
   ]
  },
  {
   "cell_type": "code",
   "execution_count": 121,
   "id": "9985e41f",
   "metadata": {},
   "outputs": [
    {
     "data": {
      "text/plain": [
       "array([[5, 5],\n",
       "       [3, 4]])"
      ]
     },
     "execution_count": 121,
     "metadata": {},
     "output_type": "execute_result"
    }
   ],
   "source": [
    "a.dot(b)"
   ]
  },
  {
   "cell_type": "code",
   "execution_count": 124,
   "id": "e6cf3e0a",
   "metadata": {},
   "outputs": [
    {
     "name": "stdout",
     "output_type": "stream",
     "text": [
      "[[0.15729386 0.39817888 0.58008238]\n",
      " [0.84460068 0.62919553 0.458885  ]]\n",
      "\n",
      "3.068236333133259\n",
      "0.15729386228569686\n"
     ]
    }
   ],
   "source": [
    "a=np.random.random((2,3))\n",
    "print(a)\n",
    "print()\n",
    "\n",
    "print(a.sum())\n",
    "print(a.min())"
   ]
  },
  {
   "cell_type": "markdown",
   "id": "47b9394a",
   "metadata": {},
   "source": [
    "### Broadcasting\n",
    "* elementwise 연산시 두 행렬이 같은 모양을 가져야함.\n",
    "* 이때 모양이 같지 않을 경우 한 항의 값을 반대쪽 크기에 맞게 확장하는 것\n",
    "* 후자 쪽이 자동으로 확장"
   ]
  },
  {
   "cell_type": "code",
   "execution_count": 123,
   "id": "1d7a838d",
   "metadata": {},
   "outputs": [
    {
     "name": "stdout",
     "output_type": "stream",
     "text": [
      "[[ 1  2  3]\n",
      " [ 4  5  6]\n",
      " [ 7  8  9]\n",
      " [10 11 12]]\n",
      "\n",
      "[1 0 1]\n",
      "\n",
      "[[ 2  2  4]\n",
      " [ 5  5  7]\n",
      " [ 8  8 10]\n",
      " [11 11 13]]\n"
     ]
    }
   ],
   "source": [
    "x=np.array(range(1,13)).reshape(4,3)\n",
    "print(x)\n",
    "print()\n",
    "\n",
    "v=np.array([1,0,1])\n",
    "print(v)\n",
    "print()\n",
    "\n",
    "y=x+v # 내부적으로 broadcasting이 일어나서 자동으로 연산함\n",
    "print(y)"
   ]
  },
  {
   "cell_type": "markdown",
   "id": "679386a0",
   "metadata": {},
   "source": [
    "### 주요 패키지\n",
    "* numpy.linalg : 선형대수 관련 함수\n",
    "* numpy.random : 난수 생성 관련 함수"
   ]
  },
  {
   "cell_type": "markdown",
   "id": "96cde726",
   "metadata": {},
   "source": [
    "### 실습4"
   ]
  },
  {
   "cell_type": "code",
   "execution_count": 126,
   "id": "1d74ea46",
   "metadata": {},
   "outputs": [
    {
     "name": "stdout",
     "output_type": "stream",
     "text": [
      "[10.  5.]\n"
     ]
    }
   ],
   "source": [
    "def linear_system_solver(ndarr, v):\n",
    "    y=np.linalg.inv(ndarr)@v\n",
    "    return y\n",
    "\n",
    "a=np.array([[1,1],[2,1]])\n",
    "b=np.array([15,25])\n",
    "c=linear_system_solver(a,b)\n",
    "print(c)"
   ]
  },
  {
   "cell_type": "markdown",
   "id": "bbe2b62c",
   "metadata": {},
   "source": [
    "### 실습5"
   ]
  },
  {
   "cell_type": "code",
   "execution_count": 127,
   "id": "edf525be",
   "metadata": {},
   "outputs": [
    {
     "name": "stdout",
     "output_type": "stream",
     "text": [
      "[[0.  0.4 0.9 0.5 0.2 0.5]\n",
      " [0.8 0.1 0.5 0.7 0.7 0.3]\n",
      " [0.8 0.  0.9 0.5 0.9 0.3]\n",
      " [0.7 0.3 0.2 0.6 0.1 0.3]]\n"
     ]
    }
   ],
   "source": [
    "data=np.random.random((4,6)).round(1)\n",
    "length=np.array([4,1,6,3])\n",
    "\n",
    "length=np.expand_dims(length,1)\n"
   ]
  },
  {
   "cell_type": "code",
   "execution_count": 128,
   "id": "5a6d7861",
   "metadata": {},
   "outputs": [
    {
     "name": "stdout",
     "output_type": "stream",
     "text": [
      "[4 1 6 3]\n"
     ]
    }
   ],
   "source": [
    "mask"
   ]
  },
  {
   "cell_type": "code",
   "execution_count": null,
   "id": "ead5d370",
   "metadata": {},
   "outputs": [],
   "source": []
  }
 ],
 "metadata": {
  "kernelspec": {
   "display_name": "Python 3 (ipykernel)",
   "language": "python",
   "name": "python3"
  },
  "language_info": {
   "codemirror_mode": {
    "name": "ipython",
    "version": 3
   },
   "file_extension": ".py",
   "mimetype": "text/x-python",
   "name": "python",
   "nbconvert_exporter": "python",
   "pygments_lexer": "ipython3",
   "version": "3.10.9"
  }
 },
 "nbformat": 4,
 "nbformat_minor": 5
}
