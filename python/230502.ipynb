{
 "cells": [
  {
   "cell_type": "markdown",
   "id": "58890915",
   "metadata": {},
   "source": [
    "## 집합\n",
    "* 중복된 원소가 존재하지 않는다.\n",
    "* 순서가 없다."
   ]
  },
  {
   "cell_type": "code",
   "execution_count": 2,
   "id": "76eea8d8",
   "metadata": {},
   "outputs": [
    {
     "data": {
      "text/plain": [
       "{1, 2, 3}"
      ]
     },
     "execution_count": 2,
     "metadata": {},
     "output_type": "execute_result"
    }
   ],
   "source": [
    "s1 = set([1,2,3])\n",
    "s1"
   ]
  },
  {
   "cell_type": "code",
   "execution_count": 3,
   "id": "85858867",
   "metadata": {},
   "outputs": [
    {
     "data": {
      "text/plain": [
       "{3, 4, 5}"
      ]
     },
     "execution_count": 3,
     "metadata": {},
     "output_type": "execute_result"
    }
   ],
   "source": [
    "s2 = {3,4,5}\n",
    "s2"
   ]
  },
  {
   "cell_type": "code",
   "execution_count": 4,
   "id": "7e002b98",
   "metadata": {},
   "outputs": [
    {
     "data": {
      "text/plain": [
       "'HelloHello'"
      ]
     },
     "execution_count": 4,
     "metadata": {},
     "output_type": "execute_result"
    }
   ],
   "source": [
    "word = \"Hello\"*2\n",
    "word"
   ]
  },
  {
   "cell_type": "code",
   "execution_count": 5,
   "id": "fb7ec33f",
   "metadata": {},
   "outputs": [],
   "source": [
    "word_list = list(word)"
   ]
  },
  {
   "cell_type": "code",
   "execution_count": 6,
   "id": "eb5ad908",
   "metadata": {},
   "outputs": [
    {
     "data": {
      "text/plain": [
       "['H', 'e', 'l', 'l', 'o', 'H', 'e', 'l', 'l', 'o']"
      ]
     },
     "execution_count": 6,
     "metadata": {},
     "output_type": "execute_result"
    }
   ],
   "source": [
    "word_list"
   ]
  },
  {
   "cell_type": "code",
   "execution_count": 9,
   "id": "dd0e2adb",
   "metadata": {},
   "outputs": [],
   "source": [
    "s3 = set(word_list)"
   ]
  },
  {
   "cell_type": "code",
   "execution_count": 10,
   "id": "80d4f0b7",
   "metadata": {},
   "outputs": [
    {
     "data": {
      "text/plain": [
       "{'H', 'e', 'l', 'o'}"
      ]
     },
     "execution_count": 10,
     "metadata": {},
     "output_type": "execute_result"
    }
   ],
   "source": [
    "s3"
   ]
  },
  {
   "cell_type": "code",
   "execution_count": 19,
   "id": "a39fb020",
   "metadata": {},
   "outputs": [],
   "source": [
    "s = {1,2,3,4,5,3,4}"
   ]
  },
  {
   "cell_type": "code",
   "execution_count": 20,
   "id": "169d2a6f",
   "metadata": {},
   "outputs": [
    {
     "data": {
      "text/plain": [
       "{1, 2, 3, 4, 5}"
      ]
     },
     "execution_count": 20,
     "metadata": {},
     "output_type": "execute_result"
    }
   ],
   "source": [
    "s"
   ]
  },
  {
   "cell_type": "markdown",
   "id": "79e04a45",
   "metadata": {},
   "source": [
    "### 항목 추가"
   ]
  },
  {
   "cell_type": "code",
   "execution_count": 21,
   "id": "b0738ade",
   "metadata": {},
   "outputs": [],
   "source": [
    "s.add(10)"
   ]
  },
  {
   "cell_type": "code",
   "execution_count": 22,
   "id": "4225d946",
   "metadata": {},
   "outputs": [
    {
     "data": {
      "text/plain": [
       "{1, 2, 3, 4, 5, 10}"
      ]
     },
     "execution_count": 22,
     "metadata": {},
     "output_type": "execute_result"
    }
   ],
   "source": [
    "s"
   ]
  },
  {
   "cell_type": "markdown",
   "id": "50904282",
   "metadata": {},
   "source": [
    "### 항목 삭제"
   ]
  },
  {
   "cell_type": "code",
   "execution_count": 23,
   "id": "5ddbaa17",
   "metadata": {},
   "outputs": [],
   "source": [
    "s.remove(2)"
   ]
  },
  {
   "cell_type": "code",
   "execution_count": 24,
   "id": "3b5f3539",
   "metadata": {},
   "outputs": [
    {
     "data": {
      "text/plain": [
       "{1, 3, 4, 5, 10}"
      ]
     },
     "execution_count": 24,
     "metadata": {},
     "output_type": "execute_result"
    }
   ],
   "source": [
    "s"
   ]
  },
  {
   "cell_type": "code",
   "execution_count": 25,
   "id": "f469a77c",
   "metadata": {},
   "outputs": [],
   "source": [
    "s.discard(7)"
   ]
  },
  {
   "cell_type": "code",
   "execution_count": 26,
   "id": "fbf4daf8",
   "metadata": {},
   "outputs": [
    {
     "data": {
      "text/plain": [
       "{1, 3, 4, 5, 10}"
      ]
     },
     "execution_count": 26,
     "metadata": {},
     "output_type": "execute_result"
    }
   ],
   "source": [
    "s"
   ]
  },
  {
   "cell_type": "markdown",
   "id": "1196a76c",
   "metadata": {},
   "source": [
    "### 항목 업데이트"
   ]
  },
  {
   "cell_type": "code",
   "execution_count": 27,
   "id": "228774f5",
   "metadata": {},
   "outputs": [],
   "source": [
    "s.update([1,3,5,7,9])"
   ]
  },
  {
   "cell_type": "code",
   "execution_count": 28,
   "id": "866691c1",
   "metadata": {},
   "outputs": [
    {
     "data": {
      "text/plain": [
       "{1, 3, 4, 5, 7, 9, 10}"
      ]
     },
     "execution_count": 28,
     "metadata": {},
     "output_type": "execute_result"
    }
   ],
   "source": [
    "s"
   ]
  },
  {
   "cell_type": "markdown",
   "id": "4e0504c5",
   "metadata": {},
   "source": [
    "### 항목 클리어"
   ]
  },
  {
   "cell_type": "code",
   "execution_count": 29,
   "id": "7cdd070c",
   "metadata": {},
   "outputs": [],
   "source": [
    "s.clear()"
   ]
  },
  {
   "cell_type": "code",
   "execution_count": 30,
   "id": "4ad97aeb",
   "metadata": {},
   "outputs": [
    {
     "data": {
      "text/plain": [
       "set()"
      ]
     },
     "execution_count": 30,
     "metadata": {},
     "output_type": "execute_result"
    }
   ],
   "source": [
    "s"
   ]
  },
  {
   "cell_type": "markdown",
   "id": "185dfe32",
   "metadata": {},
   "source": [
    "### 합집합, 교집합, 차집합"
   ]
  },
  {
   "cell_type": "code",
   "execution_count": 31,
   "id": "ed75a719",
   "metadata": {},
   "outputs": [],
   "source": [
    "s1={1,2,3}\n",
    "s2={3,4,5}"
   ]
  },
  {
   "cell_type": "code",
   "execution_count": 32,
   "id": "6be12ce4",
   "metadata": {},
   "outputs": [
    {
     "data": {
      "text/plain": [
       "{1, 2, 3, 4, 5}"
      ]
     },
     "execution_count": 32,
     "metadata": {},
     "output_type": "execute_result"
    }
   ],
   "source": [
    "s1.union(s2)"
   ]
  },
  {
   "cell_type": "code",
   "execution_count": 33,
   "id": "40323658",
   "metadata": {},
   "outputs": [
    {
     "data": {
      "text/plain": [
       "{3}"
      ]
     },
     "execution_count": 33,
     "metadata": {},
     "output_type": "execute_result"
    }
   ],
   "source": [
    "s1.intersection(s2)"
   ]
  },
  {
   "cell_type": "code",
   "execution_count": 37,
   "id": "505bf2e4",
   "metadata": {},
   "outputs": [
    {
     "data": {
      "text/plain": [
       "{1, 2}"
      ]
     },
     "execution_count": 37,
     "metadata": {},
     "output_type": "execute_result"
    }
   ],
   "source": [
    "s1.difference(s2)"
   ]
  },
  {
   "cell_type": "code",
   "execution_count": 35,
   "id": "f9da6cb0",
   "metadata": {},
   "outputs": [
    {
     "data": {
      "text/plain": [
       "{1, 2, 3, 4, 5}"
      ]
     },
     "execution_count": 35,
     "metadata": {},
     "output_type": "execute_result"
    }
   ],
   "source": [
    "s1|s2"
   ]
  },
  {
   "cell_type": "code",
   "execution_count": 36,
   "id": "d851f858",
   "metadata": {},
   "outputs": [
    {
     "data": {
      "text/plain": [
       "{3}"
      ]
     },
     "execution_count": 36,
     "metadata": {},
     "output_type": "execute_result"
    }
   ],
   "source": [
    "s1&s2"
   ]
  },
  {
   "cell_type": "code",
   "execution_count": 34,
   "id": "8e6a2124",
   "metadata": {},
   "outputs": [
    {
     "data": {
      "text/plain": [
       "{1, 2}"
      ]
     },
     "execution_count": 34,
     "metadata": {},
     "output_type": "execute_result"
    }
   ],
   "source": [
    "s1-s2"
   ]
  },
  {
   "cell_type": "markdown",
   "id": "c231a165",
   "metadata": {},
   "source": [
    "### 실습"
   ]
  },
  {
   "cell_type": "code",
   "execution_count": 73,
   "id": "5f883e96",
   "metadata": {},
   "outputs": [],
   "source": [
    "s3 = {x for x in range(1,101) if x%3==0}\n",
    "# s3 = {i for i in range(3,101,3)}\n",
    "s5 = {x for x in range(1,101) if x%5==0}\n",
    "# s5 = {i for i in range(5,101,5)}"
   ]
  },
  {
   "cell_type": "code",
   "execution_count": 79,
   "id": "0bc29a5f",
   "metadata": {},
   "outputs": [],
   "source": [
    "s={}\n",
    "s=s3&s5"
   ]
  },
  {
   "cell_type": "code",
   "execution_count": 80,
   "id": "dd0999e2",
   "metadata": {},
   "outputs": [
    {
     "name": "stdout",
     "output_type": "stream",
     "text": [
      "{75, 45, 15, 90, 60, 30}\n"
     ]
    }
   ],
   "source": [
    "print(s)"
   ]
  },
  {
   "cell_type": "code",
   "execution_count": 82,
   "id": "f9129564",
   "metadata": {},
   "outputs": [
    {
     "name": "stdout",
     "output_type": "stream",
     "text": [
      "{75, 45, 15, 90, 60, 30}\n",
      "3과 5의 공배수: 6 개\n"
     ]
    }
   ],
   "source": [
    "#s=sorted(s)\n",
    "print(s)\n",
    "print(\"3과 5의 공배수:\", len(s),\"개\")\n",
    "#print(\"3과 5의 공배수:\"+str(len(s))+\"개\")"
   ]
  },
  {
   "cell_type": "markdown",
   "id": "c835a75d",
   "metadata": {},
   "source": [
    "## 딕셔너리\n",
    "* key는 중복 될 수 없음\n",
    "* 항목 사이에 순서가 없음"
   ]
  },
  {
   "cell_type": "code",
   "execution_count": 1,
   "id": "a23b2908",
   "metadata": {},
   "outputs": [],
   "source": [
    "d={}\n",
    "d['kim']=1"
   ]
  },
  {
   "cell_type": "code",
   "execution_count": 2,
   "id": "11c51560",
   "metadata": {},
   "outputs": [
    {
     "data": {
      "text/plain": [
       "{'kim': 1}"
      ]
     },
     "execution_count": 2,
     "metadata": {},
     "output_type": "execute_result"
    }
   ],
   "source": [
    "d"
   ]
  },
  {
   "cell_type": "code",
   "execution_count": 3,
   "id": "5833fa4c",
   "metadata": {},
   "outputs": [],
   "source": [
    "d['park']=2"
   ]
  },
  {
   "cell_type": "code",
   "execution_count": 4,
   "id": "23cce25b",
   "metadata": {},
   "outputs": [
    {
     "data": {
      "text/plain": [
       "{'kim': 1, 'park': 2}"
      ]
     },
     "execution_count": 4,
     "metadata": {},
     "output_type": "execute_result"
    }
   ],
   "source": [
    "d"
   ]
  },
  {
   "cell_type": "code",
   "execution_count": 5,
   "id": "f79b2de7",
   "metadata": {},
   "outputs": [],
   "source": [
    "d['kim']=3"
   ]
  },
  {
   "cell_type": "code",
   "execution_count": 6,
   "id": "ff0f7dba",
   "metadata": {},
   "outputs": [
    {
     "data": {
      "text/plain": [
       "{'kim': 3, 'park': 2}"
      ]
     },
     "execution_count": 6,
     "metadata": {},
     "output_type": "execute_result"
    }
   ],
   "source": [
    "d"
   ]
  },
  {
   "cell_type": "code",
   "execution_count": 7,
   "id": "f566dd6f",
   "metadata": {},
   "outputs": [],
   "source": [
    "d['youn']=1"
   ]
  },
  {
   "cell_type": "code",
   "execution_count": 8,
   "id": "0639921a",
   "metadata": {},
   "outputs": [
    {
     "data": {
      "text/plain": [
       "{'kim': 3, 'park': 2, 'youn': 1}"
      ]
     },
     "execution_count": 8,
     "metadata": {},
     "output_type": "execute_result"
    }
   ],
   "source": [
    "d"
   ]
  },
  {
   "cell_type": "markdown",
   "id": "704bd2b2",
   "metadata": {},
   "source": [
    "### 키만 추출"
   ]
  },
  {
   "cell_type": "code",
   "execution_count": 9,
   "id": "3f5647a8",
   "metadata": {},
   "outputs": [
    {
     "data": {
      "text/plain": [
       "dict_keys(['kim', 'park', 'youn'])"
      ]
     },
     "execution_count": 9,
     "metadata": {},
     "output_type": "execute_result"
    }
   ],
   "source": [
    "d.keys()"
   ]
  },
  {
   "cell_type": "markdown",
   "id": "4974a1d3",
   "metadata": {},
   "source": [
    "### 값만 추출"
   ]
  },
  {
   "cell_type": "code",
   "execution_count": 10,
   "id": "f64da617",
   "metadata": {},
   "outputs": [
    {
     "data": {
      "text/plain": [
       "dict_values([3, 2, 1])"
      ]
     },
     "execution_count": 10,
     "metadata": {},
     "output_type": "execute_result"
    }
   ],
   "source": [
    "d.values()"
   ]
  },
  {
   "cell_type": "code",
   "execution_count": 11,
   "id": "293631a4",
   "metadata": {},
   "outputs": [
    {
     "data": {
      "text/plain": [
       "3"
      ]
     },
     "execution_count": 11,
     "metadata": {},
     "output_type": "execute_result"
    }
   ],
   "source": [
    "d['kim']"
   ]
  },
  {
   "cell_type": "markdown",
   "id": "91a8e9f6",
   "metadata": {},
   "source": [
    "### 딕셔너리에 키가 있는지 여부"
   ]
  },
  {
   "cell_type": "code",
   "execution_count": 13,
   "id": "5e98da18",
   "metadata": {},
   "outputs": [
    {
     "data": {
      "text/plain": [
       "True"
      ]
     },
     "execution_count": 13,
     "metadata": {},
     "output_type": "execute_result"
    }
   ],
   "source": [
    "'kim' in d"
   ]
  },
  {
   "cell_type": "code",
   "execution_count": 14,
   "id": "8d519ed7",
   "metadata": {},
   "outputs": [
    {
     "data": {
      "text/plain": [
       "False"
      ]
     },
     "execution_count": 14,
     "metadata": {},
     "output_type": "execute_result"
    }
   ],
   "source": [
    "'lee' in d"
   ]
  },
  {
   "cell_type": "code",
   "execution_count": 15,
   "id": "39ecd99c",
   "metadata": {},
   "outputs": [
    {
     "data": {
      "text/plain": [
       "{'kim': 3, 'park': 2, 'youn': 1}"
      ]
     },
     "execution_count": 15,
     "metadata": {},
     "output_type": "execute_result"
    }
   ],
   "source": [
    "d"
   ]
  },
  {
   "cell_type": "markdown",
   "id": "07db6933",
   "metadata": {},
   "source": [
    "### 항목 삭제"
   ]
  },
  {
   "cell_type": "code",
   "execution_count": 16,
   "id": "7ae49bc1",
   "metadata": {},
   "outputs": [],
   "source": [
    "del d['kim']"
   ]
  },
  {
   "cell_type": "code",
   "execution_count": 17,
   "id": "463211bd",
   "metadata": {},
   "outputs": [
    {
     "data": {
      "text/plain": [
       "{'park': 2, 'youn': 1}"
      ]
     },
     "execution_count": 17,
     "metadata": {},
     "output_type": "execute_result"
    }
   ],
   "source": [
    "d"
   ]
  },
  {
   "cell_type": "code",
   "execution_count": 18,
   "id": "5d4de8c0",
   "metadata": {},
   "outputs": [],
   "source": [
    "d.clear()"
   ]
  },
  {
   "cell_type": "code",
   "execution_count": 19,
   "id": "8f05e36d",
   "metadata": {},
   "outputs": [
    {
     "data": {
      "text/plain": [
       "{}"
      ]
     },
     "execution_count": 19,
     "metadata": {},
     "output_type": "execute_result"
    }
   ],
   "source": [
    "d"
   ]
  },
  {
   "cell_type": "markdown",
   "id": "9e8202e1",
   "metadata": {},
   "source": [
    "### 실습"
   ]
  },
  {
   "cell_type": "code",
   "execution_count": 27,
   "id": "660f78d5",
   "metadata": {},
   "outputs": [
    {
     "name": "stdout",
     "output_type": "stream",
     "text": [
      "Enter a sentence: Python\n",
      "{'P': 1, 'y': 1, 't': 1, 'h': 1, 'o': 1, 'n': 1}\n",
      "6 6\n"
     ]
    }
   ],
   "source": [
    "l=input(\"Enter a sentence: \")\n",
    "d={}\n",
    "for i in l:\n",
    "    if i in d:\n",
    "        d[i]+=1\n",
    "    else:\n",
    "        d[i]=1\n",
    "print(d)\n",
    "#print(sum(d.values()), len(l))"
   ]
  },
  {
   "cell_type": "code",
   "execution_count": 22,
   "id": "9ecd1404",
   "metadata": {},
   "outputs": [
    {
     "name": "stdout",
     "output_type": "stream",
     "text": [
      "Enter a sentence: Python is fun!\n",
      "{'P': 1, 'y': 1, 't': 1, 'h': 1, 'o': 1, 'n': 2, ' ': 2, 'i': 1, 's': 1, 'f': 1, 'u': 1, '!': 1}\n"
     ]
    }
   ],
   "source": [
    "l=input(\"Enter a sentence: \")\n",
    "d={}\n",
    "for i in l:\n",
    "    d[i]=l.count(i)\n",
    "print(d)"
   ]
  },
  {
   "cell_type": "markdown",
   "id": "525cc809",
   "metadata": {},
   "source": [
    "## 함수"
   ]
  },
  {
   "cell_type": "code",
   "execution_count": 23,
   "id": "01c32c2f",
   "metadata": {},
   "outputs": [
    {
     "name": "stdout",
     "output_type": "stream",
     "text": [
      "7\n",
      "12\n"
     ]
    }
   ],
   "source": [
    "def add_and_mul(a,b):\n",
    "    return (a+b, a*b)\n",
    "\n",
    "add_res, mul_res = add_and_mul(3,4)\n",
    "print(add_res)\n",
    "print(mul_res)"
   ]
  },
  {
   "cell_type": "markdown",
   "id": "cb30b1b0",
   "metadata": {},
   "source": [
    "### 실습1"
   ]
  },
  {
   "cell_type": "code",
   "execution_count": 24,
   "id": "6da138d3",
   "metadata": {},
   "outputs": [
    {
     "name": "stdout",
     "output_type": "stream",
     "text": [
      "6 14\n",
      "6 14\n"
     ]
    }
   ],
   "source": [
    "def my_len(x):\n",
    "    length=0\n",
    "    for i in x:\n",
    "        length+=1\n",
    "    return length\n",
    "\n",
    "a=[5,5,6,7,8,3]\n",
    "b='Life is short.'\n",
    "print(len(a), len(b))\n",
    "print(my_len(a), my_len(b))"
   ]
  },
  {
   "cell_type": "markdown",
   "id": "de62e9d5",
   "metadata": {},
   "source": [
    "### 실습2"
   ]
  },
  {
   "cell_type": "code",
   "execution_count": 29,
   "id": "5ee297cb",
   "metadata": {},
   "outputs": [
    {
     "name": "stdout",
     "output_type": "stream",
     "text": [
      "6\n",
      "120\n"
     ]
    }
   ],
   "source": [
    "def mult(a,b):\n",
    "    m=1\n",
    "    for i in range(a,b+1):\n",
    "        m*=i\n",
    "    return m\n",
    "\n",
    "print(mult(1,3))\n",
    "print(mult(2,5))"
   ]
  },
  {
   "cell_type": "markdown",
   "id": "20801a5e",
   "metadata": {},
   "source": [
    "### 실습3"
   ]
  },
  {
   "cell_type": "code",
   "execution_count": 30,
   "id": "82fb1cad",
   "metadata": {},
   "outputs": [
    {
     "name": "stdout",
     "output_type": "stream",
     "text": [
      "7 -9\n",
      "1 -1\n"
     ]
    }
   ],
   "source": [
    "def sum_pos_neg(l):\n",
    "    p,n=0,0\n",
    "    for i in l:\n",
    "        if i>0:\n",
    "            p+=i\n",
    "        else:\n",
    "            n+=i\n",
    "    return p,n\n",
    "\n",
    "possum,negsum = sum_pos_neg([3,4,-6,-3])\n",
    "print(possum,negsum)\n",
    "\n",
    "mylist=[0,0,0,0,0,0,0,0,0,1,-1]\n",
    "possum2,negsum2 = sum_pos_neg(mylist)\n",
    "print(possum2, negsum2)"
   ]
  },
  {
   "cell_type": "markdown",
   "id": "f0fe7db7",
   "metadata": {},
   "source": [
    "## 가변 매개변수\n",
    "* 여러 매개변수를 하나의 튜플로 받는다.\n",
    "* 입력 매개변수가 없더라도 가능(코드내에서 에러가 발생하지 않을 시)\n",
    "\n",
    "def f1(a, *b):    #정상\n",
    "\n",
    "def f2(a, *b, c): #에러\n",
    "\n",
    "def f3(*a, *b):   #에러\n",
    "\n",
    "def f4(a, b, *c): #정상\n",
    "\n",
    "* 가변 매개변수 뒤에는 일반 매개변수가 올 수 없음\n",
    "* 가변 매개변수는 하나만 사용 가능"
   ]
  },
  {
   "cell_type": "markdown",
   "id": "77a3829b",
   "metadata": {},
   "source": [
    "### 실습4"
   ]
  },
  {
   "cell_type": "code",
   "execution_count": 56,
   "id": "4c1e74d6",
   "metadata": {},
   "outputs": [
    {
     "name": "stdout",
     "output_type": "stream",
     "text": [
      "[1.5, 1.5] [7.5, 5.5] [4.13, 2.72]\n"
     ]
    }
   ],
   "source": [
    "def vector_sum(vector, *vectors):\n",
    "    x=vector[0]\n",
    "    y=vector[1]\n",
    "\n",
    "    for i in range(len(vectors)):\n",
    "        x+=vectors[i][0]\n",
    "        y+=vectors[i][1]\n",
    "    return [x,y]\n",
    "\n",
    "v1=[0, 1]\n",
    "v2=[0.5, 0.5]\n",
    "v3=[1, 0]\n",
    "v4=[6, 4]\n",
    "v5=[3.13, 2.72]\n",
    "\n",
    "m1 = vector_sum(v1, v2, v3)\n",
    "m2 = vector_sum(v1, v2, v3, v4)\n",
    "m3 = vector_sum(v3, v5)\n",
    "print(m1,m2,m3)"
   ]
  },
  {
   "cell_type": "code",
   "execution_count": 59,
   "id": "0da63c42",
   "metadata": {},
   "outputs": [
    {
     "name": "stdout",
     "output_type": "stream",
     "text": [
      "[1.5, 1.5] [7.5, 5.5] [4.13, 2.72]\n"
     ]
    }
   ],
   "source": [
    "def vector_sum(vector, *vectors):\n",
    "    #result=[vector[0],vector[1]]\n",
    "    result=vector[:]\n",
    "\n",
    "    for v in vectors:\n",
    "        result[0]+=v[0]\n",
    "        result[1]+=v[1]\n",
    "    return result\n",
    "\n",
    "v1=[0, 1]\n",
    "v2=[0.5, 0.5]\n",
    "v3=[1, 0]\n",
    "v4=[6, 4]\n",
    "v5=[3.13, 2.72]\n",
    "\n",
    "m1 = vector_sum(v1, v2, v3)\n",
    "m2 = vector_sum(v1, v2, v3, v4)\n",
    "m3 = vector_sum(v3, v5)\n",
    "print(m1,m2,m3)"
   ]
  },
  {
   "cell_type": "markdown",
   "id": "be7cd396",
   "metadata": {},
   "source": [
    "## 디폴트 매개변수\n",
    "\n",
    "def print_name(first, second='Kim'): # 정상\n",
    "\n",
    "def print_name(first='Kim', second): # 에러 발생\n",
    "\n",
    "def print_name(first, second, third='Kim'): # 정상\n",
    "\n",
    "def print_name(first, second='Kim', third='M') # 정상"
   ]
  },
  {
   "cell_type": "code",
   "execution_count": 61,
   "id": "0e7cb9fa",
   "metadata": {},
   "outputs": [
    {
     "name": "stdout",
     "output_type": "stream",
     "text": [
      "my name is Gildong kim.\n"
     ]
    }
   ],
   "source": [
    "def print_name(first,second='kim'):\n",
    "    print('my name is', first, second+'.')\n",
    "    \n",
    "print_name('Gildong')"
   ]
  },
  {
   "cell_type": "markdown",
   "id": "2c99f240",
   "metadata": {},
   "source": [
    "## 키워드 매개변수"
   ]
  },
  {
   "cell_type": "code",
   "execution_count": 62,
   "id": "5202c1be",
   "metadata": {},
   "outputs": [
    {
     "name": "stdout",
     "output_type": "stream",
     "text": [
      "60\n"
     ]
    },
    {
     "ename": "TypeError",
     "evalue": "calc() got multiple values for argument 'y'",
     "output_type": "error",
     "traceback": [
      "\u001b[0;31m---------------------------------------------------------------------------\u001b[0m",
      "\u001b[0;31mTypeError\u001b[0m                                 Traceback (most recent call last)",
      "Cell \u001b[0;32mIn[62], line 7\u001b[0m\n\u001b[1;32m      4\u001b[0m result\u001b[38;5;241m=\u001b[39mcalc(y\u001b[38;5;241m=\u001b[39m\u001b[38;5;241m20\u001b[39m, x\u001b[38;5;241m=\u001b[39m\u001b[38;5;241m10\u001b[39m, z\u001b[38;5;241m=\u001b[39m\u001b[38;5;241m30\u001b[39m)\n\u001b[1;32m      5\u001b[0m \u001b[38;5;28mprint\u001b[39m(result)\n\u001b[0;32m----> 7\u001b[0m \u001b[43mcalc\u001b[49m\u001b[43m(\u001b[49m\u001b[38;5;241;43m10\u001b[39;49m\u001b[43m,\u001b[49m\u001b[38;5;241;43m30\u001b[39;49m\u001b[43m,\u001b[49m\u001b[43my\u001b[49m\u001b[38;5;241;43m=\u001b[39;49m\u001b[38;5;241;43m20\u001b[39;49m\u001b[43m)\u001b[49m\n",
      "\u001b[0;31mTypeError\u001b[0m: calc() got multiple values for argument 'y'"
     ]
    }
   ],
   "source": [
    "def calc(x, y=0, z=0):\n",
    "    return x+y+z\n",
    "\n",
    "result=calc(y=20, x=10, z=30)\n",
    "print(result)\n",
    "\n",
    "calc(10,30,y=20)\n",
    "# x=10, y=30, y=20???? -> error"
   ]
  },
  {
   "cell_type": "code",
   "execution_count": 63,
   "id": "b1f3bff6",
   "metadata": {},
   "outputs": [
    {
     "name": "stdout",
     "output_type": "stream",
     "text": [
      "output hello\n"
     ]
    }
   ],
   "source": [
    "print(\"output\",end=\" \") # 디폴트 값이 end=\"\\n\"\n",
    "print(\"hello\")"
   ]
  },
  {
   "cell_type": "code",
   "execution_count": 64,
   "id": "d3861b58",
   "metadata": {},
   "outputs": [
    {
     "name": "stdout",
     "output_type": "stream",
     "text": [
      "[1, 2, 3, 20]\n"
     ]
    }
   ],
   "source": [
    "l=[1,20,2,3]\n",
    "print(sorted(l))"
   ]
  },
  {
   "cell_type": "code",
   "execution_count": 65,
   "id": "bccd307c",
   "metadata": {},
   "outputs": [
    {
     "name": "stdout",
     "output_type": "stream",
     "text": [
      "[20, 3, 2, 1]\n"
     ]
    }
   ],
   "source": [
    "print(sorted(l, reverse=True)) # 디폴트 값이 reverse=False"
   ]
  },
  {
   "cell_type": "markdown",
   "id": "699f3a8d",
   "metadata": {},
   "source": [
    "### 실습5"
   ]
  },
  {
   "cell_type": "code",
   "execution_count": 68,
   "id": "1d6552af",
   "metadata": {},
   "outputs": [
    {
     "name": "stdout",
     "output_type": "stream",
     "text": [
      "[1, 1, 2, 2, 3, 5, 9]\n",
      "[0, 4, 6, 9]\n",
      "[0, 0]\n"
     ]
    }
   ],
   "source": [
    "def merge_list(a=[0],b=[0]):\n",
    "    l=a+b\n",
    "    l.sort()\n",
    "    return l\n",
    "\n",
    "l = [3, 5, 9, 1, 2]\n",
    "ml1 = merge_list(l,[2,1])\n",
    "ml2 = merge_list([6,9,4])\n",
    "ml3 = merge_list()\n",
    "print(ml1) \n",
    "print(ml2) \n",
    "print(ml3)"
   ]
  },
  {
   "cell_type": "markdown",
   "id": "49186e34",
   "metadata": {},
   "source": [
    "## 지역변수, 전역변수\n",
    "* 함수 안에 있으면 지역변수\n",
    "* 함수 밖에 있으면 전역변수\n",
    "\n",
    "- 함수 안에서 전역변수 수정 불가, 수정하려면 함수 내에서 global"
   ]
  },
  {
   "cell_type": "markdown",
   "id": "6acf79d9",
   "metadata": {},
   "source": [
    "## 모듈(내장라이브러리)\n",
    "import module_name\n",
    "\n",
    "import module_name as mn # 모듈에 다른 이름 붙이기\n",
    "\n",
    "from module_name import func # 특정 함수만 불러오기"
   ]
  },
  {
   "cell_type": "markdown",
   "id": "d2e43873",
   "metadata": {},
   "source": [
    "## 난수 생성"
   ]
  },
  {
   "cell_type": "code",
   "execution_count": 69,
   "id": "e6f1498a",
   "metadata": {},
   "outputs": [],
   "source": [
    "import random"
   ]
  },
  {
   "cell_type": "code",
   "execution_count": 70,
   "id": "72b971ce",
   "metadata": {},
   "outputs": [
    {
     "data": {
      "text/plain": [
       "'b'"
      ]
     },
     "execution_count": 70,
     "metadata": {},
     "output_type": "execute_result"
    }
   ],
   "source": [
    "random.choice('abcdefg')"
   ]
  },
  {
   "cell_type": "code",
   "execution_count": 72,
   "id": "f3ef8246",
   "metadata": {},
   "outputs": [
    {
     "data": {
      "text/plain": [
       "3"
      ]
     },
     "execution_count": 72,
     "metadata": {},
     "output_type": "execute_result"
    }
   ],
   "source": [
    "random.randint(1,10) # a부터 b까지 포함하여 랜덤값 1개"
   ]
  },
  {
   "cell_type": "code",
   "execution_count": 73,
   "id": "18b79f11",
   "metadata": {},
   "outputs": [
    {
     "data": {
      "text/plain": [
       "10"
      ]
     },
     "execution_count": 73,
     "metadata": {},
     "output_type": "execute_result"
    }
   ],
   "source": [
    "random.randrange(1,11)"
   ]
  },
  {
   "cell_type": "code",
   "execution_count": 74,
   "id": "70485964",
   "metadata": {},
   "outputs": [
    {
     "name": "stdout",
     "output_type": "stream",
     "text": [
      "[3, 5, 2, 1, 4]\n"
     ]
    }
   ],
   "source": [
    "ls=[1,2,3,4,5]\n",
    "random.shuffle(ls) # 랜덤으로 섞기\n",
    "print(ls)"
   ]
  },
  {
   "cell_type": "code",
   "execution_count": 76,
   "id": "b221d97a",
   "metadata": {},
   "outputs": [
    {
     "data": {
      "text/plain": [
       "[2, 5, 6]"
      ]
     },
     "execution_count": 76,
     "metadata": {},
     "output_type": "execute_result"
    }
   ],
   "source": [
    "random.sample([1,2,3,4,5,6],3) # 리스트 중 랜덤으로 여러개 뽑기"
   ]
  },
  {
   "cell_type": "markdown",
   "id": "1862757b",
   "metadata": {},
   "source": [
    "### 실습6"
   ]
  },
  {
   "cell_type": "code",
   "execution_count": 77,
   "id": "bb2130dc",
   "metadata": {},
   "outputs": [
    {
     "name": "stdout",
     "output_type": "stream",
     "text": [
      "** 로또 번호 자동 기입을 시작합니다 **\n",
      "1번째 자동 기입 ==> 9 24 3 38 26 5 \n",
      "2번째 자동 기입 ==> 32 11 28 40 22 18 \n",
      "3번째 자동 기입 ==> 34 38 24 6 25 5 \n",
      "4번째 자동 기입 ==> 13 23 33 20 40 21 \n",
      "5번째 자동 기입 ==> 18 17 35 6 13 42 \n"
     ]
    }
   ],
   "source": [
    "import random\n",
    "print(\"** 로또 번호 자동 기입을 시작합니다 **\")\n",
    "l=[x for x in range(1,46)]\n",
    "for i in range(1,6):\n",
    "    s=random.sample(l,6)\n",
    "    print(\"%d번째 자동 기입 ==>\" %i, end=\" \")\n",
    "    for j in range(6):\n",
    "        print(s[j], end=\" \")\n",
    "    print()\n",
    "    "
   ]
  },
  {
   "cell_type": "markdown",
   "id": "9f1f2ffe",
   "metadata": {},
   "source": [
    "### 실습7"
   ]
  },
  {
   "cell_type": "code",
   "execution_count": 80,
   "id": "caa3a6dc",
   "metadata": {},
   "outputs": [
    {
     "name": "stdout",
     "output_type": "stream",
     "text": [
      "1\n",
      "9\n",
      "[3, 5, 2]\n"
     ]
    }
   ],
   "source": [
    "def get_min_max(l):\n",
    "    n=min(l)\n",
    "    m=max(l)\n",
    "    l.remove(n)\n",
    "    l.remove(m)\n",
    "    return n,m\n",
    "\n",
    "l=[3,5,9,1,2]\n",
    "min_val, max_val = get_min_max(l)\n",
    "\n",
    "print(min_val)\n",
    "print(max_val)\n",
    "print(l)"
   ]
  },
  {
   "cell_type": "markdown",
   "id": "f9f8bcd2",
   "metadata": {},
   "source": [
    "### 실습8"
   ]
  },
  {
   "cell_type": "code",
   "execution_count": 98,
   "id": "b9393a77",
   "metadata": {},
   "outputs": [
    {
     "name": "stdout",
     "output_type": "stream",
     "text": [
      "{'a': 3, 'b': 3, 'd': 7, 'e': 9, 'c': 4}\n"
     ]
    }
   ],
   "source": [
    "#import copy\n",
    "\n",
    "def comb_dict(d1,d2):\n",
    "    #d=copy.deepcopy(d1)\n",
    "    d=d1.copy()\n",
    "    \n",
    "    for i in d2.keys():\n",
    "        if i in d:\n",
    "            d[i]+=d2[i]\n",
    "        else:\n",
    "            d[i]=d2[i]\n",
    "    return d\n",
    "    \n",
    "d1 = {'a': 1, 'b': 3, 'd': 7, 'e': 8}\n",
    "d2 = {'a': 2, 'c': 4, 'e': 1}\n",
    "d3 = comb_dict(d1, d2)\n",
    "print(d3)"
   ]
  },
  {
   "cell_type": "markdown",
   "id": "55d1cb74",
   "metadata": {},
   "source": [
    "### 실습9"
   ]
  },
  {
   "cell_type": "code",
   "execution_count": 101,
   "id": "48923ea9",
   "metadata": {},
   "outputs": [
    {
     "name": "stdout",
     "output_type": "stream",
     "text": [
      "4\n",
      "300\n",
      "오류발생!\n"
     ]
    }
   ],
   "source": [
    "def diff(*x):\n",
    "    if len(x)<2:\n",
    "        print(\"오류발생!\")\n",
    "        return\n",
    "    else:\n",
    "        m=max(x)\n",
    "        n=min(x)\n",
    "        return m-n\n",
    "    \n",
    "print(diff(1,2,3,4,5))\n",
    "print(diff(-100,200))\n",
    "diff(1)"
   ]
  },
  {
   "cell_type": "code",
   "execution_count": null,
   "id": "1d570656",
   "metadata": {},
   "outputs": [],
   "source": []
  }
 ],
 "metadata": {
  "kernelspec": {
   "display_name": "Python 3 (ipykernel)",
   "language": "python",
   "name": "python3"
  },
  "language_info": {
   "codemirror_mode": {
    "name": "ipython",
    "version": 3
   },
   "file_extension": ".py",
   "mimetype": "text/x-python",
   "name": "python",
   "nbconvert_exporter": "python",
   "pygments_lexer": "ipython3",
   "version": "3.10.9"
  }
 },
 "nbformat": 4,
 "nbformat_minor": 5
}
